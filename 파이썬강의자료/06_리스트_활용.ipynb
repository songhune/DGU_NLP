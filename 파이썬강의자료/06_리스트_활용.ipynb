{
 "cells": [
  {
   "cell_type": "markdown",
   "metadata": {
    "collapsed": true
   },
   "source": [
    "# 6 리스트 활용\n",
    "\n",
    "목표 : 지정된 날짜 이후에 수정된 파일들 복사하는 코드 만들기"
   ]
  },
  {
   "cell_type": "markdown",
   "metadata": {},
   "source": [
    "## 6.1 파일 목록 얻기\n",
    "\n",
    "### 6.1.1 파일 목록 얻기 - `glob.glob`\n",
    "\n",
    "* `?`는 임의의 문자 1개와 일치 한다.\n",
    "* `*`는 임의 개수(0개 포함)의 모든 문자와 일치한다.\n",
    "* `[...]`는 괄호 안의 임의의 1개 문자와 일치한다.\n"
   ]
  },
  {
   "cell_type": "code",
   "execution_count": 1,
   "metadata": {
    "collapsed": false
   },
   "outputs": [
    {
     "data": {
      "text/plain": [
       "['C:\\\\Windows\\\\AsScrPro.exe',\n",
       " 'C:\\\\Windows\\\\ASUS_Scr_ZenbookPrime Uninstaller.exe',\n",
       " 'C:\\\\Windows\\\\bfsvc.exe',\n",
       " 'C:\\\\Windows\\\\explorer.exe',\n",
       " 'C:\\\\Windows\\\\fveupdate.exe',\n",
       " 'C:\\\\Windows\\\\HelpPane.exe',\n",
       " 'C:\\\\Windows\\\\hh.exe',\n",
       " 'C:\\\\Windows\\\\INISandBoxMonitor.10034.exe',\n",
       " 'C:\\\\Windows\\\\notepad.exe',\n",
       " 'C:\\\\Windows\\\\regedit.exe',\n",
       " 'C:\\\\Windows\\\\splwow64.exe',\n",
       " 'C:\\\\Windows\\\\ssopenfile.exe',\n",
       " 'C:\\\\Windows\\\\twunk_16.exe',\n",
       " 'C:\\\\Windows\\\\twunk_32.exe',\n",
       " 'C:\\\\Windows\\\\Wiainst64.exe',\n",
       " 'C:\\\\Windows\\\\winhlp32.exe',\n",
       " 'C:\\\\Windows\\\\write.exe']"
      ]
     },
     "execution_count": 1,
     "metadata": {},
     "output_type": "execute_result"
    }
   ],
   "source": [
    "import glob\n",
    "\n",
    "glob.glob(\"C:\\\\Windows\\\\*.exe\")"
   ]
  },
  {
   "cell_type": "code",
   "execution_count": 2,
   "metadata": {
    "collapsed": false
   },
   "outputs": [
    {
     "data": {
      "text/plain": [
       "['C:\\\\Windows\\\\BFB627D8035A76654C6101415631E58B7B3AD9CC_4.der',\n",
       " 'C:\\\\Windows\\\\bfsvc.exe',\n",
       " 'C:\\\\Windows\\\\bootstat.dat',\n",
       " 'C:\\\\Windows\\\\Core.xml',\n",
       " 'C:\\\\Windows\\\\csup.txt']"
      ]
     },
     "execution_count": 2,
     "metadata": {},
     "output_type": "execute_result"
    }
   ],
   "source": [
    "glob.glob('C:\\\\Windows\\\\[bc]*.*') # b혹은 c로 시작하는 파일들"
   ]
  },
  {
   "cell_type": "code",
   "execution_count": 3,
   "metadata": {
    "collapsed": false
   },
   "outputs": [
    {
     "data": {
      "text/plain": [
       "['C:\\\\Windows\\\\hh.exe']"
      ]
     },
     "execution_count": 3,
     "metadata": {},
     "output_type": "execute_result"
    }
   ],
   "source": [
    "glob.glob('C:\\\\Windows\\\\??.exe')"
   ]
  },
  {
   "cell_type": "markdown",
   "metadata": {},
   "source": [
    "### 6.1.2 더 강력한 파일 목록 얻기 - `os.walk()`\n",
    "\n",
    "디렉터리의 하위 트리 구조를 재귀적으로 검색해 가면서 디렉터리 목록과 파일 목록을 전달해 주는 객체를 생성"
   ]
  },
  {
   "cell_type": "code",
   "execution_count": 4,
   "metadata": {
    "collapsed": false
   },
   "outputs": [
    {
     "name": "stdout",
     "output_type": "stream",
     "text": [
      "curdir= .\n",
      "dirs= ['.ipynb_checkpoints', 'img']\n",
      "files= ['03_문자열.ipynb', '04_수치자료형.ipynb', '05_리스트.ipynb', '05_리스트_활용.ipynb', '06_사전.ipynb']\n",
      "------------------------------------------------------------\n",
      "curdir= .\\.ipynb_checkpoints\n",
      "dirs= []\n",
      "files= ['03_문자열-checkpoint.ipynb', '04_수치자료형-checkpoint.ipynb', '05_리스트-checkpoint.ipynb', '05_리스트_활용-checkpoint.ipynb', '06_사전-checkpoint.ipynb']\n",
      "------------------------------------------------------------\n",
      "curdir= .\\img\n",
      "dirs= []\n",
      "files= ['fixed-point-representation.png', 'floor_ceil_round2.jpg', 'format1.png', 'format2.png', 'format3.png']\n",
      "------------------------------------------------------------\n"
     ]
    }
   ],
   "source": [
    "import os\n",
    "\n",
    "for (curdir, dirs, files) in os.walk('.'):\n",
    "    print('curdir=', curdir)\n",
    "    print('dirs=', dirs[:5]) # 지면 관계상 5개까지만\n",
    "    print('files=', files[:5]) # 지면 관계상 5개까지만\n",
    "    print('-'*60)"
   ]
  },
  {
   "cell_type": "markdown",
   "metadata": {},
   "source": [
    "## 6.2 파일 경로 다루기\n"
   ]
  },
  {
   "cell_type": "code",
   "execution_count": 26,
   "metadata": {
    "collapsed": false
   },
   "outputs": [
    {
     "data": {
      "text/plain": [
       "'C:\\\\Users\\\\Lab-01\\\\Desktop\\\\파이썬강의자료'"
      ]
     },
     "execution_count": 26,
     "metadata": {},
     "output_type": "execute_result"
    }
   ],
   "source": [
    "import os\n",
    "\n",
    "os.path.abspath('.')"
   ]
  },
  {
   "cell_type": "code",
   "execution_count": 3,
   "metadata": {
    "collapsed": false
   },
   "outputs": [
    {
     "data": {
      "text/plain": [
       "'a.png'"
      ]
     },
     "execution_count": 3,
     "metadata": {},
     "output_type": "execute_result"
    }
   ],
   "source": [
    "os.path.basename('D:\\\\Projects\\\\PythonLecture\\\\a.png')"
   ]
  },
  {
   "cell_type": "code",
   "execution_count": 4,
   "metadata": {
    "collapsed": false
   },
   "outputs": [
    {
     "data": {
      "text/plain": [
       "'D:\\\\Projects\\\\PythonLecture'"
      ]
     },
     "execution_count": 4,
     "metadata": {},
     "output_type": "execute_result"
    }
   ],
   "source": [
    "os.path.commonpath(['D:\\\\Projects\\\\PythonLecture', 'D:\\\\Projects\\\\PythonLecture\\\\DeepLearning'])"
   ]
  },
  {
   "cell_type": "code",
   "execution_count": 14,
   "metadata": {
    "collapsed": false
   },
   "outputs": [
    {
     "data": {
      "text/plain": [
       "'C:\\\\Users\\\\Lab-01\\\\Desktop\\\\파이썬강의자료'"
      ]
     },
     "execution_count": 14,
     "metadata": {},
     "output_type": "execute_result"
    }
   ],
   "source": [
    "os.getcwd()"
   ]
  },
  {
   "cell_type": "code",
   "execution_count": 21,
   "metadata": {
    "collapsed": false
   },
   "outputs": [
    {
     "data": {
      "text/plain": [
       "'D:\\\\Projects\\\\PythonLecture'"
      ]
     },
     "execution_count": 21,
     "metadata": {},
     "output_type": "execute_result"
    }
   ],
   "source": [
    "os.path.dirname('D:\\\\Projects\\\\PythonLecture\\\\a.png')"
   ]
  },
  {
   "cell_type": "code",
   "execution_count": 22,
   "metadata": {
    "collapsed": false
   },
   "outputs": [
    {
     "data": {
      "text/plain": [
       "'..'"
      ]
     },
     "execution_count": 22,
     "metadata": {},
     "output_type": "execute_result"
    }
   ],
   "source": [
    "os.path.normpath('.\\\\..\\\\.')"
   ]
  },
  {
   "cell_type": "code",
   "execution_count": 23,
   "metadata": {
    "collapsed": false
   },
   "outputs": [
    {
     "data": {
      "text/plain": [
       "('D:\\\\Projects\\\\PythonLecture', 'a.png')"
      ]
     },
     "execution_count": 23,
     "metadata": {},
     "output_type": "execute_result"
    }
   ],
   "source": [
    "os.path.split('D:\\\\Projects\\\\PythonLecture\\\\a.png')"
   ]
  },
  {
   "cell_type": "code",
   "execution_count": 24,
   "metadata": {
    "collapsed": false
   },
   "outputs": [
    {
     "data": {
      "text/plain": [
       "('D:', '\\\\Projects\\\\PythonLecture\\\\a.png')"
      ]
     },
     "execution_count": 24,
     "metadata": {},
     "output_type": "execute_result"
    }
   ],
   "source": [
    "os.path.splitdrive('D:\\\\Projects\\\\PythonLecture\\\\a.png')"
   ]
  },
  {
   "cell_type": "code",
   "execution_count": 19,
   "metadata": {
    "collapsed": false
   },
   "outputs": [
    {
     "data": {
      "text/plain": [
       "('D:\\\\Projects\\\\PythonLecture\\\\a', '.png')"
      ]
     },
     "execution_count": 19,
     "metadata": {},
     "output_type": "execute_result"
    }
   ],
   "source": [
    "os.path.splitext('D:\\\\Projects\\\\PythonLecture\\\\a.png')"
   ]
  },
  {
   "cell_type": "code",
   "execution_count": 20,
   "metadata": {
    "collapsed": false
   },
   "outputs": [
    {
     "data": {
      "text/plain": [
       "'d:\\\\root\\\\a.png'"
      ]
     },
     "execution_count": 20,
     "metadata": {},
     "output_type": "execute_result"
    }
   ],
   "source": [
    "os.path.join('d:', '\\\\root', 'a.png')"
   ]
  },
  {
   "cell_type": "markdown",
   "metadata": {},
   "source": [
    "## 6.3 파일 속성 정보 알아내기\n",
    "\n",
    "파일 목록을 얻었으면 각 파일에 대한 속성 정보를 구해야 한다. 이 정보를 알아야 여러가지 작업이 가능하기 때문이다. \n",
    "`os.path` 모듈을 이용하여 파일의 다양한 속성을 확인할 수 있다."
   ]
  },
  {
   "cell_type": "code",
   "execution_count": 27,
   "metadata": {
    "collapsed": true
   },
   "outputs": [],
   "source": [
    "import os\n",
    "\n",
    "fpath = \"C:\\\\Windows\\\\notepad.exe\""
   ]
  },
  {
   "cell_type": "code",
   "execution_count": 28,
   "metadata": {
    "collapsed": false
   },
   "outputs": [
    {
     "data": {
      "text/plain": [
       "True"
      ]
     },
     "execution_count": 28,
     "metadata": {},
     "output_type": "execute_result"
    }
   ],
   "source": [
    "os.path.isfile(fpath)  # fpath가 일반파일이면 True를 반환한다."
   ]
  },
  {
   "cell_type": "code",
   "execution_count": 17,
   "metadata": {
    "collapsed": false
   },
   "outputs": [
    {
     "data": {
      "text/plain": [
       "False"
      ]
     },
     "execution_count": 17,
     "metadata": {},
     "output_type": "execute_result"
    }
   ],
   "source": [
    "os.path.isdir(fpath)   # fpath가 디렉터리(폴더)이면 True를 반환한다."
   ]
  },
  {
   "cell_type": "code",
   "execution_count": 18,
   "metadata": {
    "collapsed": false
   },
   "outputs": [
    {
     "data": {
      "text/plain": [
       "True"
      ]
     },
     "execution_count": 18,
     "metadata": {},
     "output_type": "execute_result"
    }
   ],
   "source": [
    "os.path.exists(fpath)  # fpath 파일이 존재하면 True를 반환한다."
   ]
  },
  {
   "cell_type": "code",
   "execution_count": 19,
   "metadata": {
    "collapsed": false
   },
   "outputs": [
    {
     "data": {
      "text/plain": [
       "217600"
      ]
     },
     "execution_count": 19,
     "metadata": {},
     "output_type": "execute_result"
    }
   ],
   "source": [
    "os.path.getsize(fpath) # 파일의 크기를 얻는다"
   ]
  },
  {
   "cell_type": "markdown",
   "metadata": {},
   "source": [
    "### 6.3.1 파일 수정시간/접근시간\n"
   ]
  },
  {
   "cell_type": "code",
   "execution_count": 29,
   "metadata": {
    "collapsed": false
   },
   "outputs": [
    {
     "data": {
      "text/plain": [
       "1377169212.5919275"
      ]
     },
     "execution_count": 29,
     "metadata": {},
     "output_type": "execute_result"
    }
   ],
   "source": [
    "os.path.getmtime(fpath)  # 파일 수정 시간"
   ]
  },
  {
   "cell_type": "code",
   "execution_count": 30,
   "metadata": {
    "collapsed": false
   },
   "outputs": [
    {
     "data": {
      "text/plain": [
       "1377169213.3732486"
      ]
     },
     "execution_count": 30,
     "metadata": {},
     "output_type": "execute_result"
    }
   ],
   "source": [
    "os.path.getatime(fpath)  # 파일 접근 시간"
   ]
  },
  {
   "cell_type": "markdown",
   "metadata": {},
   "source": [
    "### 6.3.2 시간의 해석\n"
   ]
  },
  {
   "cell_type": "code",
   "execution_count": 31,
   "metadata": {
    "collapsed": true
   },
   "outputs": [],
   "source": [
    "import time"
   ]
  },
  {
   "cell_type": "markdown",
   "metadata": {},
   "source": [
    "`time.time()`은 현재 시간을 돌려준다."
   ]
  },
  {
   "cell_type": "code",
   "execution_count": 35,
   "metadata": {
    "collapsed": false
   },
   "outputs": [
    {
     "data": {
      "text/plain": [
       "1487124724.487524"
      ]
     },
     "execution_count": 35,
     "metadata": {},
     "output_type": "execute_result"
    }
   ],
   "source": [
    "time.time()"
   ]
  },
  {
   "cell_type": "code",
   "execution_count": 42,
   "metadata": {
    "collapsed": false
   },
   "outputs": [
    {
     "data": {
      "text/plain": [
       "time.struct_time(tm_year=2017, tm_mon=2, tm_mday=15, tm_hour=11, tm_min=13, tm_sec=58, tm_wday=2, tm_yday=46, tm_isdst=0)"
      ]
     },
     "execution_count": 42,
     "metadata": {},
     "output_type": "execute_result"
    }
   ],
   "source": [
    "time.localtime()"
   ]
  },
  {
   "cell_type": "code",
   "execution_count": 34,
   "metadata": {
    "collapsed": false
   },
   "outputs": [
    {
     "data": {
      "text/plain": [
       "time.struct_time(tm_year=1973, tm_mon=11, tm_mday=26, tm_hour=9, tm_min=52, tm_sec=3, tm_wday=0, tm_yday=330, tm_isdst=0)"
      ]
     },
     "execution_count": 34,
     "metadata": {},
     "output_type": "execute_result"
    }
   ],
   "source": [
    "time.localtime(123123123)"
   ]
  },
  {
   "cell_type": "markdown",
   "metadata": {},
   "source": [
    "구조화된 시간을 변수에 저장해보자.\n",
    "이 값은 이름있는 튜플은 이름으로 접근할 수도 있고 인덱스로도 접근할 수 있다."
   ]
  },
  {
   "cell_type": "code",
   "execution_count": 26,
   "metadata": {
    "collapsed": false
   },
   "outputs": [
    {
     "data": {
      "text/plain": [
       "(2015, 11, 11, 6, 56, 0)"
      ]
     },
     "execution_count": 26,
     "metadata": {},
     "output_type": "execute_result"
    }
   ],
   "source": [
    "t = time.localtime(1447192560.872364)\n",
    "t.tm_year, t.tm_mon, t.tm_mday, t.tm_hour, t.tm_min, t.tm_sec"
   ]
  },
  {
   "cell_type": "markdown",
   "metadata": {},
   "source": [
    "슬라이싱으로 년월일, 시분초 등의 정보를 추출하면 편하다."
   ]
  },
  {
   "cell_type": "code",
   "execution_count": 27,
   "metadata": {
    "collapsed": false
   },
   "outputs": [
    {
     "data": {
      "text/plain": [
       "((2015, 11, 11), (2015, 11, 11, 6, 56, 0))"
      ]
     },
     "execution_count": 27,
     "metadata": {},
     "output_type": "execute_result"
    }
   ],
   "source": [
    "t[:3], t[:6]"
   ]
  },
  {
   "cell_type": "markdown",
   "metadata": {},
   "source": [
    "이 것으로 시간 형식을 만들 수 있다."
   ]
  },
  {
   "cell_type": "code",
   "execution_count": 28,
   "metadata": {
    "collapsed": false
   },
   "outputs": [
    {
     "data": {
      "text/plain": [
       "'2015-11-11 6:56:0'"
      ]
     },
     "execution_count": 28,
     "metadata": {},
     "output_type": "execute_result"
    }
   ],
   "source": [
    "'{}-{}-{} {}:{}:{}'.format(*t[:6])"
   ]
  },
  {
   "cell_type": "markdown",
   "metadata": {},
   "source": [
    "이 구조화된 정보로 부터 다시 숫자 시간으로 변환하려면 `time.mktime()`을 이용한다."
   ]
  },
  {
   "cell_type": "code",
   "execution_count": 29,
   "metadata": {
    "collapsed": false
   },
   "outputs": [
    {
     "data": {
      "text/plain": [
       "1447192560.0"
      ]
     },
     "execution_count": 29,
     "metadata": {},
     "output_type": "execute_result"
    }
   ],
   "source": [
    "time.mktime(t)"
   ]
  },
  {
   "cell_type": "markdown",
   "metadata": {},
   "source": [
    "`struct_time` 자료형 대신에 9개 값의 튜플을 이용할 수도 있다. \n",
    "다음은 주어진 시간 2015년 10월 19일 18시 8분 30초에 대한 하나의 숫자 시간을 계산한 예이다."
   ]
  },
  {
   "cell_type": "code",
   "execution_count": 30,
   "metadata": {
    "collapsed": false
   },
   "outputs": [
    {
     "data": {
      "text/plain": [
       "1445245710.0"
      ]
     },
     "execution_count": 30,
     "metadata": {},
     "output_type": "execute_result"
    }
   ],
   "source": [
    "time.mktime((2015, 10, 19, 18, 8, 30, 0, 0, 0))"
   ]
  },
  {
   "cell_type": "markdown",
   "metadata": {},
   "source": [
    "## 6.4 파일 다루기\n",
    "\n",
    "`os` 모듈의 `rename()`은 파일 이름을 바꾼다. 파일을 이동하는데도 사용할 수 있다."
   ]
  },
  {
   "cell_type": "code",
   "execution_count": 31,
   "metadata": {
    "collapsed": false
   },
   "outputs": [],
   "source": [
    "os.rename('a.py', 'b.py')   # a.py --> b.py"
   ]
  },
  {
   "cell_type": "code",
   "execution_count": 32,
   "metadata": {
    "collapsed": true
   },
   "outputs": [],
   "source": [
    "os.rename('t1.py', 'public_html/t1.py')  # 파일의 이동"
   ]
  },
  {
   "cell_type": "markdown",
   "metadata": {},
   "source": [
    "파일을 복사하는데는 `shutil` 모듈의 `copyfile`을 사용할 수 있다."
   ]
  },
  {
   "cell_type": "code",
   "execution_count": 33,
   "metadata": {
    "collapsed": true
   },
   "outputs": [],
   "source": [
    "import shutil\n",
    "\n",
    "shutil.copyfile('a.py', 'b.py')"
   ]
  },
  {
   "cell_type": "markdown",
   "metadata": {},
   "source": [
    "`os.remove()`는 파일을 삭제한다."
   ]
  },
  {
   "cell_type": "code",
   "execution_count": 34,
   "metadata": {
    "collapsed": true
   },
   "outputs": [],
   "source": [
    "os.remove('t.py')"
   ]
  },
  {
   "cell_type": "markdown",
   "metadata": {},
   "source": [
    "## 6.5 디렉터리 다루기\n"
   ]
  },
  {
   "cell_type": "code",
   "execution_count": 35,
   "metadata": {
    "collapsed": false
   },
   "outputs": [],
   "source": [
    "os.getcwd() # 현재 프로세스의 작업 디렉터리"
   ]
  },
  {
   "cell_type": "code",
   "execution_count": 36,
   "metadata": {
    "collapsed": true
   },
   "outputs": [],
   "source": [
    "os.chdir('d:\\\\') # 작업 중인 디렉터리를 변경"
   ]
  },
  {
   "cell_type": "code",
   "execution_count": 37,
   "metadata": {
    "collapsed": true
   },
   "outputs": [],
   "source": [
    "os.mkdir('temp')"
   ]
  },
  {
   "cell_type": "code",
   "execution_count": 38,
   "metadata": {
    "collapsed": true
   },
   "outputs": [],
   "source": [
    "os.rmdir('temp2')  # 내용이 없는 빈 디렉터리를 삭제"
   ]
  },
  {
   "cell_type": "code",
   "execution_count": 39,
   "metadata": {
    "collapsed": true
   },
   "outputs": [],
   "source": [
    "os.removedirs('level1/level2')"
   ]
  },
  {
   "cell_type": "code",
   "execution_count": 40,
   "metadata": {
    "collapsed": true
   },
   "outputs": [],
   "source": [
    "import shutil\n",
    "\n",
    "shutil.rmtree('temp')  # 주의!!! 하위 디렉터리까지 모두 한꺼번에 삭제"
   ]
  },
  {
   "cell_type": "markdown",
   "metadata": {},
   "source": [
    "디렉토리를 통째로 복사하는 것도 가능하다."
   ]
  },
  {
   "cell_type": "code",
   "execution_count": 41,
   "metadata": {
    "collapsed": true
   },
   "outputs": [],
   "source": [
    "shutil.copytree('public_html', 'myweb_backup')"
   ]
  },
  {
   "cell_type": "markdown",
   "metadata": {},
   "source": [
    "## 6.6 파일 다루기 예제\n",
    "\n",
    "지정된 날짜 이후에 수정된 파일들 복사하기"
   ]
  },
  {
   "cell_type": "code",
   "execution_count": 42,
   "metadata": {
    "collapsed": false
   },
   "outputs": [
    {
     "name": "stdout",
     "output_type": "stream",
     "text": [
      "[skipping directory] D:\\Projects\\PythonLecture\\DeepLearnigConference2017\\notebook\\.ipynb_checkpoints\n",
      "D:\\Projects\\PythonLecture\\DeepLearnigConference2017\\notebook\\.ipynb_checkpoints\\03_문자열-checkpoint.ipynb ==> d:\\tmp\\.ipynb_checkpoints\\03_문자열-checkpoint.ipynb\n",
      "D:\\Projects\\PythonLecture\\DeepLearnigConference2017\\notebook\\.ipynb_checkpoints\\04_수치자료형-checkpoint.ipynb ==> d:\\tmp\\.ipynb_checkpoints\\04_수치자료형-checkpoint.ipynb\n",
      "D:\\Projects\\PythonLecture\\DeepLearnigConference2017\\notebook\\.ipynb_checkpoints\\05_리스트-checkpoint.ipynb ==> d:\\tmp\\.ipynb_checkpoints\\05_리스트-checkpoint.ipynb\n",
      "D:\\Projects\\PythonLecture\\DeepLearnigConference2017\\notebook\\.ipynb_checkpoints\\05_리스트_활용-checkpoint.ipynb ==> d:\\tmp\\.ipynb_checkpoints\\05_리스트_활용-checkpoint.ipynb\n",
      "D:\\Projects\\PythonLecture\\DeepLearnigConference2017\\notebook\\.ipynb_checkpoints\\06_사전-checkpoint.ipynb ==> d:\\tmp\\.ipynb_checkpoints\\06_사전-checkpoint.ipynb\n",
      "D:\\Projects\\PythonLecture\\DeepLearnigConference2017\\notebook\\.ipynb_checkpoints\\07_객체직렬화-checkpoint.ipynb ==> d:\\tmp\\.ipynb_checkpoints\\07_객체직렬화-checkpoint.ipynb\n",
      "D:\\Projects\\PythonLecture\\DeepLearnigConference2017\\notebook\\.ipynb_checkpoints\\08_클래스와객체-checkpoint.ipynb ==> d:\\tmp\\.ipynb_checkpoints\\08_클래스와객체-checkpoint.ipynb\n",
      "D:\\Projects\\PythonLecture\\DeepLearnigConference2017\\notebook\\.ipynb_checkpoints\\numpy_codes-checkpoint.ipynb ==> d:\\tmp\\.ipynb_checkpoints\\numpy_codes-checkpoint.ipynb\n",
      "D:\\Projects\\PythonLecture\\DeepLearnigConference2017\\notebook\\.ipynb_checkpoints\\utility-checkpoint.ipynb ==> d:\\tmp\\.ipynb_checkpoints\\utility-checkpoint.ipynb\n",
      "[skipping directory] D:\\Projects\\PythonLecture\\DeepLearnigConference2017\\notebook\\.ipynb_checkpoints\\test\n",
      "D:\\Projects\\PythonLecture\\DeepLearnigConference2017\\notebook\\.ipynb_checkpoints\\test\\03_문자열-checkpoint.ipynb ==> d:\\tmp\\.ipynb_checkpoints\\test\\03_문자열-checkpoint.ipynb\n"
     ]
    }
   ],
   "source": [
    "import time\n",
    "import os\n",
    "import shutil #복사를 위해서\n",
    "\n",
    "def is_hidden(filepath): #피일 복사를 하는데 .으로 시작하는 애들은 다 지우기 위해서\n",
    "    for name in filepath.split(os.sep): #separate\n",
    "        if name.startswith('.'):\n",
    "            return True\n",
    "    return False\n",
    "\n",
    "start_tm = '2017-2-9 00:00:00'\n",
    "src_dir = os.path.abspath('.')\n",
    "dest = 'd:\\\\tmp'\n",
    "\n",
    "st = time.strptime(start_tm, '%Y-%m-%d %H:%M:%S')\n",
    "tm = time.mktime(st)\n",
    "\n",
    "for curdir, dirs, files in os.walk(src_dir):\n",
    "    if is_hidden(curdir):\n",
    "        print('[skipping directory]', curdir)\n",
    "        continue\n",
    "    for fname in files:\n",
    "        if os.path.splitext(fname)[1] in ('.ipynb', '.jpg'):\n",
    "            fpath = os.path.join(curdir, fname)\n",
    "            try:\n",
    "                if os.path.getmtime(fpath) >= tm:\n",
    "                    common = os.path.commonpath([src_dir, fpath])\n",
    "                    fpath2 = os.path.normpath(os.path.join(dest, fpath[len(common)+1:]))\n",
    "                    fpath2_dir = os.path.split(fpath2)[0]\n",
    "                    if not os.path.exists(fpath2_dir):\n",
    "                        os.makedirs(fpath2_dir)\n",
    "                    if not os.path.exists(fpath2):\n",
    "                        print(fpath, '==>', fpath2)\n",
    "                        shutil.copyfile(fpath, fpath2)\n",
    "            except FileNotFoundError as e:\n",
    "                print(e)"
   ]
  },
  {
   "cell_type": "markdown",
   "metadata": {},
   "source": [
    "### 6.6.1 퀴즈 1\n",
    "\n",
    "오늘 오전 7시 이후로 수정된 모든 파일 목록을 출력해보고, `backup_2015_11_10`과 같이 오늘 날짜로 된 폴더를 생성하여 한 장소에 모두 복사한다."
   ]
  },
  {
   "cell_type": "markdown",
   "metadata": {},
   "source": [
    "### 6.6.2 퀴즈 2\n",
    "\n",
    "작업을 하다보면 필요 없는 파일들이 생겨난다. 이들을 일괄적으로 삭제해보자. 예를 들어 확장자가 `.bak` 파일을 삭제해본다."
   ]
  },
  {
   "cell_type": "markdown",
   "metadata": {},
   "source": [
    "### 6.6.3 퀴즈 3\n",
    "\n",
    "파일 찾기 `os.walk`를 이용하여 부분 파일 이름으로 파일을 찾아보자."
   ]
  },
  {
   "cell_type": "markdown",
   "metadata": {},
   "source": [
    "만일 원한다면 찾아진 파일들을 다음 명령으로 한 번에 에디터로 불러올 수도 있다.\n",
    "만일 EditPlus3 혹은 sublime text가 설치 되어 있다면 다음 명령으로 위의 파일들은 한 번에 에디터에 올라온다."
   ]
  },
  {
   "cell_type": "code",
   "execution_count": 43,
   "metadata": {
    "collapsed": false
   },
   "outputs": [
    {
     "data": {
      "text/plain": [
       "<subprocess.Popen at 0x579ff60>"
      ]
     },
     "execution_count": 43,
     "metadata": {},
     "output_type": "execute_result"
    }
   ],
   "source": [
    "from subprocess import Popen\n",
    "\n",
    "Popen([r\"C:\\Program Files (x86)\\EditPlus 3\\editplus.exe\"] + flist)"
   ]
  },
  {
   "cell_type": "code",
   "execution_count": 44,
   "metadata": {
    "collapsed": false
   },
   "outputs": [
    {
     "data": {
      "text/plain": [
       "<subprocess.Popen at 0x579f198>"
      ]
     },
     "execution_count": 44,
     "metadata": {},
     "output_type": "execute_result"
    }
   ],
   "source": [
    "from subprocess import Popen\n",
    "\n",
    "Popen([r\"C:\\Program Files\\Sublime Text 3\\sublime_text.exe\"] + flist)"
   ]
  },
  {
   "cell_type": "code",
   "execution_count": 45,
   "metadata": {
    "collapsed": true
   },
   "outputs": [],
   "source": []
  }
 ],
 "metadata": {
  "kernelspec": {
   "display_name": "Python 3",
   "language": "python",
   "name": "python3"
  },
  "language_info": {
   "codemirror_mode": {
    "name": "ipython",
    "version": 3
   },
   "file_extension": ".py",
   "mimetype": "text/x-python",
   "name": "python",
   "nbconvert_exporter": "python",
   "pygments_lexer": "ipython3",
   "version": "3.6.0"
  }
 },
 "nbformat": 4,
 "nbformat_minor": 0
}

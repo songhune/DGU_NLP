{
 "cells": [
  {
   "cell_type": "markdown",
   "metadata": {},
   "source": [
    "# 4 수치자료형\n",
    "\n",
    " * 정수(integers)\n",
    "  * -5, 0, 1\n",
    " * 부동소수점(floating points)\n",
    "  * 3.5, 3.0, 3.\n",
    " * 복소수(complex numbers)\n",
    "  * 2+3j\n"
   ]
  },
  {
   "cell_type": "markdown",
   "metadata": {},
   "source": [
    "## 4.1 정수의 표현\n"
   ]
  },
  {
   "cell_type": "code",
   "execution_count": 1,
   "metadata": {
    "collapsed": false
   },
   "outputs": [
    {
     "data": {
      "text/plain": [
       "123"
      ]
     },
     "execution_count": 1,
     "metadata": {},
     "output_type": "execute_result"
    }
   ],
   "source": [
    "# 10진수\n",
    "123"
   ]
  },
  {
   "cell_type": "code",
   "execution_count": 2,
   "metadata": {
    "collapsed": false
   },
   "outputs": [
    {
     "data": {
      "text/plain": [
       "291"
      ]
     },
     "execution_count": 2,
     "metadata": {},
     "output_type": "execute_result"
    }
   ],
   "source": [
    "# 16진수\n",
    "0x123"
   ]
  },
  {
   "cell_type": "code",
   "execution_count": 3,
   "metadata": {
    "collapsed": false
   },
   "outputs": [
    {
     "data": {
      "text/plain": [
       "83"
      ]
     },
     "execution_count": 3,
     "metadata": {},
     "output_type": "execute_result"
    }
   ],
   "source": [
    "# 8진수\n",
    "0o123"
   ]
  },
  {
   "cell_type": "code",
   "execution_count": 4,
   "metadata": {
    "collapsed": false
   },
   "outputs": [
    {
     "data": {
      "text/plain": [
       "13"
      ]
     },
     "execution_count": 4,
     "metadata": {},
     "output_type": "execute_result"
    }
   ],
   "source": [
    "# 2진수\n",
    "0b1101"
   ]
  },
  {
   "cell_type": "markdown",
   "metadata": {},
   "source": [
    "## 4.2 부동 소수점\n"
   ]
  },
  {
   "cell_type": "markdown",
   "metadata": {},
   "source": [
    "컴퓨터는 항상 정확하다?"
   ]
  },
  {
   "cell_type": "code",
   "execution_count": 5,
   "metadata": {
    "collapsed": false
   },
   "outputs": [
    {
     "data": {
      "text/plain": [
       "5.551115123125783e-17"
      ]
     },
     "execution_count": 5,
     "metadata": {},
     "output_type": "execute_result"
    }
   ],
   "source": [
    "0.1+0.1+0.1-0.3"
   ]
  },
  {
   "cell_type": "markdown",
   "metadata": {},
   "source": [
    "<img src=\"img/IEEE_754_Double_Floating_Point_Format.png\">"
   ]
  },
  {
   "cell_type": "markdown",
   "metadata": {},
   "source": [
    "## 4.3 format 문자열\n"
   ]
  },
  {
   "cell_type": "code",
   "execution_count": 6,
   "metadata": {
    "collapsed": false
   },
   "outputs": [
    {
     "name": "stdout",
     "output_type": "stream",
     "text": [
      "0 0.0\n",
      "30 0.49999999999999994\n",
      "60 0.8660254037844386\n",
      "90 1.0\n",
      "120 0.8660254037844387\n",
      "150 0.49999999999999994\n",
      "180 1.2246467991473532e-16\n",
      "210 -0.5000000000000001\n",
      "240 -0.8660254037844385\n",
      "270 -1.0\n",
      "300 -0.8660254037844386\n",
      "330 -0.5000000000000004\n"
     ]
    }
   ],
   "source": [
    "import math\n",
    "\n",
    "for deg in range(0, 360, 30):\n",
    "    #start, stop, step-즉 간격\n",
    "    rad = math.radians(deg)\n",
    "    s = math.sin(rad)\n",
    "    print(deg, s)"
   ]
  },
  {
   "cell_type": "code",
   "execution_count": 7,
   "metadata": {
    "collapsed": false
   },
   "outputs": [
    {
     "name": "stdout",
     "output_type": "stream",
     "text": [
      "0 0.0\n",
      "30 0.49999999999999994\n",
      "60 0.8660254037844386\n",
      "90 1.0\n",
      "120 0.8660254037844387\n",
      "150 0.49999999999999994\n",
      "180 1.2246467991473532e-16\n",
      "210 -0.5000000000000001\n",
      "240 -0.8660254037844385\n",
      "270 -1.0\n",
      "300 -0.8660254037844386\n",
      "330 -0.5000000000000004\n"
     ]
    }
   ],
   "source": [
    "for deg in range(0, 360, 30):\n",
    "    rad = math.radians(deg)\n",
    "    s = math.sin(rad)\n",
    "    print('{} {}'.format(deg, s))"
   ]
  },
  {
   "cell_type": "markdown",
   "metadata": {},
   "source": [
    "<img src=\"img/format1.png\" width=500>"
   ]
  },
  {
   "cell_type": "code",
   "execution_count": 9,
   "metadata": {
    "collapsed": false
   },
   "outputs": [
    {
     "name": "stdout",
     "output_type": "stream",
     "text": [
      "  0 0.00\n",
      " 30 0.50\n",
      " 60 0.87\n",
      " 90 1.00\n",
      "120 0.87\n",
      "150 0.50\n",
      "180 0.00\n",
      "210 -0.50\n",
      "240 -0.87\n",
      "270 -1.00\n",
      "300 -0.87\n",
      "330 -0.50\n"
     ]
    }
   ],
   "source": [
    "for deg in range(0, 360, 30):\n",
    "    rad = math.radians(deg)\n",
    "    s = math.sin(rad)\n",
    "    print('{:3d} {:.2f}'.format(deg, s))"
   ]
  },
  {
   "cell_type": "markdown",
   "metadata": {},
   "source": [
    "<img src=\"img/format2.png\" width=600>\n",
    "<img src=\"img/format3.png\" width=500>"
   ]
  },
  {
   "cell_type": "code",
   "execution_count": 10,
   "metadata": {
    "collapsed": false
   },
   "outputs": [
    {
     "data": {
      "text/plain": [
       "'64 40 100 1000000'"
      ]
     },
     "execution_count": 10,
     "metadata": {},
     "output_type": "execute_result"
    }
   ],
   "source": [
    "'{0:d} {0:x} {0:o} {0:b}'.format(64)"
   ]
  },
  {
   "cell_type": "code",
   "execution_count": 11,
   "metadata": {
    "collapsed": false
   },
   "outputs": [
    {
     "data": {
      "text/plain": [
       "'123,456,789'"
      ]
     },
     "execution_count": 11,
     "metadata": {},
     "output_type": "execute_result"
    }
   ],
   "source": [
    "'{:,d}'.format(123456789)"
   ]
  },
  {
   "cell_type": "markdown",
   "metadata": {},
   "source": [
    "### 4.3.1 old style\n"
   ]
  },
  {
   "cell_type": "code",
   "execution_count": 12,
   "metadata": {
    "collapsed": false
   },
   "outputs": [
    {
     "data": {
      "text/plain": [
       "'123   2.33'"
      ]
     },
     "execution_count": 12,
     "metadata": {},
     "output_type": "execute_result"
    }
   ],
   "source": [
    "'%3d %6.2f' % (123, 2.334)"
   ]
  },
  {
   "cell_type": "markdown",
   "metadata": {},
   "source": [
    "## 4.4 for 문으로는 부족하다\n",
    "\n",
    "<img src=\"img/for문으론부족하다.png\" width=600>"
   ]
  },
  {
   "cell_type": "markdown",
   "metadata": {},
   "source": [
    "## 4.5 numpy\n",
    "\n",
    "\n",
    " * 파이썬 수치연산 패키지\n",
    " * 배열 연산에 기본을 둠 - 빠름\n",
    " * 수학, 과학, 공학 기술 계산을 위한 환경\n",
    " * Numeric --> numarray --> numpy\n",
    "  * powerful N-dimensional array object\n",
    "  * sophisticated (broadcasting) functions\n",
    "  * …\n",
    " * Platform independent\n",
    " * Open source \n",
    "\n",
    "\n",
    "Related packages\n",
    "\n",
    " * SciPy  (python-scipy)\n",
    "  * Python based eco-system built on top of numpy\n",
    " * Pandas\n",
    "  * Data structures & analysis\n",
    " * Scikit-learn\n",
    "  * Machine learning in Python\n",
    " * Matplotlib\n",
    "  * Comprehensive 2D plotting\n"
   ]
  },
  {
   "cell_type": "markdown",
   "metadata": {},
   "source": [
    "## 4.6 numpy 시작하기\n",
    "\n"
   ]
  },
  {
   "cell_type": "code",
   "execution_count": 14,
   "metadata": {
    "collapsed": true
   },
   "outputs": [],
   "source": [
    "import numpy as np"
   ]
  },
  {
   "cell_type": "code",
   "execution_count": 15,
   "metadata": {
    "collapsed": false
   },
   "outputs": [],
   "source": [
    "a1 = np.array([1, 2, 3])\n",
    "a2 = np.array([1.0, 2, 3])"
   ]
  },
  {
   "cell_type": "code",
   "execution_count": 16,
   "metadata": {
    "collapsed": false
   },
   "outputs": [
    {
     "data": {
      "text/plain": [
       "array([1, 2, 3])"
      ]
     },
     "execution_count": 16,
     "metadata": {},
     "output_type": "execute_result"
    }
   ],
   "source": [
    "a1"
   ]
  },
  {
   "cell_type": "code",
   "execution_count": 17,
   "metadata": {
    "collapsed": false
   },
   "outputs": [
    {
     "data": {
      "text/plain": [
       "array([ 1.,  2.,  3.])"
      ]
     },
     "execution_count": 17,
     "metadata": {},
     "output_type": "execute_result"
    }
   ],
   "source": [
    "a2"
   ]
  },
  {
   "cell_type": "code",
   "execution_count": 18,
   "metadata": {
    "collapsed": false
   },
   "outputs": [
    {
     "data": {
      "text/plain": [
       "(numpy.ndarray, numpy.ndarray)"
      ]
     },
     "execution_count": 18,
     "metadata": {},
     "output_type": "execute_result"
    }
   ],
   "source": [
    "type(a1), type(a2)"
   ]
  },
  {
   "cell_type": "code",
   "execution_count": 19,
   "metadata": {
    "collapsed": false
   },
   "outputs": [
    {
     "data": {
      "text/plain": [
       "dtype('int32')"
      ]
     },
     "execution_count": 19,
     "metadata": {},
     "output_type": "execute_result"
    }
   ],
   "source": [
    "a1.dtype"
   ]
  },
  {
   "cell_type": "code",
   "execution_count": 20,
   "metadata": {
    "collapsed": false
   },
   "outputs": [
    {
     "data": {
      "text/plain": [
       "dtype('float64')"
      ]
     },
     "execution_count": 20,
     "metadata": {},
     "output_type": "execute_result"
    }
   ],
   "source": [
    "a2.dtype"
   ]
  },
  {
   "cell_type": "code",
   "execution_count": 21,
   "metadata": {
    "collapsed": false
   },
   "outputs": [
    {
     "data": {
      "text/plain": [
       "dtype('float64')"
      ]
     },
     "execution_count": 21,
     "metadata": {},
     "output_type": "execute_result"
    }
   ],
   "source": [
    "b = np.array([1,2,3], dtype=np.float64)\n",
    "b.dtype"
   ]
  },
  {
   "cell_type": "code",
   "execution_count": 27,
   "metadata": {
    "collapsed": false
   },
   "outputs": [
    {
     "data": {
      "text/plain": [
       "array([ 1.,  2.,  3.])"
      ]
     },
     "execution_count": 27,
     "metadata": {},
     "output_type": "execute_result"
    }
   ],
   "source": [
    "a1.astype(np.float64)  # type conversion. 자세한 목록은 아래에 있음"
   ]
  },
  {
   "cell_type": "code",
   "execution_count": 28,
   "metadata": {
    "collapsed": false
   },
   "outputs": [
    {
     "data": {
      "text/plain": [
       "array([1, 2, 3], dtype=uint8)"
      ]
     },
     "execution_count": 28,
     "metadata": {},
     "output_type": "execute_result"
    }
   ],
   "source": [
    "a2.astype(np.uint8)"
   ]
  },
  {
   "cell_type": "markdown",
   "metadata": {},
   "source": [
    "## 4.7 numpy 기본 연산\n",
    "\n",
    "### 4.7.1 일차원 배열\n"
   ]
  },
  {
   "cell_type": "code",
   "execution_count": 30,
   "metadata": {
    "collapsed": false
   },
   "outputs": [],
   "source": [
    "a = np.arange(0, 10)\n",
    "b = np.arange(10, 20)"
   ]
  },
  {
   "cell_type": "code",
   "execution_count": 31,
   "metadata": {
    "collapsed": false
   },
   "outputs": [
    {
     "data": {
      "text/plain": [
       "array([0, 1, 2, 3, 4, 5, 6, 7, 8, 9])"
      ]
     },
     "execution_count": 31,
     "metadata": {},
     "output_type": "execute_result"
    }
   ],
   "source": [
    "a"
   ]
  },
  {
   "cell_type": "code",
   "execution_count": 32,
   "metadata": {
    "collapsed": false
   },
   "outputs": [
    {
     "data": {
      "text/plain": [
       "array([10, 12, 14, 16, 18, 20, 22, 24, 26, 28])"
      ]
     },
     "execution_count": 32,
     "metadata": {},
     "output_type": "execute_result"
    }
   ],
   "source": [
    "a + b\n",
    "#for 루프를 돌릴 필요가 없다"
   ]
  },
  {
   "cell_type": "code",
   "execution_count": 26,
   "metadata": {
    "collapsed": false
   },
   "outputs": [
    {
     "data": {
      "text/plain": [
       "array([ 0.        ,  0.09090909,  0.16666667,  0.23076923,  0.28571429,\n",
       "        0.33333333,  0.375     ,  0.41176471,  0.44444444,  0.47368421])"
      ]
     },
     "execution_count": 26,
     "metadata": {},
     "output_type": "execute_result"
    }
   ],
   "source": [
    "a / b"
   ]
  },
  {
   "cell_type": "markdown",
   "metadata": {},
   "source": [
    "### 4.7.2 broadcasting\n"
   ]
  },
  {
   "cell_type": "code",
   "execution_count": 33,
   "metadata": {
    "collapsed": false
   },
   "outputs": [
    {
     "data": {
      "text/plain": [
       "array([10, 11, 12, 13, 14, 15, 16, 17, 18, 19])"
      ]
     },
     "execution_count": 33,
     "metadata": {},
     "output_type": "execute_result"
    }
   ],
   "source": [
    "a + 10 \n",
    "#각 요소에 다 붙는다... 왜?!"
   ]
  },
  {
   "cell_type": "markdown",
   "metadata": {},
   "source": [
    "### 4.7.3 이차원 배열\n"
   ]
  },
  {
   "cell_type": "code",
   "execution_count": 35,
   "metadata": {
    "collapsed": false
   },
   "outputs": [],
   "source": [
    "a = np.array([[1,2],[3,4]])\n",
    "b = np.array([[3,4],[4,5]])"
   ]
  },
  {
   "cell_type": "code",
   "execution_count": 36,
   "metadata": {
    "collapsed": false
   },
   "outputs": [
    {
     "data": {
      "text/plain": [
       "array([[1, 2],\n",
       "       [3, 4]])"
      ]
     },
     "execution_count": 36,
     "metadata": {},
     "output_type": "execute_result"
    }
   ],
   "source": [
    "a"
   ]
  },
  {
   "cell_type": "code",
   "execution_count": 37,
   "metadata": {
    "collapsed": false
   },
   "outputs": [
    {
     "data": {
      "text/plain": [
       "(2, 2)"
      ]
     },
     "execution_count": 37,
     "metadata": {},
     "output_type": "execute_result"
    }
   ],
   "source": [
    "a.shape #생긴 꼬라지를 보여줌"
   ]
  },
  {
   "cell_type": "code",
   "execution_count": 38,
   "metadata": {
    "collapsed": false
   },
   "outputs": [
    {
     "data": {
      "text/plain": [
       "array([[2, 3],\n",
       "       [4, 5]])"
      ]
     },
     "execution_count": 38,
     "metadata": {},
     "output_type": "execute_result"
    }
   ],
   "source": [
    "a + 1"
   ]
  },
  {
   "cell_type": "code",
   "execution_count": 40,
   "metadata": {
    "collapsed": false
   },
   "outputs": [
    {
     "data": {
      "text/plain": [
       "array([[4, 6],\n",
       "       [7, 9]])"
      ]
     },
     "execution_count": 40,
     "metadata": {},
     "output_type": "execute_result"
    }
   ],
   "source": [
    "a + b"
   ]
  },
  {
   "cell_type": "code",
   "execution_count": 41,
   "metadata": {
    "collapsed": false
   },
   "outputs": [
    {
     "data": {
      "text/plain": [
       "array([[ 3,  8],\n",
       "       [12, 20]])"
      ]
     },
     "execution_count": 41,
     "metadata": {},
     "output_type": "execute_result"
    }
   ],
   "source": [
    "a * b #element끼리만 곱해짐, 행렬곱을 하려면... dot!를 쓴다"
   ]
  },
  {
   "cell_type": "code",
   "execution_count": 42,
   "metadata": {
    "collapsed": false
   },
   "outputs": [
    {
     "data": {
      "text/plain": [
       "array([[11, 14],\n",
       "       [25, 32]])"
      ]
     },
     "execution_count": 42,
     "metadata": {},
     "output_type": "execute_result"
    }
   ],
   "source": [
    "np.dot(a, b)"
   ]
  },
  {
   "cell_type": "markdown",
   "metadata": {},
   "source": [
    "## 4.8 array 인덱싱 & 슬라이싱\n"
   ]
  },
  {
   "cell_type": "code",
   "execution_count": 49,
   "metadata": {
    "collapsed": true
   },
   "outputs": [],
   "source": [
    "a = np.array( [ [1,2,3], [4,5,6] ] )"
   ]
  },
  {
   "cell_type": "code",
   "execution_count": 50,
   "metadata": {
    "collapsed": false
   },
   "outputs": [
    {
     "data": {
      "text/plain": [
       "array([[1, 2, 3],\n",
       "       [4, 5, 6]])"
      ]
     },
     "execution_count": 50,
     "metadata": {},
     "output_type": "execute_result"
    }
   ],
   "source": [
    "a"
   ]
  },
  {
   "cell_type": "code",
   "execution_count": 52,
   "metadata": {
    "collapsed": false
   },
   "outputs": [
    {
     "data": {
      "text/plain": [
       "(2, 3)"
      ]
     },
     "execution_count": 52,
     "metadata": {},
     "output_type": "execute_result"
    }
   ],
   "source": [
    "a.shape"
   ]
  },
  {
   "cell_type": "code",
   "execution_count": 44,
   "metadata": {
    "collapsed": false
   },
   "outputs": [
    {
     "data": {
      "text/plain": [
       "6"
      ]
     },
     "execution_count": 44,
     "metadata": {},
     "output_type": "execute_result"
    }
   ],
   "source": [
    "a[1,2]"
   ]
  },
  {
   "cell_type": "code",
   "execution_count": 45,
   "metadata": {
    "collapsed": false
   },
   "outputs": [
    {
     "data": {
      "text/plain": [
       "array([2, 5])"
      ]
     },
     "execution_count": 45,
     "metadata": {},
     "output_type": "execute_result"
    }
   ],
   "source": [
    "a[:, 1] #모든 행의 전체 열"
   ]
  },
  {
   "cell_type": "code",
   "execution_count": 46,
   "metadata": {
    "collapsed": false
   },
   "outputs": [
    {
     "data": {
      "text/plain": [
       "array([4, 5, 6])"
      ]
     },
     "execution_count": 46,
     "metadata": {},
     "output_type": "execute_result"
    }
   ],
   "source": [
    "a[1, :]"
   ]
  },
  {
   "cell_type": "code",
   "execution_count": 53,
   "metadata": {
    "collapsed": false
   },
   "outputs": [
    {
     "data": {
      "text/plain": [
       "array([[1, 2, 3],\n",
       "       [4, 5, 6]])"
      ]
     },
     "execution_count": 53,
     "metadata": {},
     "output_type": "execute_result"
    }
   ],
   "source": [
    "a[:,:] #이 엘리먼트의 엘리먼트들이 copy가 되므로 쓸모가 있다. a[:,:]에"
   ]
  },
  {
   "cell_type": "code",
   "execution_count": 48,
   "metadata": {
    "collapsed": false
   },
   "outputs": [
    {
     "data": {
      "text/plain": [
       "array([ 0,  2,  4,  6,  8, 10, 12, 14, 16, 18])"
      ]
     },
     "execution_count": 48,
     "metadata": {},
     "output_type": "execute_result"
    }
   ],
   "source": [
    "a = np.arange(20)\n",
    "a[::2]\n",
    "#2개씩 건너뜀"
   ]
  },
  {
   "cell_type": "markdown",
   "metadata": {},
   "source": [
    "### 4.8.1 Ellipsis를 사용한 슬라이싱\n"
   ]
  },
  {
   "cell_type": "code",
   "execution_count": 56,
   "metadata": {
    "collapsed": false
   },
   "outputs": [
    {
     "data": {
      "text/plain": [
       "array([[[[-2.46769808, -0.84238005,  1.04522239],\n",
       "         [-1.1917119 ,  1.57807645,  0.4894781 ],\n",
       "         [-1.14644513,  0.76823116, -0.89267   ]],\n",
       "\n",
       "        [[-0.66420798,  1.0872519 , -1.31198639],\n",
       "         [-1.68557581,  0.28746641,  2.04492565],\n",
       "         [-0.99165127,  1.04430522,  1.05002006]]],\n",
       "\n",
       "\n",
       "       [[[ 0.61984037, -0.75832434,  1.26699902],\n",
       "         [-0.49922772, -0.92873364, -1.47326539],\n",
       "         [-1.29965702, -0.1685155 , -0.39547724]],\n",
       "\n",
       "        [[ 1.58034797, -0.84653014,  0.07204569],\n",
       "         [ 0.71514087, -1.22732642, -1.12464286],\n",
       "         [-1.3534043 ,  1.16854058, -0.72616392]]]])"
      ]
     },
     "execution_count": 56,
     "metadata": {},
     "output_type": "execute_result"
    }
   ],
   "source": [
    "a = np.random.randn(2,2,3,3)#난수발생 4차원 배열 생성\n",
    "a.shape\n",
    "a"
   ]
  },
  {
   "cell_type": "code",
   "execution_count": 57,
   "metadata": {
    "collapsed": false
   },
   "outputs": [
    {
     "data": {
      "text/plain": [
       "array([[-2.46769808, -0.84238005,  1.04522239],\n",
       "       [-1.1917119 ,  1.57807645,  0.4894781 ],\n",
       "       [-1.14644513,  0.76823116, -0.89267   ]])"
      ]
     },
     "execution_count": 57,
     "metadata": {},
     "output_type": "execute_result"
    }
   ],
   "source": [
    "a[0, 0, :, :]"
   ]
  },
  {
   "cell_type": "code",
   "execution_count": 58,
   "metadata": {
    "collapsed": false
   },
   "outputs": [
    {
     "data": {
      "text/plain": [
       "array([[-2.46769808, -0.84238005,  1.04522239],\n",
       "       [-1.1917119 ,  1.57807645,  0.4894781 ],\n",
       "       [-1.14644513,  0.76823116, -0.89267   ]])"
      ]
     },
     "execution_count": 58,
     "metadata": {},
     "output_type": "execute_result"
    }
   ],
   "source": [
    "a[0, 0, ...]#...을 elipsis라고 함, "
   ]
  },
  {
   "cell_type": "code",
   "execution_count": 59,
   "metadata": {
    "collapsed": false
   },
   "outputs": [
    {
     "data": {
      "text/plain": [
       "array([[-2.46769808, -1.1917119 , -1.14644513],\n",
       "       [-0.66420798, -1.68557581, -0.99165127]])"
      ]
     },
     "execution_count": 59,
     "metadata": {},
     "output_type": "execute_result"
    }
   ],
   "source": [
    "a[0, ..., 0]"
   ]
  },
  {
   "cell_type": "code",
   "execution_count": 60,
   "metadata": {
    "collapsed": false
   },
   "outputs": [
    {
     "data": {
      "text/plain": [
       "array([[-2.46769808, -1.1917119 , -1.14644513],\n",
       "       [-0.66420798, -1.68557581, -0.99165127]])"
      ]
     },
     "execution_count": 60,
     "metadata": {},
     "output_type": "execute_result"
    }
   ],
   "source": [
    "a[0, :, :, 0]"
   ]
  },
  {
   "cell_type": "markdown",
   "metadata": {},
   "source": [
    "## 4.9 matplotlib\n"
   ]
  },
  {
   "cell_type": "markdown",
   "metadata": {},
   "source": [
    "### 4.9.1 sin graph\n"
   ]
  },
  {
   "cell_type": "code",
   "execution_count": 61,
   "metadata": {
    "collapsed": true
   },
   "outputs": [],
   "source": [
    "%matplotlib inline\n",
    "#앞에 %를 붙이면 ipython 만의 magic cmd라고 한다\n"
   ]
  },
  {
   "cell_type": "code",
   "execution_count": 62,
   "metadata": {
    "collapsed": true
   },
   "outputs": [],
   "source": [
    "import matplotlib.pyplot as plt"
   ]
  },
  {
   "cell_type": "code",
   "execution_count": 63,
   "metadata": {
    "collapsed": true
   },
   "outputs": [],
   "source": [
    "a = np.linspace(0, np.pi*4, 300)\n",
    "#0부터 4파이까지를 300개로 쪼개겠다"
   ]
  },
  {
   "cell_type": "code",
   "execution_count": 64,
   "metadata": {
    "collapsed": false
   },
   "outputs": [
    {
     "data": {
      "text/plain": [
       "[<matplotlib.lines.Line2D at 0x5071f26ef0>]"
      ]
     },
     "execution_count": 64,
     "metadata": {},
     "output_type": "execute_result"
    },
    {
     "data": {
      "image/png": "[encoded data removed]",
      "text/plain": [
       "<matplotlib.figure.Figure at 0x507133a898>"
      ]
     },
     "metadata": {},
     "output_type": "display_data"
    }
   ],
   "source": [
    "plt.plot(a, np.sin(a))"
   ]
  },
  {
   "cell_type": "code",
   "execution_count": 65,
   "metadata": {
    "collapsed": false
   },
   "outputs": [
    {
     "data": {
      "image/png": "[encoded data removed]",
      "text/plain": [
       "<matplotlib.figure.Figure at 0x5071ed8c88>"
      ]
     },
     "metadata": {},
     "output_type": "display_data"
    }
   ],
   "source": [
    "plt.plot(a, np.sin(a), label='sin')\n",
    "plt.plot(a, np.cos(a), label='cos')\n",
    "plt.xlabel('rad')\n",
    "plt.ylabel('y')\n",
    "plt.title('sin & cos')\n",
    "plt.legend()#조그만 텍스트 표시\n",
    "plt.axhline(0.0, linewidth=1, color='green')\n",
    "plt.show()"
   ]
  },
  {
   "cell_type": "markdown",
   "metadata": {},
   "source": [
    "matplotlib home : http://matplotlib.org/ "
   ]
  },
  {
   "cell_type": "markdown",
   "metadata": {},
   "source": [
    "### 4.9.2 Gallery\n",
    "\n",
    "http://matplotlib.org/gallery.html"
   ]
  },
  {
   "cell_type": "markdown",
   "metadata": {},
   "source": [
    "### 4.9.3 이미지 표시\n"
   ]
  },
  {
   "cell_type": "code",
   "execution_count": 77,
   "metadata": {
    "collapsed": false
   },
   "outputs": [
    {
     "data": {
      "text/plain": [
       "<matplotlib.image.AxesImage at 0x5072a21b00>"
      ]
     },
     "execution_count": 77,
     "metadata": {},
     "output_type": "execute_result"
    },
    {
     "data": {
      "image/png": "[encoded data removed]",
      "text/plain": [
       "<matplotlib.figure.Figure at 0x507204cac8>"
      ]
     },
     "metadata": {},
     "output_type": "display_data"
    }
   ],
   "source": [
    "import matplotlib.pyplot as plt\n",
    "from matplotlib.image import imread\n",
    "\n",
    "img = imread(r'C:\\Users\\Lab-01\\Desktop\\파이썬강의자료\\data\\face.png')  # from http://www.scipy-lectures.org/advanced/image_processing/\n",
    "plt.imshow(img)"
   ]
  },
  {
   "cell_type": "markdown",
   "metadata": {},
   "source": [
    "### 4.9.4 이차원 배열에 저장된 값을 이미지화 하기\n"
   ]
  },
  {
   "cell_type": "code",
   "execution_count": 78,
   "metadata": {
    "collapsed": false
   },
   "outputs": [
    {
     "data": {
      "text/plain": [
       "<matplotlib.image.AxesImage at 0x5073996320>"
      ]
     },
     "execution_count": 78,
     "metadata": {},
     "output_type": "execute_result"
    },
    {
     "data": {
      "image/png": "[encoded data removed]",
      "text/plain": [
       "<matplotlib.figure.Figure at 0x5073363278>"
      ]
     },
     "metadata": {},
     "output_type": "display_data"
    }
   ],
   "source": [
    "a = np.array([\n",
    "    (2, 0, 0),\n",
    "    (0, 1, 0),\n",
    "    (0, 0, 1)\n",
    "])\n",
    "\n",
    "plt.imshow(a)"
   ]
  },
  {
   "cell_type": "code",
   "execution_count": 79,
   "metadata": {
    "collapsed": false
   },
   "outputs": [
    {
     "data": {
      "text/plain": [
       "<matplotlib.image.AxesImage at 0x5073a1e5c0>"
      ]
     },
     "execution_count": 79,
     "metadata": {},
     "output_type": "execute_result"
    },
    {
     "data": {
      "image/png": "[encoded data removed]",
      "text/plain": [
       "<matplotlib.figure.Figure at 0x50739bd9e8>"
      ]
     },
     "metadata": {},
     "output_type": "display_data"
    }
   ],
   "source": [
    "plt.imshow(a, cmap=plt.cm.gray)"
   ]
  },
  {
   "cell_type": "code",
   "execution_count": 80,
   "metadata": {
    "collapsed": false,
    "scrolled": false
   },
   "outputs": [
    {
     "data": {
      "text/plain": [
       "<matplotlib.image.AxesImage at 0x5073aa2c50>"
      ]
     },
     "execution_count": 80,
     "metadata": {},
     "output_type": "execute_result"
    },
    {
     "data": {
      "image/png": "[encoded data removed]",
      "text/plain": [
       "<matplotlib.figure.Figure at 0x50739d37f0>"
      ]
     },
     "metadata": {},
     "output_type": "display_data"
    }
   ],
   "source": [
    "b = np.array([\n",
    "    [(255, 0, 0),  # R\n",
    "    (0, 0, 0),\n",
    "    (0, 0, 1)],\n",
    "    [(0, 0, 0),    # G\n",
    "    (0, 255, 0),\n",
    "    (0, 0, 1)],\n",
    "    [(0, 0, 0),    # B\n",
    "    (0, 0, 0),\n",
    "    (0, 0, 255)],\n",
    "], dtype=np.uint8)\n",
    "\n",
    "plt.imshow(b, interpolation='nearest')"
   ]
  },
  {
   "cell_type": "code",
   "execution_count": 81,
   "metadata": {
    "collapsed": false,
    "scrolled": false
   },
   "outputs": [
    {
     "data": {
      "text/plain": [
       "<matplotlib.image.AxesImage at 0x5073b29d68>"
      ]
     },
     "execution_count": 81,
     "metadata": {},
     "output_type": "execute_result"
    },
    {
     "data": {
      "image/png": "[encoded data removed]",
      "text/plain": [
       "<matplotlib.figure.Figure at 0x5073a5f748>"
      ]
     },
     "metadata": {},
     "output_type": "display_data"
    }
   ],
   "source": [
    "b = np.array([\n",
    "    [(255, 0, 0),  # R\n",
    "    (0, 0, 0),\n",
    "    (0, 0, 1)],\n",
    "    [(0, 0, 0),    # G\n",
    "    (0, 255, 0),\n",
    "    (0, 0, 1)],\n",
    "    [(0, 0, 0),    # B\n",
    "    (0, 0, 0),\n",
    "    (0, 0, 255)],\n",
    "], dtype=np.uint8)\n",
    "\n",
    "plt.imshow(b, interpolation=\"bicubic\")"
   ]
  },
  {
   "cell_type": "markdown",
   "metadata": {},
   "source": [
    "### 4.9.5 subplot\n"
   ]
  },
  {
   "cell_type": "code",
   "execution_count": 82,
   "metadata": {
    "collapsed": false
   },
   "outputs": [
    {
     "data": {
      "text/plain": [
       "<matplotlib.image.AxesImage at 0x5073c7f9b0>"
      ]
     },
     "execution_count": 82,
     "metadata": {},
     "output_type": "execute_result"
    },
    {
     "data": {
      "image/png": "[encoded data removed]",
      "text/plain": [
       "<matplotlib.figure.Figure at 0x5073adb6a0>"
      ]
     },
     "metadata": {},
     "output_type": "display_data"
    }
   ],
   "source": [
    "fig = plt.figure()\n",
    "ax = fig.add_subplot(2,2,1)\n",
    "ax.imshow(a, cmap=plt.cm.gray, interpolation='nearest')\n",
    "ax = fig.add_subplot(2,2,2)\n",
    "ax.imshow(b, interpolation='nearest')\n",
    "ax = fig.add_subplot(2,2,3)\n",
    "ax.imshow(b, interpolation='nearest')\n",
    "ax = fig.add_subplot(2,2,4)\n",
    "ax.imshow(a, cmap=plt.cm.gray, interpolation='nearest')\n",
    "#7분부터 다시 확인-배열을 이미지화"
   ]
  },
  {
   "cell_type": "markdown",
   "metadata": {},
   "source": [
    "## 4.10 array 객체 속성\n",
    "\n",
    " * ndim - 축의 수\n",
    " * shape - 배열의 차원(크기)\n",
    " * size - 총 배열의 요소 수\n",
    " * dtype - 요소의 자료 형\n",
    " * itemsize - 한 개 요소의 바이트 수\n",
    " * data - 요소들이 실제로 저장되어 있는 버퍼. 일반적으로 이것을 직접 사용하는 일은 거의 없다. 인덱싱이나 슬라이싱을 통해 사용하는 것이 일반적이다"
   ]
  },
  {
   "cell_type": "code",
   "execution_count": 83,
   "metadata": {
    "collapsed": false
   },
   "outputs": [
    {
     "data": {
      "text/plain": [
       "array([[2, 0, 0],\n",
       "       [0, 1, 0],\n",
       "       [0, 0, 1]])"
      ]
     },
     "execution_count": 83,
     "metadata": {},
     "output_type": "execute_result"
    }
   ],
   "source": [
    "a"
   ]
  },
  {
   "cell_type": "code",
   "execution_count": 84,
   "metadata": {
    "collapsed": false
   },
   "outputs": [
    {
     "data": {
      "text/plain": [
       "dtype('int32')"
      ]
     },
     "execution_count": 84,
     "metadata": {},
     "output_type": "execute_result"
    }
   ],
   "source": [
    "a.dtype"
   ]
  },
  {
   "cell_type": "code",
   "execution_count": null,
   "metadata": {
    "collapsed": true
   },
   "outputs": [],
   "source": []
  },
  {
   "cell_type": "code",
   "execution_count": 85,
   "metadata": {
    "collapsed": false
   },
   "outputs": [],
   "source": [
    "a = np.array( [ [1,2,3], [4,5,6] ] )"
   ]
  },
  {
   "cell_type": "code",
   "execution_count": 86,
   "metadata": {
    "collapsed": false
   },
   "outputs": [
    {
     "data": {
      "text/plain": [
       "2"
      ]
     },
     "execution_count": 86,
     "metadata": {},
     "output_type": "execute_result"
    }
   ],
   "source": [
    "a.ndim"
   ]
  },
  {
   "cell_type": "code",
   "execution_count": 87,
   "metadata": {
    "collapsed": false
   },
   "outputs": [
    {
     "data": {
      "text/plain": [
       "(2, 3)"
      ]
     },
     "execution_count": 87,
     "metadata": {},
     "output_type": "execute_result"
    }
   ],
   "source": [
    "a.shape"
   ]
  },
  {
   "cell_type": "code",
   "execution_count": 88,
   "metadata": {
    "collapsed": false
   },
   "outputs": [
    {
     "data": {
      "text/plain": [
       "6"
      ]
     },
     "execution_count": 88,
     "metadata": {},
     "output_type": "execute_result"
    }
   ],
   "source": [
    "a.size"
   ]
  },
  {
   "cell_type": "code",
   "execution_count": 89,
   "metadata": {
    "collapsed": false
   },
   "outputs": [
    {
     "data": {
      "text/plain": [
       "4"
      ]
     },
     "execution_count": 89,
     "metadata": {},
     "output_type": "execute_result"
    }
   ],
   "source": [
    "a.itemsize"
   ]
  },
  {
   "cell_type": "code",
   "execution_count": 90,
   "metadata": {
    "collapsed": false
   },
   "outputs": [
    {
     "data": {
      "text/plain": [
       "<memory at 0x0000005071DFB8B8>"
      ]
     },
     "execution_count": 90,
     "metadata": {},
     "output_type": "execute_result"
    }
   ],
   "source": [
    "a.data"
   ]
  },
  {
   "cell_type": "markdown",
   "metadata": {},
   "source": [
    "## 4.11 array 자료 형\n"
   ]
  },
  {
   "cell_type": "markdown",
   "metadata": {},
   "source": [
    "`dtypes`형\n",
    " * `bool, bool8`\n",
    "  * 부울자료형, `True, False`값 만을 갖는다\n",
    " * `int8`\n",
    "  * 8비트 정수형, -128~127\n",
    " * `uint8`\n",
    "  * 부호없는 8비트 정수형, 0~256까지 표현\n",
    " * `int16`\n",
    "  * 16비트 정수형, -32768~32767, \n",
    " * `uint16`\n",
    "  * 부호없는 16비트 정수형, 0~65535\n",
    " * `int32`\n",
    "  * 32비트 정수형. -2147483648~2147483647\n",
    " * `uint32`\n",
    "  * 부호없는32비트 정수형 0~4294967295\n",
    " * `int64`\n",
    "  * 64비트 정수형, -263~(263 -1), 263=9,223,372,036,854,775,808\n",
    " * `uint64`\n",
    "  * 부호없는64비트 정수형, 0~(264-1) , 264=18,446,744,073,709,551,616\n",
    " * `float32`\n",
    "  * 유효자리가 최소 6자리 확보되며 지수부는10-38~10+38\n",
    " * `float64`\n",
    "  * 유효자리가 최소 15자리 확보되며 지수부는10-308~10+308\n",
    " * `complex64`\n",
    "  * `float32` 두 개가 실수부와허수부를 표현한다\n",
    " * `complex128`\n",
    "  * `float64` 두 개가 실수부와허수부를 표현한다 \n"
   ]
  },
  {
   "cell_type": "markdown",
   "metadata": {},
   "source": [
    "## 4.12 Bool test & indexing\n"
   ]
  },
  {
   "cell_type": "code",
   "execution_count": 91,
   "metadata": {
    "collapsed": false
   },
   "outputs": [
    {
     "data": {
      "text/plain": [
       "array([[False, False, False],\n",
       "       [ True,  True,  True]], dtype=bool)"
      ]
     },
     "execution_count": 91,
     "metadata": {},
     "output_type": "execute_result"
    }
   ],
   "source": [
    "a > 3"
   ]
  },
  {
   "cell_type": "code",
   "execution_count": 93,
   "metadata": {
    "collapsed": false,
    "scrolled": true
   },
   "outputs": [
    {
     "data": {
      "text/plain": [
       "array([[0, 0, 0],\n",
       "       [1, 1, 1]])"
      ]
     },
     "execution_count": 93,
     "metadata": {},
     "output_type": "execute_result"
    }
   ],
   "source": [
    "c= 1 * (a > 3)\n",
    "c"
   ]
  },
  {
   "cell_type": "code",
   "execution_count": 95,
   "metadata": {
    "collapsed": false
   },
   "outputs": [
    {
     "data": {
      "text/plain": [
       "array([4, 5, 6])"
      ]
     },
     "execution_count": 95,
     "metadata": {},
     "output_type": "execute_result"
    }
   ],
   "source": [
    "a[a>3]\n",
    "#뭐라고?"
   ]
  },
  {
   "cell_type": "code",
   "execution_count": 96,
   "metadata": {
    "collapsed": false
   },
   "outputs": [
    {
     "data": {
      "text/plain": [
       "array([10, 11, 12])"
      ]
     },
     "execution_count": 96,
     "metadata": {},
     "output_type": "execute_result"
    }
   ],
   "source": [
    "b = np.array( [ [7,8,9], [10,11,12] ] )\n",
    "b[a>3]"
   ]
  },
  {
   "cell_type": "markdown",
   "metadata": {},
   "source": [
    "## 4.13 함수\n"
   ]
  },
  {
   "cell_type": "code",
   "execution_count": 97,
   "metadata": {
    "collapsed": false
   },
   "outputs": [
    {
     "data": {
      "text/plain": [
       "array([0, 0, 0, 0, 0, 0, 1, 1, 1, 1])"
      ]
     },
     "execution_count": 97,
     "metadata": {},
     "output_type": "execute_result"
    }
   ],
   "source": [
    "def step_function(x):\n",
    "    return 1 * (x > 0)\n",
    "\n",
    "step_function(np.arange(-5, 5))"
   ]
  },
  {
   "cell_type": "code",
   "execution_count": 98,
   "metadata": {
    "collapsed": false
   },
   "outputs": [
    {
     "data": {
      "image/png": "[encoded data removed]",
      "text/plain": [
       "<matplotlib.figure.Figure at 0x5073cfdef0>"
      ]
     },
     "metadata": {},
     "output_type": "display_data"
    }
   ],
   "source": [
    "a = np.arange(-6, 6, 0.1)\n",
    "plt.plot(a, step_function(a))\n",
    "plt.grid(True)"
   ]
  },
  {
   "cell_type": "code",
   "execution_count": 99,
   "metadata": {
    "collapsed": false
   },
   "outputs": [
    {
     "data": {
      "text/plain": [
       "<matplotlib.lines.Line2D at 0x5071fd3f28>"
      ]
     },
     "execution_count": 99,
     "metadata": {},
     "output_type": "execute_result"
    },
    {
     "data": {
      "image/png": "[encoded data removed]",
      "text/plain": [
       "<matplotlib.figure.Figure at 0x5071fd34e0>"
      ]
     },
     "metadata": {},
     "output_type": "display_data"
    }
   ],
   "source": [
    "def sigmoid(x):\n",
    "    return 1 / (1.0 + np.exp(-x))\n",
    "\n",
    "a = np.arange(-6, 6, 0.1)\n",
    "plt.plot(a, sigmoid(a))\n",
    "plt.grid(True)\n",
    "plt.axhline(0.5, linewidth=1, color='red')"
   ]
  },
  {
   "cell_type": "code",
   "execution_count": 100,
   "metadata": {
    "collapsed": false
   },
   "outputs": [
    {
     "data": {
      "image/png": "[encoded data removed]",
      "text/plain": [
       "<matplotlib.figure.Figure at 0x50739d89e8>"
      ]
     },
     "metadata": {},
     "output_type": "display_data"
    }
   ],
   "source": [
    "def rectifier(x):\n",
    "    return np.maximum(0, x)\n",
    "\n",
    "a = np.arange(-5, 5, 0.1)\n",
    "plt.plot(a, rectifier(a))\n",
    "plt.grid(True)"
   ]
  },
  {
   "cell_type": "code",
   "execution_count": 101,
   "metadata": {
    "collapsed": false
   },
   "outputs": [
    {
     "data": {
      "image/png": "[encoded data removed]",
      "text/plain": [
       "<matplotlib.figure.Figure at 0x5073e23780>"
      ]
     },
     "metadata": {},
     "output_type": "display_data"
    }
   ],
   "source": [
    "def softplus(x):\n",
    "    return np.log(1 + np.exp(x))\n",
    "\n",
    "a = np.arange(-5, 5, 0.1)\n",
    "plt.plot(a, softplus(a))\n",
    "plt.plot(a, rectifier(a))\n",
    "plt.grid(True)"
   ]
  },
  {
   "cell_type": "code",
   "execution_count": 111,
   "metadata": {
    "collapsed": false
   },
   "outputs": [
    {
     "data": {
      "text/plain": [
       "array([ 0.13664731,  0.41051121,  0.20385384,  0.24898764])"
      ]
     },
     "execution_count": 111,
     "metadata": {},
     "output_type": "execute_result"
    },
    {
     "data": {
      "image/png": "[encoded data removed]",
      "text/plain": [
       "<matplotlib.figure.Figure at 0x507527e9b0>"
      ]
     },
     "metadata": {},
     "output_type": "display_data"
    }
   ],
   "source": [
    "def softmax(a):\n",
    "    c = np.max(a)\n",
    "    exp_a = np.exp(a - c)\n",
    "    denom = np.sum(exp_a)\n",
    "    return exp_a / denom\n",
    "\n",
    "plt.plot(a, softmax(a))\n",
    "plt.legend(a)\n",
    "a = np.array([0.1, 1.2, 0.5, 0.7])\n",
    "softmax(a)"
   ]
  },
  {
   "cell_type": "code",
   "execution_count": 112,
   "metadata": {
    "collapsed": false
   },
   "outputs": [
    {
     "data": {
      "text/plain": [
       "1.0000000000000002"
      ]
     },
     "execution_count": 112,
     "metadata": {},
     "output_type": "execute_result"
    }
   ],
   "source": [
    "sum(softmax(a))"
   ]
  },
  {
   "cell_type": "markdown",
   "metadata": {},
   "source": [
    "## 4.14 배열 만들기\n"
   ]
  },
  {
   "cell_type": "code",
   "execution_count": 113,
   "metadata": {
    "collapsed": false
   },
   "outputs": [
    {
     "data": {
      "text/plain": [
       "array([ 0.,  0.,  0.,  0.,  0.])"
      ]
     },
     "execution_count": 113,
     "metadata": {},
     "output_type": "execute_result"
    }
   ],
   "source": [
    "np.zeros(5)"
   ]
  },
  {
   "cell_type": "code",
   "execution_count": 114,
   "metadata": {
    "collapsed": false
   },
   "outputs": [
    {
     "data": {
      "text/plain": [
       "array([[ 0.,  0.,  0.],\n",
       "       [ 0.,  0.,  0.]])"
      ]
     },
     "execution_count": 114,
     "metadata": {},
     "output_type": "execute_result"
    }
   ],
   "source": [
    "np.zeros((2, 3))"
   ]
  },
  {
   "cell_type": "code",
   "execution_count": 115,
   "metadata": {
    "collapsed": false
   },
   "outputs": [
    {
     "data": {
      "text/plain": [
       "array([[ 0.,  0.,  0.],\n",
       "       [ 0.,  0.,  0.]])"
      ]
     },
     "execution_count": 115,
     "metadata": {},
     "output_type": "execute_result"
    }
   ],
   "source": [
    "np.zeros((2, 3), np.float64)"
   ]
  },
  {
   "cell_type": "code",
   "execution_count": 116,
   "metadata": {
    "collapsed": false
   },
   "outputs": [
    {
     "data": {
      "text/plain": [
       "array([[ 1.,  1.,  1.],\n",
       "       [ 1.,  1.,  1.]])"
      ]
     },
     "execution_count": 116,
     "metadata": {},
     "output_type": "execute_result"
    }
   ],
   "source": [
    "np.ones((2, 3))"
   ]
  },
  {
   "cell_type": "code",
   "execution_count": 118,
   "metadata": {
    "collapsed": false
   },
   "outputs": [
    {
     "data": {
      "text/plain": [
       "array([[ 1.,  0.,  0.],\n",
       "       [ 0.,  1.,  0.],\n",
       "       [ 0.,  0.,  1.]])"
      ]
     },
     "execution_count": 118,
     "metadata": {},
     "output_type": "execute_result"
    }
   ],
   "source": [
    "np.identity(3)  # np.eye(3)\n",
    "#단위행렬"
   ]
  },
  {
   "cell_type": "code",
   "execution_count": 119,
   "metadata": {
    "collapsed": false
   },
   "outputs": [
    {
     "data": {
      "text/plain": [
       "array([[ 0.,  0.,  0.],\n",
       "       [ 0.,  0.,  0.]])"
      ]
     },
     "execution_count": 119,
     "metadata": {},
     "output_type": "execute_result"
    }
   ],
   "source": [
    "np.empty((2,3))  # 초기화되지 않은 배열 생성"
   ]
  },
  {
   "cell_type": "markdown",
   "metadata": {},
   "source": [
    "### 4.14.1 바이트열로 부터 배열 만들기\n"
   ]
  },
  {
   "cell_type": "code",
   "execution_count": 121,
   "metadata": {
    "collapsed": false
   },
   "outputs": [
    {
     "data": {
      "text/plain": [
       "array([1, 2, 3], dtype=uint8)"
      ]
     },
     "execution_count": 121,
     "metadata": {},
     "output_type": "execute_result"
    }
   ],
   "source": [
    "s = b'\\x01\\x02\\x03'\n",
    "np.frombuffer(s, np.uint8)"
   ]
  },
  {
   "cell_type": "code",
   "execution_count": 122,
   "metadata": {
    "collapsed": true
   },
   "outputs": [],
   "source": [
    "a=np.arange(100)"
   ]
  },
  {
   "cell_type": "code",
   "execution_count": 123,
   "metadata": {
    "collapsed": false
   },
   "outputs": [
    {
     "data": {
      "text/plain": [
       "array([ 0,  1,  2,  3,  4,  5,  6,  7,  8,  9, 10, 11, 12, 13, 14, 15, 16,\n",
       "       17, 18, 19, 20, 21, 22, 23, 24, 25, 26, 27, 28, 29, 30, 31, 32, 33,\n",
       "       34, 35, 36, 37, 38, 39, 40, 41, 42, 43, 44, 45, 46, 47, 48, 49, 50,\n",
       "       51, 52, 53, 54, 55, 56, 57, 58, 59, 60, 61, 62, 63, 64, 65, 66, 67,\n",
       "       68, 69, 70, 71, 72, 73, 74, 75, 76, 77, 78, 79, 80, 81, 82, 83, 84,\n",
       "       85, 86, 87, 88, 89, 90, 91, 92, 93, 94, 95, 96, 97, 98, 99])"
      ]
     },
     "execution_count": 123,
     "metadata": {},
     "output_type": "execute_result"
    }
   ],
   "source": [
    "a"
   ]
  },
  {
   "cell_type": "markdown",
   "metadata": {},
   "source": [
    "#### 실전 예제\n",
    "\n",
    "`dataset/mnist.py`"
   ]
  },
  {
   "cell_type": "code",
   "execution_count": 124,
   "metadata": {
    "collapsed": true
   },
   "outputs": [],
   "source": [
    "def _load_img(file_name):\n",
    "    file_path = dataset_dir + \"/\" + file_name\n",
    "    \n",
    "    print(\"Converting \" + file_name + \" to NumPy Array ...\")    \n",
    "    with gzip.open(file_path, 'rb') as f:\n",
    "            data = np.frombuffer(f.read(), np.uint8, offset=16)\n",
    "    data = data.reshape(-1, img_size)\n",
    "    print(\"Done\")\n",
    "    \n",
    "    return data"
   ]
  },
  {
   "cell_type": "markdown",
   "metadata": {},
   "source": [
    "## 4.15 난수 초기화 배열 만들기\n"
   ]
  },
  {
   "cell_type": "markdown",
   "metadata": {},
   "source": [
    "### 4.15.1 `rand()` 균일 분포\n"
   ]
  },
  {
   "cell_type": "code",
   "execution_count": 125,
   "metadata": {
    "collapsed": false
   },
   "outputs": [
    {
     "data": {
      "text/plain": [
       "array([ 0.03663998,  0.00569661,  0.78833327])"
      ]
     },
     "execution_count": 125,
     "metadata": {},
     "output_type": "execute_result"
    }
   ],
   "source": [
    "np.random.rand(3)"
   ]
  },
  {
   "cell_type": "code",
   "execution_count": 126,
   "metadata": {
    "collapsed": false
   },
   "outputs": [
    {
     "data": {
      "text/plain": [
       "array([[ 0.37532266,  0.431201  ],\n",
       "       [ 0.07195937,  0.61012217],\n",
       "       [ 0.03241812,  0.94727234]])"
      ]
     },
     "execution_count": 126,
     "metadata": {},
     "output_type": "execute_result"
    }
   ],
   "source": [
    "np.random.rand(3, 2)"
   ]
  },
  {
   "cell_type": "markdown",
   "metadata": {},
   "source": [
    "### 4.15.2 `randn()` 표준 정규 분포\n",
    "평균 0, 분산 1"
   ]
  },
  {
   "cell_type": "code",
   "execution_count": 127,
   "metadata": {
    "collapsed": false
   },
   "outputs": [
    {
     "data": {
      "text/plain": [
       "array([ 0.02203406,  1.45811297, -0.73967375])"
      ]
     },
     "execution_count": 127,
     "metadata": {},
     "output_type": "execute_result"
    }
   ],
   "source": [
    "np.random.randn(3)"
   ]
  },
  {
   "cell_type": "code",
   "execution_count": 130,
   "metadata": {
    "collapsed": false
   },
   "outputs": [
    {
     "data": {
      "text/plain": [
       "array([[ 1.64293254,  0.77477891,  1.30331653],\n",
       "       [-0.72513926, -2.09928133, -0.64532713]])"
      ]
     },
     "execution_count": 130,
     "metadata": {},
     "output_type": "execute_result"
    }
   ],
   "source": [
    "np.random.randn(2, 3)"
   ]
  },
  {
   "cell_type": "markdown",
   "metadata": {},
   "source": [
    "## 4.16 예제 : 다층 퍼셉트론\n",
    "\n",
    "\n",
    "<img src=\"img/MLP.png\" width=700>\n",
    "for문 없이 화살표 오른쪽 수식으로 끝낼 수 있다"
   ]
  },
  {
   "cell_type": "code",
   "execution_count": 133,
   "metadata": {
    "collapsed": true
   },
   "outputs": [],
   "source": [
    "import numpy as np\n",
    "\n",
    "def sigmoid(x):\n",
    "    return 1 / (1.0 + np.exp(-x))\n",
    "\n",
    "def identity_function(x):\n",
    "    return x\n",
    "\n",
    "def softmax(a):\n",
    "    c = np.max(a)\n",
    "    exp_a = np.exp(a - c)\n",
    "    #c는 오버플로우 문제 때문에\n",
    "    denom = np.sum(exp_a)\n",
    "    return exp_a / denom\n",
    "\n",
    "class MultiLayerPerceptron:\n",
    "    def __init__(self, n_input, n_hidden, n_output):\n",
    "        self.n_input = n_input\n",
    "        self.n_hidden = n_hidden\n",
    "        self.n_output = n_output\n",
    "                #3개의 레이어가 존재\n",
    "            \n",
    "        self.W1 = np.random.randn(n_input, n_hidden) / np.sqrt(n_input)  # Xavier 초깃값\n",
    "        self.W2 = np.random.randn(n_hidden, n_output) / np.sqrt(n_hidden)\n",
    "        self.B1 = np.random.randn(n_hidden) / np.sqrt(n_hidden)\n",
    "        self.B2 = np.random.randn(n_output) / np.sqrt(n_output)\n",
    "        #포트란/C라이브러리로 돌아감\n",
    "    def forward(self, X):\n",
    "        A1 = np.dot(X, self.W1) + self.B1\n",
    "        Z1 = sigmoid(A1)\n",
    "        A2 = np.dot(Z1, self.W2) + self.B2\n",
    "        Z2 = softmax(A2)\n",
    "        return Z2"
   ]
  },
  {
   "cell_type": "code",
   "execution_count": 134,
   "metadata": {
    "collapsed": false
   },
   "outputs": [
    {
     "data": {
      "text/plain": [
       "array([ 0.20386816,  0.79613184])"
      ]
     },
     "execution_count": 134,
     "metadata": {},
     "output_type": "execute_result"
    }
   ],
   "source": [
    "p = MultiLayerPerceptron(2, 3, 2)\n",
    "p.forward([0.2, 0.7])\n",
    "#리스트가 아니라 array 로 값을 넘겨줘야 되는데, 일단은 그냥 줘도 된다"
   ]
  },
  {
   "cell_type": "markdown",
   "metadata": {},
   "source": [
    "## 4.17 `astype()` 형변환\n"
   ]
  },
  {
   "cell_type": "code",
   "execution_count": 135,
   "metadata": {
    "collapsed": false
   },
   "outputs": [
    {
     "data": {
      "text/plain": [
       "array([[ 1.,  2.,  3.],\n",
       "       [ 4.,  5.,  6.]], dtype=float32)"
      ]
     },
     "execution_count": 135,
     "metadata": {},
     "output_type": "execute_result"
    }
   ],
   "source": [
    "a = np.array( [ [1,2,3], [4,5,6] ] )\n",
    "a.astype(np.float32)\n",
    "#타입 변환"
   ]
  },
  {
   "cell_type": "markdown",
   "metadata": {},
   "source": [
    "## 4.18 배열 복사\n"
   ]
  },
  {
   "cell_type": "code",
   "execution_count": 136,
   "metadata": {
    "collapsed": true
   },
   "outputs": [],
   "source": [
    "c = b.copy()"
   ]
  },
  {
   "cell_type": "markdown",
   "metadata": {},
   "source": [
    "## 4.19 배열 만들기\n"
   ]
  },
  {
   "cell_type": "markdown",
   "metadata": {},
   "source": [
    "### 4.19.1 같은 shape의 배열 만들기\n"
   ]
  },
  {
   "cell_type": "code",
   "execution_count": 137,
   "metadata": {
    "collapsed": true
   },
   "outputs": [],
   "source": [
    "d = np.zeros_like(c)\n",
    "e = np.ones_like(c)\n",
    "f = np.empty_like(c)\n",
    "#XX같이 생긴 X로 초기화된 배열을 만들어라"
   ]
  },
  {
   "cell_type": "markdown",
   "metadata": {},
   "source": [
    "### 4.19.2 `linspace()`\n"
   ]
  },
  {
   "cell_type": "code",
   "execution_count": 141,
   "metadata": {
    "collapsed": false
   },
   "outputs": [
    {
     "data": {
      "text/plain": [
       "array([-5., -4., -3., -2., -1.,  0.,  1.,  2.,  3.,  4.,  5.])"
      ]
     },
     "execution_count": 141,
     "metadata": {},
     "output_type": "execute_result"
    }
   ],
   "source": [
    "np.linspace(-5, 5, 11)\n",
    "#11등분으로 나뉜"
   ]
  },
  {
   "cell_type": "markdown",
   "metadata": {},
   "source": [
    "### 4.19.3 `logspace()`\n"
   ]
  },
  {
   "cell_type": "code",
   "execution_count": 140,
   "metadata": {
    "collapsed": false
   },
   "outputs": [
    {
     "data": {
      "text/plain": [
       "array([  1.00000000e-02,   1.00000000e-01,   1.00000000e+00,\n",
       "         1.00000000e+01,   1.00000000e+02,   1.00000000e+03])"
      ]
     },
     "execution_count": 140,
     "metadata": {},
     "output_type": "execute_result"
    }
   ],
   "source": [
    "# 10의 -2제곱 부터 3제곱 사이의 6등분된 점들\n",
    "np.logspace(-2, 3, 6)"
   ]
  },
  {
   "cell_type": "markdown",
   "metadata": {},
   "source": [
    "### 4.19.4 `r_`\n",
    "        row데이터를 만들기\n",
    "    r_[start:stop:nj]\n",
    "    r_[start:stop:step]\n"
   ]
  },
  {
   "cell_type": "code",
   "execution_count": 147,
   "metadata": {
    "collapsed": false
   },
   "outputs": [
    {
     "data": {
      "text/plain": [
       "array([-5., -4., -3., -2., -1.,  0.,  1.,  2.,  3.,  4.,  5.])"
      ]
     },
     "execution_count": 147,
     "metadata": {},
     "output_type": "execute_result"
    }
   ],
   "source": [
    "np.r_[-5:5:11j]            # like linspace, row 데이터를 만들어라\n",
    "#-5에서 5까지 11개로 끊어라"
   ]
  },
  {
   "cell_type": "code",
   "execution_count": 148,
   "metadata": {
    "collapsed": false
   },
   "outputs": [
    {
     "data": {
      "text/plain": [
       "array([-5.,  5.])"
      ]
     },
     "execution_count": 148,
     "metadata": {},
     "output_type": "execute_result"
    }
   ],
   "source": [
    "np.r_[-5:5:2j]\n",
    "#j가 붙으면 개수"
   ]
  },
  {
   "cell_type": "code",
   "execution_count": 149,
   "metadata": {
    "collapsed": false
   },
   "outputs": [
    {
     "data": {
      "text/plain": [
       "array([-5, -3, -1,  1,  3])"
      ]
     },
     "execution_count": 149,
     "metadata": {},
     "output_type": "execute_result"
    }
   ],
   "source": [
    "np.r_[-5:5:2]               # like arange"
   ]
  },
  {
   "cell_type": "code",
   "execution_count": 150,
   "metadata": {
    "collapsed": false
   },
   "outputs": [
    {
     "data": {
      "text/plain": [
       "array([  0,   4,   5,   6,   7,   8,   9, 100, 200])"
      ]
     },
     "execution_count": 150,
     "metadata": {},
     "output_type": "execute_result"
    }
   ],
   "source": [
    "np.r_[0, 4, 5:10, 100, 200]"
   ]
  },
  {
   "cell_type": "markdown",
   "metadata": {},
   "source": [
    "### 4.19.5 `c_`\n",
    "는 column"
   ]
  },
  {
   "cell_type": "code",
   "execution_count": 151,
   "metadata": {
    "collapsed": false
   },
   "outputs": [
    {
     "data": {
      "text/plain": [
       "array([[1, 2, 3],\n",
       "       [2, 3, 4],\n",
       "       [3, 4, 5]])"
      ]
     },
     "execution_count": 151,
     "metadata": {},
     "output_type": "execute_result"
    }
   ],
   "source": [
    "np.c_[1:4, 2:5, 3:6]  # 콤마로 구분된 각 식은 열 데이터를 의미한다"
   ]
  },
  {
   "cell_type": "markdown",
   "metadata": {},
   "source": [
    "## 4.20 반복\n"
   ]
  },
  {
   "cell_type": "code",
   "execution_count": 152,
   "metadata": {
    "collapsed": true
   },
   "outputs": [],
   "source": [
    "a = np.array( [ [1,2,3], [4,5,6] ] )"
   ]
  },
  {
   "cell_type": "code",
   "execution_count": 153,
   "metadata": {
    "collapsed": false
   },
   "outputs": [
    {
     "data": {
      "text/plain": [
       "array([[1, 2, 3, 1, 2, 3, 1, 2, 3],\n",
       "       [4, 5, 6, 4, 5, 6, 4, 5, 6]])"
      ]
     },
     "execution_count": 153,
     "metadata": {},
     "output_type": "execute_result"
    }
   ],
   "source": [
    "np.tile(a, 3)"
   ]
  },
  {
   "cell_type": "code",
   "execution_count": 154,
   "metadata": {
    "collapsed": false
   },
   "outputs": [
    {
     "data": {
      "text/plain": [
       "array([1, 1, 1, 2, 2, 2, 3, 3, 3, 4, 4, 4, 5, 5, 5, 6, 6, 6])"
      ]
     },
     "execution_count": 154,
     "metadata": {},
     "output_type": "execute_result"
    }
   ],
   "source": [
    "np.repeat(a, 3)"
   ]
  },
  {
   "cell_type": "markdown",
   "metadata": {},
   "source": [
    "## 4.21 차원 변환\n",
    "\n",
    "### 4.21.1 `array.shape`\n"
   ]
  },
  {
   "cell_type": "code",
   "execution_count": 155,
   "metadata": {
    "collapsed": false
   },
   "outputs": [
    {
     "data": {
      "text/plain": [
       "(2, 3)"
      ]
     },
     "execution_count": 155,
     "metadata": {},
     "output_type": "execute_result"
    }
   ],
   "source": [
    "a = np.array( [ [1,2,3], [4,5,6] ] )\n",
    "a.shape"
   ]
  },
  {
   "cell_type": "code",
   "execution_count": 156,
   "metadata": {
    "collapsed": false
   },
   "outputs": [
    {
     "data": {
      "text/plain": [
       "array([1, 2, 3, 4, 5, 6])"
      ]
     },
     "execution_count": 156,
     "metadata": {},
     "output_type": "execute_result"
    }
   ],
   "source": [
    "a.shape = 6\n",
    "a\n",
    "#1차원 배열로 보겠다"
   ]
  },
  {
   "cell_type": "code",
   "execution_count": 157,
   "metadata": {
    "collapsed": false
   },
   "outputs": [
    {
     "data": {
      "text/plain": [
       "array([[1, 2],\n",
       "       [3, 4],\n",
       "       [5, 6]])"
      ]
     },
     "execution_count": 157,
     "metadata": {},
     "output_type": "execute_result"
    }
   ],
   "source": [
    "a.shape = (3, 2)\n",
    "a"
   ]
  },
  {
   "cell_type": "markdown",
   "metadata": {},
   "source": [
    "### 4.21.2 `reshape()`\n",
    "배열 view 리턴"
   ]
  },
  {
   "cell_type": "code",
   "execution_count": 160,
   "metadata": {
    "collapsed": false
   },
   "outputs": [
    {
     "data": {
      "text/plain": [
       "array([[1, 2],\n",
       "       [3, 4],\n",
       "       [5, 6]])"
      ]
     },
     "execution_count": 160,
     "metadata": {},
     "output_type": "execute_result"
    }
   ],
   "source": [
    "a = np.array( [ [1,2,3], [4,5,6] ] )\n",
    "b = a.reshape(3,-1)\n",
    "# (3, 2)\n",
    "b"
   ]
  },
  {
   "cell_type": "code",
   "execution_count": 161,
   "metadata": {
    "collapsed": false
   },
   "outputs": [],
   "source": [
    "b[0, 0] = 100"
   ]
  },
  {
   "cell_type": "code",
   "execution_count": 162,
   "metadata": {
    "collapsed": false
   },
   "outputs": [
    {
     "data": {
      "text/plain": [
       "array([[100,   2,   3],\n",
       "       [  4,   5,   6]])"
      ]
     },
     "execution_count": 162,
     "metadata": {},
     "output_type": "execute_result"
    }
   ],
   "source": [
    "a"
   ]
  },
  {
   "cell_type": "markdown",
   "metadata": {},
   "source": [
    "### 4.21.3 `flatten()`\n",
    "새로운 배열 리턴"
   ]
  },
  {
   "cell_type": "code",
   "execution_count": 163,
   "metadata": {
    "collapsed": false
   },
   "outputs": [
    {
     "data": {
      "text/plain": [
       "array([1, 2, 3, 4, 5, 6])"
      ]
     },
     "execution_count": 163,
     "metadata": {},
     "output_type": "execute_result"
    }
   ],
   "source": [
    "a = np.array( [ [1,2,3], [4,5,6] ] )\n",
    "a.flatten()"
   ]
  },
  {
   "cell_type": "markdown",
   "metadata": {},
   "source": [
    "### 4.21.4 `ravel()`\n",
    "\n",
    "배열 복사가 아닌 view만 리턴"
   ]
  },
  {
   "cell_type": "code",
   "execution_count": 164,
   "metadata": {
    "collapsed": false
   },
   "outputs": [
    {
     "data": {
      "text/plain": [
       "array([1, 2, 3, 4, 5, 6])"
      ]
     },
     "execution_count": 164,
     "metadata": {},
     "output_type": "execute_result"
    }
   ],
   "source": [
    "a = np.array( [ [1,2,3], [4,5,6] ] )\n",
    "a.ravel()"
   ]
  },
  {
   "cell_type": "code",
   "execution_count": 165,
   "metadata": {
    "collapsed": false
   },
   "outputs": [
    {
     "data": {
      "text/plain": [
       "array([[100,   2,   3],\n",
       "       [  4,   5,   6]])"
      ]
     },
     "execution_count": 165,
     "metadata": {},
     "output_type": "execute_result"
    }
   ],
   "source": [
    "a2 = a.ravel()\n",
    "a2[0] = 100\n",
    "a"
   ]
  },
  {
   "cell_type": "markdown",
   "metadata": {},
   "source": [
    "## 4.22 `transpose()` 축 바꾸기\n"
   ]
  },
  {
   "cell_type": "code",
   "execution_count": 166,
   "metadata": {
    "collapsed": false
   },
   "outputs": [
    {
     "data": {
      "text/plain": [
       "array([[[[  2.13817698e+00,  -9.55180132e-01,  -8.02897459e-01,\n",
       "           -1.70205973e-01,   1.05434214e-01,   2.00932468e-01],\n",
       "         [ -1.28247323e-01,   5.74788523e-01,   3.70798246e-01,\n",
       "            5.64404418e-01,  -4.40564657e-01,   6.45339861e-01],\n",
       "         [ -3.75248424e-01,  -4.30392168e-01,   1.64337326e-01,\n",
       "           -1.78651414e+00,   5.18297456e-01,  -1.20657467e+00],\n",
       "         [  1.06011645e+00,  -1.17720849e+00,  -1.14633589e-01,\n",
       "           -1.09393115e-01,  -3.55626458e-01,  -3.02518104e-01],\n",
       "         [  1.53247409e+00,  -5.97725545e-01,  -5.95048043e-01,\n",
       "            8.84624829e-01,  -1.37969068e+00,  -1.13803188e+00]],\n",
       "\n",
       "        [[ -1.39720684e+00,   1.07647056e+00,  -2.71131849e+00,\n",
       "            1.53614206e+00,   1.86363368e+00,   7.04117891e-01],\n",
       "         [ -5.00907266e-01,  -9.39397548e-01,   6.38781633e-01,\n",
       "            5.90515140e-01,  -5.41618901e-01,   1.76206944e-02],\n",
       "         [  9.81773108e-01,  -1.46482554e+00,  -1.20206292e-01,\n",
       "            2.19755131e+00,  -2.02727884e-01,   7.30724115e-01],\n",
       "         [  9.83100243e-01,   1.07306526e+00,   1.28026994e+00,\n",
       "           -6.27638426e-01,  -1.88581658e+00,   8.11660342e-01],\n",
       "         [  1.47442821e-01,  -1.30327970e+00,   2.16524837e-02,\n",
       "            4.84510963e-01,  -1.73838136e+00,  -3.93214976e-01]],\n",
       "\n",
       "        [[  1.54770226e-01,  -3.81790212e-01,  -5.58904819e-01,\n",
       "           -1.02312371e+00,   9.80057698e-01,   1.25561335e+00],\n",
       "         [  6.64711559e-01,  -6.13287256e-01,  -1.01384474e+00,\n",
       "           -7.40362679e-01,  -1.58918024e+00,  -4.28995626e-01],\n",
       "         [  4.38815507e-01,   8.64077943e-01,   4.59453850e-01,\n",
       "            9.52943211e-01,   6.51755433e-02,   7.29723067e-01],\n",
       "         [  1.07835353e+00,  -7.14023020e-01,  -8.47719845e-01,\n",
       "           -1.04110616e-01,   2.10622394e-01,  -5.97635125e-03],\n",
       "         [ -1.15689596e+00,  -1.08829277e+00,  -6.25002722e-01,\n",
       "           -1.57586891e+00,  -3.93173854e-02,  -1.16379890e+00]],\n",
       "\n",
       "        [[  3.83916465e-01,  -4.41859246e-01,   3.23733856e-01,\n",
       "           -2.44932827e-01,  -1.21845413e-01,   1.44528134e+00],\n",
       "         [  5.29816011e-01,   1.21565546e+00,  -1.12509143e+00,\n",
       "           -5.03507357e-01,  -1.07064105e+00,   3.69194905e-01],\n",
       "         [  2.12526653e+00,   1.37599407e+00,  -1.37151401e+00,\n",
       "           -1.10734760e-01,  -8.90589286e-01,  -6.10945344e-01],\n",
       "         [ -1.13007911e-02,  -4.70128441e-01,   4.94863117e-01,\n",
       "            1.16367921e+00,   9.51623978e-01,   2.11905593e-01],\n",
       "         [  4.68611729e-01,  -9.85057849e-01,  -7.77613309e-01,\n",
       "           -1.79089986e-01,  -3.31377498e-01,  -1.70378445e-01]]],\n",
       "\n",
       "\n",
       "       [[[  2.67128781e+00,   4.86208108e-01,   1.39949114e+00,\n",
       "           -1.15765448e+00,  -1.01681654e+00,   7.22185938e-01],\n",
       "         [  6.61937772e-01,   1.49936478e+00,   2.40158710e-01,\n",
       "            6.91962167e-01,   8.08033771e-01,  -4.60927424e-01],\n",
       "         [  7.27479295e-01,  -2.02021041e+00,  -6.91856789e-01,\n",
       "           -2.59152506e-01,   1.52361465e+00,   1.01629897e+00],\n",
       "         [ -9.04215862e-01,  -5.78507267e-01,   7.68588397e-01,\n",
       "           -4.35542013e-01,   7.85170779e-01,  -9.45973013e-01],\n",
       "         [ -6.93159170e-01,  -1.86974917e+00,   3.79370005e-01,\n",
       "           -2.99388341e-01,  -7.64095850e-01,   1.08783285e+00]],\n",
       "\n",
       "        [[ -1.24464466e-01,   1.45604659e+00,   4.09019317e-02,\n",
       "            1.29642143e+00,  -1.83961771e+00,   4.69151093e-01],\n",
       "         [  7.25762706e-01,   2.45672784e+00,   1.91613331e+00,\n",
       "            3.87969890e-01,  -1.89827658e+00,   2.42325665e+00],\n",
       "         [  1.22565102e+00,  -4.47256912e-02,  -1.02418006e+00,\n",
       "            6.41256935e-02,   2.01318688e-01,  -4.93522000e-02],\n",
       "         [ -2.58660864e-01,  -1.18274774e+00,  -3.23092530e-01,\n",
       "            1.78039807e-01,  -7.79725878e-01,  -3.92019110e-01],\n",
       "         [ -1.05277275e+00,   5.30038047e-01,  -2.83912566e-01,\n",
       "            1.26973616e+00,   1.18514465e+00,  -2.09256778e-01]],\n",
       "\n",
       "        [[  9.94052698e-01,   1.33845961e+00,   3.11885110e-01,\n",
       "            6.79622671e-01,   2.07158976e+00,  -1.82822116e+00],\n",
       "         [  6.63650909e-01,  -9.51944640e-01,  -1.24735577e+00,\n",
       "           -2.12255854e-01,  -2.08378555e+00,  -1.47507891e+00],\n",
       "         [ -4.09209294e-01,  -1.76875584e+00,  -9.25997876e-01,\n",
       "            1.81303607e+00,  -1.23820532e+00,   5.03947234e-01],\n",
       "         [ -1.22820348e+00,  -6.74705422e-01,   8.80505807e-01,\n",
       "           -5.39924337e-01,  -4.34747399e-01,   9.07012816e-01],\n",
       "         [  5.85136366e-01,   3.36266608e-01,  -2.22107531e-01,\n",
       "           -6.71785971e-01,   1.10484160e+00,  -7.57932470e-01]],\n",
       "\n",
       "        [[ -1.16258636e+00,   1.03438783e+00,   4.62389794e-01,\n",
       "            6.31559966e-01,   4.53230106e-01,   1.01545707e+00],\n",
       "         [ -8.08977294e-01,  -8.16132534e-01,   6.20241770e-01,\n",
       "           -1.13712243e-01,  -5.40354604e-01,  -1.58256230e-01],\n",
       "         [  5.39454432e-01,   3.15108353e-01,   7.71044224e-01,\n",
       "           -7.55092023e-01,  -2.05217515e-01,  -7.35913388e-01],\n",
       "         [ -3.21919770e-01,  -1.48707848e+00,   4.61215484e-01,\n",
       "           -1.20195797e+00,   1.10302736e+00,   7.75794023e-01],\n",
       "         [ -3.58856786e-01,   1.23440309e+00,   1.14208254e+00,\n",
       "           -1.57209851e-01,  -8.04241000e-03,  -5.79841266e-01]]],\n",
       "\n",
       "\n",
       "       [[[  4.00873511e-01,  -1.65451722e+00,  -5.98551744e-02,\n",
       "           -7.66384780e-01,   3.36654792e-01,   3.04063145e-01],\n",
       "         [ -4.89955739e-01,   2.21145402e+00,  -3.61613616e-01,\n",
       "           -1.56035631e+00,  -7.17278088e-01,   5.38346153e-01],\n",
       "         [ -4.84751760e-01,   1.07839331e+00,  -1.70545095e-01,\n",
       "            2.38581356e-01,   5.98717094e-02,  -2.98819654e+00],\n",
       "         [ -3.34412511e-01,  -7.11018143e-01,   4.75737492e-01,\n",
       "            1.69200011e+00,   1.03191640e+00,   9.72077642e-01],\n",
       "         [  6.98765810e-01,   1.82437629e-01,   1.17687808e+00,\n",
       "           -9.79220308e-01,   2.91234984e-01,   7.43408072e-01]],\n",
       "\n",
       "        [[ -1.09168434e+00,  -8.87674063e-02,   1.67756503e-01,\n",
       "            5.94817891e-01,  -9.33622724e-01,   8.36039226e-01],\n",
       "         [ -1.32813397e+00,   6.82049859e-01,  -1.13459369e+00,\n",
       "           -1.40221330e-01,   3.26789117e-01,   8.74433884e-02],\n",
       "         [ -1.45070363e+00,  -2.74142943e-01,  -1.83387909e+00,\n",
       "           -1.16670490e+00,   5.60275847e-01,  -6.37445124e-01],\n",
       "         [  6.19899096e-01,  -1.38008581e-01,   1.58479346e+00,\n",
       "           -5.73381268e-01,   8.81258179e-01,   3.96627808e-01],\n",
       "         [  1.62378308e+00,  -2.40113207e+00,  -1.32635170e+00,\n",
       "           -3.41194478e-01,   3.99583084e-01,  -1.01335663e-01]],\n",
       "\n",
       "        [[  1.99796675e-01,   1.27362079e+00,  -5.68723853e-01,\n",
       "            6.78620212e-01,  -1.41334148e+00,  -4.35520676e-01],\n",
       "         [  1.23052316e+00,  -2.22955732e+00,  -8.00040924e-01,\n",
       "           -1.12091961e+00,   5.71004670e-02,   5.93490457e-01],\n",
       "         [ -7.04655949e-01,  -1.21420535e+00,   9.03271043e-01,\n",
       "            1.03643591e+00,   1.71547685e+00,  -2.50638497e-01],\n",
       "         [  2.18305665e-01,   7.76081491e-01,   1.07771542e+00,\n",
       "           -5.62606113e-01,  -4.18172735e-01,   9.67873441e-01],\n",
       "         [ -2.31562891e+00,   4.93015546e-01,   6.63140259e-01,\n",
       "            4.77073142e-01,  -3.93036539e-01,   1.64923364e+00]],\n",
       "\n",
       "        [[ -2.10725989e-01,  -2.90915507e-03,  -3.04541726e-01,\n",
       "           -3.29392745e-01,  -3.96266901e-01,   1.73577243e+00],\n",
       "         [ -1.09626909e+00,   8.92639472e-01,   9.35512095e-01,\n",
       "           -7.85951032e-01,  -9.92013105e-01,   2.16050900e+00],\n",
       "         [  1.75061362e+00,   1.35569272e+00,   3.86046441e-02,\n",
       "            1.40168070e+00,   4.94669604e-01,  -9.83660107e-01],\n",
       "         [  2.37000817e-01,  -1.50847283e+00,  -2.72213174e-01,\n",
       "            1.47641944e+00,   4.87822908e-01,  -1.67797468e-01],\n",
       "         [ -2.88044720e-01,  -6.42669063e-01,   5.04844430e-01,\n",
       "           -8.39040395e-01,  -1.70807616e-01,   4.73029592e-01]]]])"
      ]
     },
     "execution_count": 166,
     "metadata": {},
     "output_type": "execute_result"
    }
   ],
   "source": [
    "a = np.random.randn(3,4,5,6)\n",
    "a"
   ]
  },
  {
   "cell_type": "code",
   "execution_count": 171,
   "metadata": {
    "collapsed": true
   },
   "outputs": [],
   "source": [
    "b = a.transpose(0, 3, 1, 2)"
   ]
  },
  {
   "cell_type": "code",
   "execution_count": 172,
   "metadata": {
    "collapsed": false
   },
   "outputs": [
    {
     "data": {
      "text/plain": [
       "array([[[[  2.13817698e+00,   2.67128781e+00,   4.00873511e-01],\n",
       "         [ -1.39720684e+00,  -1.24464466e-01,  -1.09168434e+00],\n",
       "         [  1.54770226e-01,   9.94052698e-01,   1.99796675e-01],\n",
       "         [  3.83916465e-01,  -1.16258636e+00,  -2.10725989e-01]],\n",
       "\n",
       "        [[ -1.28247323e-01,   6.61937772e-01,  -4.89955739e-01],\n",
       "         [ -5.00907266e-01,   7.25762706e-01,  -1.32813397e+00],\n",
       "         [  6.64711559e-01,   6.63650909e-01,   1.23052316e+00],\n",
       "         [  5.29816011e-01,  -8.08977294e-01,  -1.09626909e+00]],\n",
       "\n",
       "        [[ -3.75248424e-01,   7.27479295e-01,  -4.84751760e-01],\n",
       "         [  9.81773108e-01,   1.22565102e+00,  -1.45070363e+00],\n",
       "         [  4.38815507e-01,  -4.09209294e-01,  -7.04655949e-01],\n",
       "         [  2.12526653e+00,   5.39454432e-01,   1.75061362e+00]],\n",
       "\n",
       "        [[  1.06011645e+00,  -9.04215862e-01,  -3.34412511e-01],\n",
       "         [  9.83100243e-01,  -2.58660864e-01,   6.19899096e-01],\n",
       "         [  1.07835353e+00,  -1.22820348e+00,   2.18305665e-01],\n",
       "         [ -1.13007911e-02,  -3.21919770e-01,   2.37000817e-01]],\n",
       "\n",
       "        [[  1.53247409e+00,  -6.93159170e-01,   6.98765810e-01],\n",
       "         [  1.47442821e-01,  -1.05277275e+00,   1.62378308e+00],\n",
       "         [ -1.15689596e+00,   5.85136366e-01,  -2.31562891e+00],\n",
       "         [  4.68611729e-01,  -3.58856786e-01,  -2.88044720e-01]]],\n",
       "\n",
       "\n",
       "       [[[ -9.55180132e-01,   4.86208108e-01,  -1.65451722e+00],\n",
       "         [  1.07647056e+00,   1.45604659e+00,  -8.87674063e-02],\n",
       "         [ -3.81790212e-01,   1.33845961e+00,   1.27362079e+00],\n",
       "         [ -4.41859246e-01,   1.03438783e+00,  -2.90915507e-03]],\n",
       "\n",
       "        [[  5.74788523e-01,   1.49936478e+00,   2.21145402e+00],\n",
       "         [ -9.39397548e-01,   2.45672784e+00,   6.82049859e-01],\n",
       "         [ -6.13287256e-01,  -9.51944640e-01,  -2.22955732e+00],\n",
       "         [  1.21565546e+00,  -8.16132534e-01,   8.92639472e-01]],\n",
       "\n",
       "        [[ -4.30392168e-01,  -2.02021041e+00,   1.07839331e+00],\n",
       "         [ -1.46482554e+00,  -4.47256912e-02,  -2.74142943e-01],\n",
       "         [  8.64077943e-01,  -1.76875584e+00,  -1.21420535e+00],\n",
       "         [  1.37599407e+00,   3.15108353e-01,   1.35569272e+00]],\n",
       "\n",
       "        [[ -1.17720849e+00,  -5.78507267e-01,  -7.11018143e-01],\n",
       "         [  1.07306526e+00,  -1.18274774e+00,  -1.38008581e-01],\n",
       "         [ -7.14023020e-01,  -6.74705422e-01,   7.76081491e-01],\n",
       "         [ -4.70128441e-01,  -1.48707848e+00,  -1.50847283e+00]],\n",
       "\n",
       "        [[ -5.97725545e-01,  -1.86974917e+00,   1.82437629e-01],\n",
       "         [ -1.30327970e+00,   5.30038047e-01,  -2.40113207e+00],\n",
       "         [ -1.08829277e+00,   3.36266608e-01,   4.93015546e-01],\n",
       "         [ -9.85057849e-01,   1.23440309e+00,  -6.42669063e-01]]],\n",
       "\n",
       "\n",
       "       [[[ -8.02897459e-01,   1.39949114e+00,  -5.98551744e-02],\n",
       "         [ -2.71131849e+00,   4.09019317e-02,   1.67756503e-01],\n",
       "         [ -5.58904819e-01,   3.11885110e-01,  -5.68723853e-01],\n",
       "         [  3.23733856e-01,   4.62389794e-01,  -3.04541726e-01]],\n",
       "\n",
       "        [[  3.70798246e-01,   2.40158710e-01,  -3.61613616e-01],\n",
       "         [  6.38781633e-01,   1.91613331e+00,  -1.13459369e+00],\n",
       "         [ -1.01384474e+00,  -1.24735577e+00,  -8.00040924e-01],\n",
       "         [ -1.12509143e+00,   6.20241770e-01,   9.35512095e-01]],\n",
       "\n",
       "        [[  1.64337326e-01,  -6.91856789e-01,  -1.70545095e-01],\n",
       "         [ -1.20206292e-01,  -1.02418006e+00,  -1.83387909e+00],\n",
       "         [  4.59453850e-01,  -9.25997876e-01,   9.03271043e-01],\n",
       "         [ -1.37151401e+00,   7.71044224e-01,   3.86046441e-02]],\n",
       "\n",
       "        [[ -1.14633589e-01,   7.68588397e-01,   4.75737492e-01],\n",
       "         [  1.28026994e+00,  -3.23092530e-01,   1.58479346e+00],\n",
       "         [ -8.47719845e-01,   8.80505807e-01,   1.07771542e+00],\n",
       "         [  4.94863117e-01,   4.61215484e-01,  -2.72213174e-01]],\n",
       "\n",
       "        [[ -5.95048043e-01,   3.79370005e-01,   1.17687808e+00],\n",
       "         [  2.16524837e-02,  -2.83912566e-01,  -1.32635170e+00],\n",
       "         [ -6.25002722e-01,  -2.22107531e-01,   6.63140259e-01],\n",
       "         [ -7.77613309e-01,   1.14208254e+00,   5.04844430e-01]]],\n",
       "\n",
       "\n",
       "       [[[ -1.70205973e-01,  -1.15765448e+00,  -7.66384780e-01],\n",
       "         [  1.53614206e+00,   1.29642143e+00,   5.94817891e-01],\n",
       "         [ -1.02312371e+00,   6.79622671e-01,   6.78620212e-01],\n",
       "         [ -2.44932827e-01,   6.31559966e-01,  -3.29392745e-01]],\n",
       "\n",
       "        [[  5.64404418e-01,   6.91962167e-01,  -1.56035631e+00],\n",
       "         [  5.90515140e-01,   3.87969890e-01,  -1.40221330e-01],\n",
       "         [ -7.40362679e-01,  -2.12255854e-01,  -1.12091961e+00],\n",
       "         [ -5.03507357e-01,  -1.13712243e-01,  -7.85951032e-01]],\n",
       "\n",
       "        [[ -1.78651414e+00,  -2.59152506e-01,   2.38581356e-01],\n",
       "         [  2.19755131e+00,   6.41256935e-02,  -1.16670490e+00],\n",
       "         [  9.52943211e-01,   1.81303607e+00,   1.03643591e+00],\n",
       "         [ -1.10734760e-01,  -7.55092023e-01,   1.40168070e+00]],\n",
       "\n",
       "        [[ -1.09393115e-01,  -4.35542013e-01,   1.69200011e+00],\n",
       "         [ -6.27638426e-01,   1.78039807e-01,  -5.73381268e-01],\n",
       "         [ -1.04110616e-01,  -5.39924337e-01,  -5.62606113e-01],\n",
       "         [  1.16367921e+00,  -1.20195797e+00,   1.47641944e+00]],\n",
       "\n",
       "        [[  8.84624829e-01,  -2.99388341e-01,  -9.79220308e-01],\n",
       "         [  4.84510963e-01,   1.26973616e+00,  -3.41194478e-01],\n",
       "         [ -1.57586891e+00,  -6.71785971e-01,   4.77073142e-01],\n",
       "         [ -1.79089986e-01,  -1.57209851e-01,  -8.39040395e-01]]],\n",
       "\n",
       "\n",
       "       [[[  1.05434214e-01,  -1.01681654e+00,   3.36654792e-01],\n",
       "         [  1.86363368e+00,  -1.83961771e+00,  -9.33622724e-01],\n",
       "         [  9.80057698e-01,   2.07158976e+00,  -1.41334148e+00],\n",
       "         [ -1.21845413e-01,   4.53230106e-01,  -3.96266901e-01]],\n",
       "\n",
       "        [[ -4.40564657e-01,   8.08033771e-01,  -7.17278088e-01],\n",
       "         [ -5.41618901e-01,  -1.89827658e+00,   3.26789117e-01],\n",
       "         [ -1.58918024e+00,  -2.08378555e+00,   5.71004670e-02],\n",
       "         [ -1.07064105e+00,  -5.40354604e-01,  -9.92013105e-01]],\n",
       "\n",
       "        [[  5.18297456e-01,   1.52361465e+00,   5.98717094e-02],\n",
       "         [ -2.02727884e-01,   2.01318688e-01,   5.60275847e-01],\n",
       "         [  6.51755433e-02,  -1.23820532e+00,   1.71547685e+00],\n",
       "         [ -8.90589286e-01,  -2.05217515e-01,   4.94669604e-01]],\n",
       "\n",
       "        [[ -3.55626458e-01,   7.85170779e-01,   1.03191640e+00],\n",
       "         [ -1.88581658e+00,  -7.79725878e-01,   8.81258179e-01],\n",
       "         [  2.10622394e-01,  -4.34747399e-01,  -4.18172735e-01],\n",
       "         [  9.51623978e-01,   1.10302736e+00,   4.87822908e-01]],\n",
       "\n",
       "        [[ -1.37969068e+00,  -7.64095850e-01,   2.91234984e-01],\n",
       "         [ -1.73838136e+00,   1.18514465e+00,   3.99583084e-01],\n",
       "         [ -3.93173854e-02,   1.10484160e+00,  -3.93036539e-01],\n",
       "         [ -3.31377498e-01,  -8.04241000e-03,  -1.70807616e-01]]],\n",
       "\n",
       "\n",
       "       [[[  2.00932468e-01,   7.22185938e-01,   3.04063145e-01],\n",
       "         [  7.04117891e-01,   4.69151093e-01,   8.36039226e-01],\n",
       "         [  1.25561335e+00,  -1.82822116e+00,  -4.35520676e-01],\n",
       "         [  1.44528134e+00,   1.01545707e+00,   1.73577243e+00]],\n",
       "\n",
       "        [[  6.45339861e-01,  -4.60927424e-01,   5.38346153e-01],\n",
       "         [  1.76206944e-02,   2.42325665e+00,   8.74433884e-02],\n",
       "         [ -4.28995626e-01,  -1.47507891e+00,   5.93490457e-01],\n",
       "         [  3.69194905e-01,  -1.58256230e-01,   2.16050900e+00]],\n",
       "\n",
       "        [[ -1.20657467e+00,   1.01629897e+00,  -2.98819654e+00],\n",
       "         [  7.30724115e-01,  -4.93522000e-02,  -6.37445124e-01],\n",
       "         [  7.29723067e-01,   5.03947234e-01,  -2.50638497e-01],\n",
       "         [ -6.10945344e-01,  -7.35913388e-01,  -9.83660107e-01]],\n",
       "\n",
       "        [[ -3.02518104e-01,  -9.45973013e-01,   9.72077642e-01],\n",
       "         [  8.11660342e-01,  -3.92019110e-01,   3.96627808e-01],\n",
       "         [ -5.97635125e-03,   9.07012816e-01,   9.67873441e-01],\n",
       "         [  2.11905593e-01,   7.75794023e-01,  -1.67797468e-01]],\n",
       "\n",
       "        [[ -1.13803188e+00,   1.08783285e+00,   7.43408072e-01],\n",
       "         [ -3.93214976e-01,  -2.09256778e-01,  -1.01335663e-01],\n",
       "         [ -1.16379890e+00,  -7.57932470e-01,   1.64923364e+00],\n",
       "         [ -1.70378445e-01,  -5.79841266e-01,   4.73029592e-01]]]])"
      ]
     },
     "execution_count": 172,
     "metadata": {},
     "output_type": "execute_result"
    }
   ],
   "source": [
    "a.T"
   ]
  },
  {
   "cell_type": "code",
   "execution_count": null,
   "metadata": {
    "collapsed": true
   },
   "outputs": [],
   "source": []
  },
  {
   "cell_type": "code",
   "execution_count": 170,
   "metadata": {
    "collapsed": false,
    "scrolled": true
   },
   "outputs": [
    {
     "data": {
      "text/plain": [
       "array([[[[  2.13817698e+00,  -1.28247323e-01,  -3.75248424e-01,\n",
       "            1.06011645e+00,   1.53247409e+00],\n",
       "         [ -1.39720684e+00,  -5.00907266e-01,   9.81773108e-01,\n",
       "            9.83100243e-01,   1.47442821e-01],\n",
       "         [  1.54770226e-01,   6.64711559e-01,   4.38815507e-01,\n",
       "            1.07835353e+00,  -1.15689596e+00],\n",
       "         [  3.83916465e-01,   5.29816011e-01,   2.12526653e+00,\n",
       "           -1.13007911e-02,   4.68611729e-01]],\n",
       "\n",
       "        [[ -9.55180132e-01,   5.74788523e-01,  -4.30392168e-01,\n",
       "           -1.17720849e+00,  -5.97725545e-01],\n",
       "         [  1.07647056e+00,  -9.39397548e-01,  -1.46482554e+00,\n",
       "            1.07306526e+00,  -1.30327970e+00],\n",
       "         [ -3.81790212e-01,  -6.13287256e-01,   8.64077943e-01,\n",
       "           -7.14023020e-01,  -1.08829277e+00],\n",
       "         [ -4.41859246e-01,   1.21565546e+00,   1.37599407e+00,\n",
       "           -4.70128441e-01,  -9.85057849e-01]],\n",
       "\n",
       "        [[ -8.02897459e-01,   3.70798246e-01,   1.64337326e-01,\n",
       "           -1.14633589e-01,  -5.95048043e-01],\n",
       "         [ -2.71131849e+00,   6.38781633e-01,  -1.20206292e-01,\n",
       "            1.28026994e+00,   2.16524837e-02],\n",
       "         [ -5.58904819e-01,  -1.01384474e+00,   4.59453850e-01,\n",
       "           -8.47719845e-01,  -6.25002722e-01],\n",
       "         [  3.23733856e-01,  -1.12509143e+00,  -1.37151401e+00,\n",
       "            4.94863117e-01,  -7.77613309e-01]],\n",
       "\n",
       "        [[ -1.70205973e-01,   5.64404418e-01,  -1.78651414e+00,\n",
       "           -1.09393115e-01,   8.84624829e-01],\n",
       "         [  1.53614206e+00,   5.90515140e-01,   2.19755131e+00,\n",
       "           -6.27638426e-01,   4.84510963e-01],\n",
       "         [ -1.02312371e+00,  -7.40362679e-01,   9.52943211e-01,\n",
       "           -1.04110616e-01,  -1.57586891e+00],\n",
       "         [ -2.44932827e-01,  -5.03507357e-01,  -1.10734760e-01,\n",
       "            1.16367921e+00,  -1.79089986e-01]],\n",
       "\n",
       "        [[  1.05434214e-01,  -4.40564657e-01,   5.18297456e-01,\n",
       "           -3.55626458e-01,  -1.37969068e+00],\n",
       "         [  1.86363368e+00,  -5.41618901e-01,  -2.02727884e-01,\n",
       "           -1.88581658e+00,  -1.73838136e+00],\n",
       "         [  9.80057698e-01,  -1.58918024e+00,   6.51755433e-02,\n",
       "            2.10622394e-01,  -3.93173854e-02],\n",
       "         [ -1.21845413e-01,  -1.07064105e+00,  -8.90589286e-01,\n",
       "            9.51623978e-01,  -3.31377498e-01]],\n",
       "\n",
       "        [[  2.00932468e-01,   6.45339861e-01,  -1.20657467e+00,\n",
       "           -3.02518104e-01,  -1.13803188e+00],\n",
       "         [  7.04117891e-01,   1.76206944e-02,   7.30724115e-01,\n",
       "            8.11660342e-01,  -3.93214976e-01],\n",
       "         [  1.25561335e+00,  -4.28995626e-01,   7.29723067e-01,\n",
       "           -5.97635125e-03,  -1.16379890e+00],\n",
       "         [  1.44528134e+00,   3.69194905e-01,  -6.10945344e-01,\n",
       "            2.11905593e-01,  -1.70378445e-01]]],\n",
       "\n",
       "\n",
       "       [[[  2.67128781e+00,   6.61937772e-01,   7.27479295e-01,\n",
       "           -9.04215862e-01,  -6.93159170e-01],\n",
       "         [ -1.24464466e-01,   7.25762706e-01,   1.22565102e+00,\n",
       "           -2.58660864e-01,  -1.05277275e+00],\n",
       "         [  9.94052698e-01,   6.63650909e-01,  -4.09209294e-01,\n",
       "           -1.22820348e+00,   5.85136366e-01],\n",
       "         [ -1.16258636e+00,  -8.08977294e-01,   5.39454432e-01,\n",
       "           -3.21919770e-01,  -3.58856786e-01]],\n",
       "\n",
       "        [[  4.86208108e-01,   1.49936478e+00,  -2.02021041e+00,\n",
       "           -5.78507267e-01,  -1.86974917e+00],\n",
       "         [  1.45604659e+00,   2.45672784e+00,  -4.47256912e-02,\n",
       "           -1.18274774e+00,   5.30038047e-01],\n",
       "         [  1.33845961e+00,  -9.51944640e-01,  -1.76875584e+00,\n",
       "           -6.74705422e-01,   3.36266608e-01],\n",
       "         [  1.03438783e+00,  -8.16132534e-01,   3.15108353e-01,\n",
       "           -1.48707848e+00,   1.23440309e+00]],\n",
       "\n",
       "        [[  1.39949114e+00,   2.40158710e-01,  -6.91856789e-01,\n",
       "            7.68588397e-01,   3.79370005e-01],\n",
       "         [  4.09019317e-02,   1.91613331e+00,  -1.02418006e+00,\n",
       "           -3.23092530e-01,  -2.83912566e-01],\n",
       "         [  3.11885110e-01,  -1.24735577e+00,  -9.25997876e-01,\n",
       "            8.80505807e-01,  -2.22107531e-01],\n",
       "         [  4.62389794e-01,   6.20241770e-01,   7.71044224e-01,\n",
       "            4.61215484e-01,   1.14208254e+00]],\n",
       "\n",
       "        [[ -1.15765448e+00,   6.91962167e-01,  -2.59152506e-01,\n",
       "           -4.35542013e-01,  -2.99388341e-01],\n",
       "         [  1.29642143e+00,   3.87969890e-01,   6.41256935e-02,\n",
       "            1.78039807e-01,   1.26973616e+00],\n",
       "         [  6.79622671e-01,  -2.12255854e-01,   1.81303607e+00,\n",
       "           -5.39924337e-01,  -6.71785971e-01],\n",
       "         [  6.31559966e-01,  -1.13712243e-01,  -7.55092023e-01,\n",
       "           -1.20195797e+00,  -1.57209851e-01]],\n",
       "\n",
       "        [[ -1.01681654e+00,   8.08033771e-01,   1.52361465e+00,\n",
       "            7.85170779e-01,  -7.64095850e-01],\n",
       "         [ -1.83961771e+00,  -1.89827658e+00,   2.01318688e-01,\n",
       "           -7.79725878e-01,   1.18514465e+00],\n",
       "         [  2.07158976e+00,  -2.08378555e+00,  -1.23820532e+00,\n",
       "           -4.34747399e-01,   1.10484160e+00],\n",
       "         [  4.53230106e-01,  -5.40354604e-01,  -2.05217515e-01,\n",
       "            1.10302736e+00,  -8.04241000e-03]],\n",
       "\n",
       "        [[  7.22185938e-01,  -4.60927424e-01,   1.01629897e+00,\n",
       "           -9.45973013e-01,   1.08783285e+00],\n",
       "         [  4.69151093e-01,   2.42325665e+00,  -4.93522000e-02,\n",
       "           -3.92019110e-01,  -2.09256778e-01],\n",
       "         [ -1.82822116e+00,  -1.47507891e+00,   5.03947234e-01,\n",
       "            9.07012816e-01,  -7.57932470e-01],\n",
       "         [  1.01545707e+00,  -1.58256230e-01,  -7.35913388e-01,\n",
       "            7.75794023e-01,  -5.79841266e-01]]],\n",
       "\n",
       "\n",
       "       [[[  4.00873511e-01,  -4.89955739e-01,  -4.84751760e-01,\n",
       "           -3.34412511e-01,   6.98765810e-01],\n",
       "         [ -1.09168434e+00,  -1.32813397e+00,  -1.45070363e+00,\n",
       "            6.19899096e-01,   1.62378308e+00],\n",
       "         [  1.99796675e-01,   1.23052316e+00,  -7.04655949e-01,\n",
       "            2.18305665e-01,  -2.31562891e+00],\n",
       "         [ -2.10725989e-01,  -1.09626909e+00,   1.75061362e+00,\n",
       "            2.37000817e-01,  -2.88044720e-01]],\n",
       "\n",
       "        [[ -1.65451722e+00,   2.21145402e+00,   1.07839331e+00,\n",
       "           -7.11018143e-01,   1.82437629e-01],\n",
       "         [ -8.87674063e-02,   6.82049859e-01,  -2.74142943e-01,\n",
       "           -1.38008581e-01,  -2.40113207e+00],\n",
       "         [  1.27362079e+00,  -2.22955732e+00,  -1.21420535e+00,\n",
       "            7.76081491e-01,   4.93015546e-01],\n",
       "         [ -2.90915507e-03,   8.92639472e-01,   1.35569272e+00,\n",
       "           -1.50847283e+00,  -6.42669063e-01]],\n",
       "\n",
       "        [[ -5.98551744e-02,  -3.61613616e-01,  -1.70545095e-01,\n",
       "            4.75737492e-01,   1.17687808e+00],\n",
       "         [  1.67756503e-01,  -1.13459369e+00,  -1.83387909e+00,\n",
       "            1.58479346e+00,  -1.32635170e+00],\n",
       "         [ -5.68723853e-01,  -8.00040924e-01,   9.03271043e-01,\n",
       "            1.07771542e+00,   6.63140259e-01],\n",
       "         [ -3.04541726e-01,   9.35512095e-01,   3.86046441e-02,\n",
       "           -2.72213174e-01,   5.04844430e-01]],\n",
       "\n",
       "        [[ -7.66384780e-01,  -1.56035631e+00,   2.38581356e-01,\n",
       "            1.69200011e+00,  -9.79220308e-01],\n",
       "         [  5.94817891e-01,  -1.40221330e-01,  -1.16670490e+00,\n",
       "           -5.73381268e-01,  -3.41194478e-01],\n",
       "         [  6.78620212e-01,  -1.12091961e+00,   1.03643591e+00,\n",
       "           -5.62606113e-01,   4.77073142e-01],\n",
       "         [ -3.29392745e-01,  -7.85951032e-01,   1.40168070e+00,\n",
       "            1.47641944e+00,  -8.39040395e-01]],\n",
       "\n",
       "        [[  3.36654792e-01,  -7.17278088e-01,   5.98717094e-02,\n",
       "            1.03191640e+00,   2.91234984e-01],\n",
       "         [ -9.33622724e-01,   3.26789117e-01,   5.60275847e-01,\n",
       "            8.81258179e-01,   3.99583084e-01],\n",
       "         [ -1.41334148e+00,   5.71004670e-02,   1.71547685e+00,\n",
       "           -4.18172735e-01,  -3.93036539e-01],\n",
       "         [ -3.96266901e-01,  -9.92013105e-01,   4.94669604e-01,\n",
       "            4.87822908e-01,  -1.70807616e-01]],\n",
       "\n",
       "        [[  3.04063145e-01,   5.38346153e-01,  -2.98819654e+00,\n",
       "            9.72077642e-01,   7.43408072e-01],\n",
       "         [  8.36039226e-01,   8.74433884e-02,  -6.37445124e-01,\n",
       "            3.96627808e-01,  -1.01335663e-01],\n",
       "         [ -4.35520676e-01,   5.93490457e-01,  -2.50638497e-01,\n",
       "            9.67873441e-01,   1.64923364e+00],\n",
       "         [  1.73577243e+00,   2.16050900e+00,  -9.83660107e-01,\n",
       "           -1.67797468e-01,   4.73029592e-01]]]])"
      ]
     },
     "execution_count": 170,
     "metadata": {},
     "output_type": "execute_result"
    }
   ],
   "source": [
    "b.shape\n",
    "\n",
    "\n",
    "b"
   ]
  },
  {
   "cell_type": "markdown",
   "metadata": {},
   "source": [
    "## 4.23 padding\n"
   ]
  },
  {
   "cell_type": "code",
   "execution_count": 174,
   "metadata": {
    "collapsed": false
   },
   "outputs": [
    {
     "data": {
      "text/plain": [
       "array([[0, 0, 0, 0, 0],\n",
       "       [0, 1, 2, 3, 0],\n",
       "       [0, 4, 5, 6, 0],\n",
       "       [0, 0, 0, 0, 0]])"
      ]
     },
     "execution_count": 174,
     "metadata": {},
     "output_type": "execute_result"
    }
   ],
   "source": [
    "a = np.array( [ [1,2,3], [4,5,6] ] )\n",
    "np.pad(a, 1, 'constant')\n",
    "#상수값으로 겉을 감싸는 것"
   ]
  },
  {
   "cell_type": "code",
   "execution_count": 175,
   "metadata": {
    "collapsed": false
   },
   "outputs": [
    {
     "data": {
      "text/plain": [
       "array([[1, 1, 2, 3, 3],\n",
       "       [1, 1, 2, 3, 3],\n",
       "       [4, 4, 5, 6, 6],\n",
       "       [4, 4, 5, 6, 6]])"
      ]
     },
     "execution_count": 175,
     "metadata": {},
     "output_type": "execute_result"
    }
   ],
   "source": [
    "a = np.array( [ [1,2,3], [4,5,6] ] )\n",
    "np.pad(a, 1, 'edge')\n",
    "#convloution 할때 사용\n"
   ]
  },
  {
   "cell_type": "markdown",
   "metadata": {},
   "source": [
    "## 4.24 `random.permutation()`\n",
    "\n",
    "모든 값들을 섞는다"
   ]
  },
  {
   "cell_type": "code",
   "execution_count": 176,
   "metadata": {
    "collapsed": false
   },
   "outputs": [
    {
     "data": {
      "text/plain": [
       "array([1, 5, 3, 7, 4, 9, 2, 8, 0, 6])"
      ]
     },
     "execution_count": 176,
     "metadata": {},
     "output_type": "execute_result"
    }
   ],
   "source": [
    "np.random.permutation(10)"
   ]
  },
  {
   "cell_type": "code",
   "execution_count": 177,
   "metadata": {
    "collapsed": false
   },
   "outputs": [
    {
     "data": {
      "text/plain": [
       "array([4, 5, 2, 3, 1])"
      ]
     },
     "execution_count": 177,
     "metadata": {},
     "output_type": "execute_result"
    }
   ],
   "source": [
    "np.random.permutation([1,2,3,4,5])"
   ]
  },
  {
   "cell_type": "markdown",
   "metadata": {},
   "source": [
    "## 4.25 `random.shuffle()`\n",
    "\n",
    "모든 값들을 섞는다. in-place 연산"
   ]
  },
  {
   "cell_type": "code",
   "execution_count": 178,
   "metadata": {
    "collapsed": false
   },
   "outputs": [
    {
     "data": {
      "text/plain": [
       "array([6, 9, 1, 2, 7, 4, 8, 0, 5, 3])"
      ]
     },
     "execution_count": 178,
     "metadata": {},
     "output_type": "execute_result"
    }
   ],
   "source": [
    "a = np.arange(10)\n",
    "np.random.shuffle(a)\n",
    "a"
   ]
  },
  {
   "cell_type": "markdown",
   "metadata": {},
   "source": [
    "## 4.26 `random.choice()`\n",
    "\n",
    "중복 가능성 있음"
   ]
  },
  {
   "cell_type": "code",
   "execution_count": 179,
   "metadata": {
    "collapsed": false
   },
   "outputs": [
    {
     "data": {
      "text/plain": [
       "array([33,  9, 58, 80, 35, 88, 52, 72, 38, 75])"
      ]
     },
     "execution_count": 179,
     "metadata": {},
     "output_type": "execute_result"
    }
   ],
   "source": [
    "np.random.choice(100, 10)"
   ]
  },
  {
   "cell_type": "markdown",
   "metadata": {},
   "source": [
    "## 4.27 기초 통계 관련\n"
   ]
  },
  {
   "cell_type": "code",
   "execution_count": 180,
   "metadata": {
    "collapsed": false
   },
   "outputs": [
    {
     "data": {
      "text/plain": [
       "array([46, 59, 14, 71, 82,  8, 28, 26, 95, 25])"
      ]
     },
     "execution_count": 180,
     "metadata": {},
     "output_type": "execute_result"
    }
   ],
   "source": [
    "import numpy as np\n",
    "\n",
    "a = np.random.randint(0, 100, 10)\n",
    "a"
   ]
  },
  {
   "cell_type": "code",
   "execution_count": 181,
   "metadata": {
    "collapsed": false
   },
   "outputs": [
    {
     "data": {
      "text/plain": [
       "95"
      ]
     },
     "execution_count": 181,
     "metadata": {},
     "output_type": "execute_result"
    }
   ],
   "source": [
    "a.max()"
   ]
  },
  {
   "cell_type": "code",
   "execution_count": 182,
   "metadata": {
    "collapsed": false
   },
   "outputs": [
    {
     "data": {
      "text/plain": [
       "8"
      ]
     },
     "execution_count": 182,
     "metadata": {},
     "output_type": "execute_result"
    }
   ],
   "source": [
    "a.argmax()"
   ]
  },
  {
   "cell_type": "code",
   "execution_count": 183,
   "metadata": {
    "collapsed": false
   },
   "outputs": [
    {
     "data": {
      "text/plain": [
       "8"
      ]
     },
     "execution_count": 183,
     "metadata": {},
     "output_type": "execute_result"
    }
   ],
   "source": [
    "a.min()"
   ]
  },
  {
   "cell_type": "code",
   "execution_count": 184,
   "metadata": {
    "collapsed": false
   },
   "outputs": [
    {
     "data": {
      "text/plain": [
       "5"
      ]
     },
     "execution_count": 184,
     "metadata": {},
     "output_type": "execute_result"
    }
   ],
   "source": [
    "a.argmin()"
   ]
  },
  {
   "cell_type": "code",
   "execution_count": 185,
   "metadata": {
    "collapsed": false
   },
   "outputs": [
    {
     "data": {
      "text/plain": [
       "454"
      ]
     },
     "execution_count": 185,
     "metadata": {},
     "output_type": "execute_result"
    }
   ],
   "source": [
    "a.sum()"
   ]
  },
  {
   "cell_type": "code",
   "execution_count": 186,
   "metadata": {
    "collapsed": false
   },
   "outputs": [
    {
     "data": {
      "text/plain": [
       "array([ 6.78232998,  7.68114575,  3.74165739,  8.42614977,  9.05538514,\n",
       "        2.82842712,  5.29150262,  5.09901951,  9.74679434,  5.        ])"
      ]
     },
     "execution_count": 186,
     "metadata": {},
     "output_type": "execute_result"
    }
   ],
   "source": [
    "np.sqrt(a)"
   ]
  },
  {
   "cell_type": "code",
   "execution_count": 187,
   "metadata": {
    "collapsed": false
   },
   "outputs": [
    {
     "data": {
      "text/plain": [
       "45.399999999999999"
      ]
     },
     "execution_count": 187,
     "metadata": {},
     "output_type": "execute_result"
    }
   ],
   "source": [
    "a.mean()"
   ]
  },
  {
   "cell_type": "code",
   "execution_count": 188,
   "metadata": {
    "collapsed": false
   },
   "outputs": [
    {
     "data": {
      "text/plain": [
       "(28.496315551312943, 28.496315551312943)"
      ]
     },
     "execution_count": 188,
     "metadata": {},
     "output_type": "execute_result"
    }
   ],
   "source": [
    "a.std(), np.std(a)"
   ]
  },
  {
   "cell_type": "code",
   "execution_count": 189,
   "metadata": {
    "collapsed": false
   },
   "outputs": [
    {
     "data": {
      "text/plain": [
       "812.03999999999996"
      ]
     },
     "execution_count": 189,
     "metadata": {},
     "output_type": "execute_result"
    }
   ],
   "source": [
    "np.var(a)"
   ]
  },
  {
   "cell_type": "code",
   "execution_count": 190,
   "metadata": {
    "collapsed": false
   },
   "outputs": [
    {
     "data": {
      "text/plain": [
       "37.0"
      ]
     },
     "execution_count": 190,
     "metadata": {},
     "output_type": "execute_result"
    }
   ],
   "source": [
    "np.median(a)"
   ]
  },
  {
   "cell_type": "code",
   "execution_count": 191,
   "metadata": {
    "collapsed": false
   },
   "outputs": [
    {
     "data": {
      "text/plain": [
       "8.0"
      ]
     },
     "execution_count": 191,
     "metadata": {},
     "output_type": "execute_result"
    }
   ],
   "source": [
    "np.percentile(a, 0)"
   ]
  },
  {
   "cell_type": "code",
   "execution_count": 192,
   "metadata": {
    "collapsed": false
   },
   "outputs": [
    {
     "data": {
      "text/plain": [
       "25.25"
      ]
     },
     "execution_count": 192,
     "metadata": {},
     "output_type": "execute_result"
    }
   ],
   "source": [
    "np.percentile(a, 25)"
   ]
  },
  {
   "cell_type": "code",
   "execution_count": 193,
   "metadata": {
    "collapsed": false
   },
   "outputs": [
    {
     "data": {
      "text/plain": [
       "37.0"
      ]
     },
     "execution_count": 193,
     "metadata": {},
     "output_type": "execute_result"
    }
   ],
   "source": [
    "np.percentile(a, 50)"
   ]
  },
  {
   "cell_type": "code",
   "execution_count": 194,
   "metadata": {
    "collapsed": false
   },
   "outputs": [
    {
     "data": {
      "text/plain": [
       "68.0"
      ]
     },
     "execution_count": 194,
     "metadata": {},
     "output_type": "execute_result"
    }
   ],
   "source": [
    "np.percentile(a, 75)"
   ]
  },
  {
   "cell_type": "code",
   "execution_count": 195,
   "metadata": {
    "collapsed": false
   },
   "outputs": [
    {
     "data": {
      "text/plain": [
       "95.0"
      ]
     },
     "execution_count": 195,
     "metadata": {},
     "output_type": "execute_result"
    }
   ],
   "source": [
    "np.percentile(a, 100)"
   ]
  },
  {
   "cell_type": "code",
   "execution_count": 197,
   "metadata": {
    "collapsed": false
   },
   "outputs": [
    {
     "data": {
      "text/plain": [
       "array([1, 2, 3, 4])"
      ]
     },
     "execution_count": 197,
     "metadata": {},
     "output_type": "execute_result"
    }
   ],
   "source": [
    "np.unique([1,4,3,2,2,2])\n",
    "#set과 비슷"
   ]
  },
  {
   "cell_type": "markdown",
   "metadata": {},
   "source": [
    "## 4.28 삼각함수, 지수함수\n"
   ]
  },
  {
   "cell_type": "code",
   "execution_count": 198,
   "metadata": {
    "collapsed": false
   },
   "outputs": [
    {
     "data": {
      "text/plain": [
       "array([  9.49611942e+19,   4.20121040e+25,   1.20260428e+06,\n",
       "         6.83767123e+30,   4.09399696e+35,   2.98095799e+03,\n",
       "         1.44625706e+12,   1.95729609e+11,   1.81123908e+41,\n",
       "         7.20048993e+10])"
      ]
     },
     "execution_count": 198,
     "metadata": {},
     "output_type": "execute_result"
    }
   ],
   "source": [
    "np.exp(a)"
   ]
  },
  {
   "cell_type": "code",
   "execution_count": 199,
   "metadata": {
    "collapsed": false
   },
   "outputs": [
    {
     "data": {
      "text/plain": [
       "array([ 3.8286414 ,  4.07753744,  2.63905733,  4.26267988,  4.40671925,\n",
       "        2.07944154,  3.33220451,  3.25809654,  4.55387689,  3.21887582])"
      ]
     },
     "execution_count": 199,
     "metadata": {},
     "output_type": "execute_result"
    }
   ],
   "source": [
    "np.log(a)"
   ]
  },
  {
   "cell_type": "code",
   "execution_count": 200,
   "metadata": {
    "collapsed": false
   },
   "outputs": [
    {
     "data": {
      "text/plain": [
       "array([ 1.66275783,  1.77085201,  1.14612804,  1.85125835,  1.91381385,\n",
       "        0.90308999,  1.44715803,  1.41497335,  1.97772361,  1.39794001])"
      ]
     },
     "execution_count": 200,
     "metadata": {},
     "output_type": "execute_result"
    }
   ],
   "source": [
    "np.log10(a)"
   ]
  },
  {
   "cell_type": "code",
   "execution_count": 201,
   "metadata": {
    "collapsed": false
   },
   "outputs": [
    {
     "data": {
      "text/plain": [
       "array([ 0.90178835,  0.63673801,  0.99060736,  0.95105465,  0.31322878,\n",
       "        0.98935825,  0.27090579,  0.76255845,  0.68326171, -0.13235175])"
      ]
     },
     "execution_count": 201,
     "metadata": {},
     "output_type": "execute_result"
    }
   ],
   "source": [
    "np.sin(a)"
   ]
  },
  {
   "cell_type": "code",
   "execution_count": 202,
   "metadata": {
    "collapsed": false
   },
   "outputs": [
    {
     "data": {
      "text/plain": [
       "Ellipsis"
      ]
     },
     "execution_count": 202,
     "metadata": {},
     "output_type": "execute_result"
    }
   ],
   "source": [
    "..."
   ]
  },
  {
   "cell_type": "code",
   "execution_count": null,
   "metadata": {
    "collapsed": true
   },
   "outputs": [],
   "source": []
  },
  {
   "cell_type": "markdown",
   "metadata": {},
   "source": [
    "## 4.29 배열을 `for` 루프에 사용하기\n"
   ]
  },
  {
   "cell_type": "code",
   "execution_count": 203,
   "metadata": {
    "collapsed": false
   },
   "outputs": [
    {
     "data": {
      "text/plain": [
       "array([[0, 1, 2],\n",
       "       [3, 4, 5]])"
      ]
     },
     "execution_count": 203,
     "metadata": {},
     "output_type": "execute_result"
    }
   ],
   "source": [
    "import numpy as np\n",
    "\n",
    "a = np.arange(6).reshape(2,3)\n",
    "a"
   ]
  },
  {
   "cell_type": "code",
   "execution_count": 204,
   "metadata": {
    "collapsed": false
   },
   "outputs": [
    {
     "name": "stdout",
     "output_type": "stream",
     "text": [
      "[0 1 2]\n",
      "[3 4 5]\n"
     ]
    }
   ],
   "source": [
    "for row in a:\n",
    "    print(row)"
   ]
  },
  {
   "cell_type": "markdown",
   "metadata": {},
   "source": [
    "### 4.29.1 `nditer()`\n",
    "반복자와 비슷하나 다름"
   ]
  },
  {
   "cell_type": "code",
   "execution_count": 213,
   "metadata": {
    "collapsed": false
   },
   "outputs": [
    {
     "name": "stdout",
     "output_type": "stream",
     "text": [
      "0\n",
      "1\n",
      "2\n",
      "3\n",
      "4\n",
      "5\n"
     ]
    }
   ],
   "source": [
    "for x in np.nditer(a):\n",
    "    print(x)\n",
    "    #numpy에서 nditer로 퉁침, 일반 파이선에서는 29.2번처럼 한다"
   ]
  },
  {
   "cell_type": "code",
   "execution_count": 214,
   "metadata": {
    "collapsed": false
   },
   "outputs": [
    {
     "name": "stdout",
     "output_type": "stream",
     "text": [
      "(0, 0)\n",
      "(0, 1)\n",
      "(0, 2)\n",
      "(1, 0)\n",
      "(1, 1)\n",
      "(1, 2)\n"
     ]
    }
   ],
   "source": [
    "it = np.nditer(a, flags=['multi_index'])\n",
    "while not it.finished:\n",
    "    print(it.multi_index)\n",
    "    it.iternext()\n",
    "    #i for문을 사용하면 i에 random access가 가능하므로 굳이 쓰지 말라"
   ]
  },
  {
   "cell_type": "markdown",
   "metadata": {},
   "source": [
    "### 4.29.2 `ndenumerate()`\n"
   ]
  },
  {
   "cell_type": "code",
   "execution_count": 215,
   "metadata": {
    "collapsed": false
   },
   "outputs": [
    {
     "name": "stdout",
     "output_type": "stream",
     "text": [
      "(0, 0) 0\n",
      "(0, 1) 1\n",
      "(0, 2) 2\n",
      "(1, 0) 3\n",
      "(1, 1) 4\n",
      "(1, 2) 5\n"
     ]
    }
   ],
   "source": [
    "for idx, x in np.ndenumerate(a):\n",
    "    print(idx, x)\n",
    "    i = iter(a)\n",
    "    i\n",
    "    #몇 번째 데이터 값인지 알수 있으므로 굳이 i라는 변수를 안 만들어도 된다"
   ]
  },
  {
   "cell_type": "code",
   "execution_count": 212,
   "metadata": {
    "collapsed": false
   },
   "outputs": [
    {
     "data": {
      "text/plain": [
       "array([0, 1, 2])"
      ]
     },
     "execution_count": 212,
     "metadata": {},
     "output_type": "execute_result"
    }
   ],
   "source": [
    "next(i)"
   ]
  },
  {
   "cell_type": "markdown",
   "metadata": {},
   "source": [
    "### 4.29.3 실제 코드 예제\n",
    "\n",
    "        common/gradient.py\n",
    "        \n",
    "Not Good!"
   ]
  },
  {
   "cell_type": "code",
   "execution_count": null,
   "metadata": {
    "collapsed": true
   },
   "outputs": [],
   "source": [
    "def numerical_gradient(f, x):\n",
    "    h = 1e-4 # 0.0001\n",
    "    grad = np.zeros_like(x)\n",
    "    \n",
    "    it = np.nditer(x, flags=['multi_index'], op_flags=['readwrite'])\n",
    "    while not it.finished:\n",
    "        idx = it.multi_index\n",
    "        tmp_val = x[idx]\n",
    "        x[idx] = float(tmp_val) + h\n",
    "        fxh1 = f(x) # f(x+h)\n",
    "        \n",
    "        x[idx] = tmp_val - h \n",
    "        fxh2 = f(x) # f(x-h)\n",
    "        grad[idx] = (fxh1 - fxh2) / (2*h)\n",
    "        \n",
    "        x[idx] = tmp_val # 値を元に戻す\n",
    "        it.iternext()   \n",
    "        #c 스타일\n",
    "    return grad"
   ]
  },
  {
   "cell_type": "markdown",
   "metadata": {},
   "source": [
    "### 4.29.4 수정 본\n",
    "\n",
    "Good!"
   ]
  },
  {
   "cell_type": "code",
   "execution_count": null,
   "metadata": {
    "collapsed": true
   },
   "outputs": [],
   "source": [
    "def numerical_gradient(f, x):\n",
    "    h = 1e-4 # 0.0001\n",
    "    grad = np.zeros_like(x)\n",
    "    \n",
    "    for idx, tmp_val in np.ndenumerate(x):    \n",
    "        #index뿐만이 아니라 값도 꺼낼 수 있다\n",
    "        x[idx] = float(tmp_val) + h\n",
    "        fxh1 = f(x) # f(x+h)\n",
    "        \n",
    "        x[idx] = tmp_val - h \n",
    "        fxh2 = f(x) # f(x-h)\n",
    "        grad[idx] = (fxh1 - fxh2) / (2*h)\n",
    "        \n",
    "        x[idx] = tmp_val # 値を元に戻す\n",
    "        \n",
    "    return grad"
   ]
  },
  {
   "cell_type": "markdown",
   "metadata": {},
   "source": [
    "## 4.30 배열 연산시 주의 점\n",
    "\n",
    " * 배열에 대한 직접적인 loop는 피해야 함\n",
    " * 배열 연산을 적극 활용\n",
    " \n",
    "         b = 3*a - 1\n",
    "\n",
    "  * 배열 a의 모든 요소에 3이 곱해진 결과 \n",
    "  * 임시 배열이 만들어지고\n",
    "  * 임시 메모리의 모든 요소에서 1이 빼지고\n",
    "  * b가 그 배열을 참조한다\n",
    "  * 이러한 모든 배열 연산은 C코드로 모든 요소에 대해 빠르게 처리된다\n",
    "\n"
   ]
  },
  {
   "cell_type": "markdown",
   "metadata": {},
   "source": [
    "## 4.31 signal convolution example\n"
   ]
  },
  {
   "cell_type": "code",
   "execution_count": 216,
   "metadata": {
    "collapsed": true
   },
   "outputs": [],
   "source": [
    "%matplotlib inline"
   ]
  },
  {
   "cell_type": "code",
   "execution_count": 217,
   "metadata": {
    "collapsed": false
   },
   "outputs": [],
   "source": [
    "a = np.sin(np.linspace(0, np.pi*4, 300)) + np.random.randn(300)#300개의 랜덤 노이즈 데이터 더하기"
   ]
  },
  {
   "cell_type": "code",
   "execution_count": 218,
   "metadata": {
    "collapsed": true
   },
   "outputs": [],
   "source": [
    "win = np.hamming(32) #해밍?! 일종의 정규분포 같은 그래프"
   ]
  },
  {
   "cell_type": "code",
   "execution_count": 219,
   "metadata": {
    "collapsed": false
   },
   "outputs": [],
   "source": [
    "out = np.convolve(win/win.sum(), a)"
   ]
  },
  {
   "cell_type": "code",
   "execution_count": 220,
   "metadata": {
    "collapsed": true
   },
   "outputs": [],
   "source": [
    "import matplotlib.pyplot as plt"
   ]
  },
  {
   "cell_type": "code",
   "execution_count": 221,
   "metadata": {
    "collapsed": false
   },
   "outputs": [
    {
     "data": {
      "text/plain": [
       "[<matplotlib.lines.Line2D at 0x5075345160>]"
      ]
     },
     "execution_count": 221,
     "metadata": {},
     "output_type": "execute_result"
    },
    {
     "data": {
      "image/png": "[encoded data removed]",
      "text/plain": [
       "<matplotlib.figure.Figure at 0x5075345ac8>"
      ]
     },
     "metadata": {},
     "output_type": "display_data"
    }
   ],
   "source": [
    "plt.plot(a)\n",
    "plt.plot(out)"
   ]
  },
  {
   "cell_type": "markdown",
   "metadata": {},
   "source": [
    "### 4.31.1 실전 코드\n",
    "\n",
    "`common/util.py`"
   ]
  },
  {
   "cell_type": "code",
   "execution_count": null,
   "metadata": {
    "collapsed": true
   },
   "outputs": [],
   "source": [
    "def smooth_curve(x):\n",
    "    \"\"\"損失関数のグラフを滑らかにするために用いる\n",
    "\n",
    "    参考：http://glowingpython.blogspot.jp/2012/02/convolution-with-numpy.html\n",
    "    \"\"\"\n",
    "    window_len = 11\n",
    "    s = np.r_[x[window_len-1:0:-1], x, x[-1:-window_len:-1]]\n",
    "    w = np.kaiser(window_len, 2)#카이자승 할때 쓰는건가? \n",
    "    y = np.convolve(w/w.sum(), s, mode='valid')\n",
    "    return y[5:len(y)-5]"
   ]
  },
  {
   "cell_type": "markdown",
   "metadata": {},
   "source": [
    "## 4.32 이미지 Convolution\n",
    "\n",
    "\n",
    "<img src=\"img/conv1.jpg\">\n",
    "\n",
    "3D 데이터 컨볼루션\n",
    "\n",
    "<img src=\"img/conv2.png\">\n",
    "\n",
    "칼라 영상의 컨볼루션\n",
    "\n",
    "<img src=\"img/conv3.png\">\n",
    "\n",
    "im2col 함수 : Image to column function\n",
    "\n",
    "<img src=\"img/conv4.png\" width=500>\n",
    "<img src=\"img/conv5.png\">\n"
   ]
  },
  {
   "cell_type": "markdown",
   "metadata": {},
   "source": [
    "### 4.32.1 im2col()\n"
   ]
  },
  {
   "cell_type": "code",
   "execution_count": 223,
   "metadata": {
    "collapsed": true
   },
   "outputs": [],
   "source": [
    "def im2col(input_data, filter_h, filter_w, stride=1, pad=0):\n",
    "    \"\"\"\n",
    "\n",
    "    Parameters\n",
    "    ----------\n",
    "    input_data : (데이터 수, 채널, 높이, 폭)의 4 차원 배열로 이루어진 입력 데이터\n",
    "    filter_h : 필터의 높이\n",
    "    filter_w : 필터의 폭\n",
    "    stride : 건너뛰는 값\n",
    "    pad : 경계영역 값 채우기\n",
    "\n",
    "    Returns\n",
    "    -------\n",
    "    col : 2차원 배열\n",
    "    \"\"\"\n",
    "    N, C, H, W = input_data.shape\n",
    "    out_h = (H + 2*pad - filter_h)//stride + 1\n",
    "    out_w = (W + 2*pad - filter_w)//stride + 1\n",
    "\n",
    "    img = np.pad(input_data, [(0,0), (0,0), (pad, pad), (pad, pad)], 'constant')\n",
    "    col = np.zeros((N, C, filter_h, filter_w, out_h, out_w))\n",
    "\n",
    "    for y in range(filter_h):\n",
    "        y_max = y + stride*out_h\n",
    "        #stride : 칸을 뛰다?(껑충거리다)\n",
    "        for x in range(filter_w):\n",
    "            x_max = x + stride*out_w\n",
    "            col[:, :, y, x, :, :] = img[:, :, y:y_max:stride, x:x_max:stride]\n",
    "\n",
    "    col = col.transpose(0, 4, 5, 1, 2, 3).reshape(N*out_h*out_w, -1)\n",
    "    return col"
   ]
  },
  {
   "cell_type": "code",
   "execution_count": 224,
   "metadata": {
    "collapsed": true
   },
   "outputs": [],
   "source": [
    "a = np.random.rand(100, 3, 64, 64) # N, CH, H, W\n",
    "v = np.random.rand(4, 3, 3, 3) # FN, FCH, FH, FW"
   ]
  },
  {
   "cell_type": "code",
   "execution_count": 225,
   "metadata": {
    "collapsed": true
   },
   "outputs": [],
   "source": [
    "N, CH, H, W = a.shape\n",
    "FN, FCH, FH, FW = v.shape"
   ]
  },
  {
   "cell_type": "code",
   "execution_count": 226,
   "metadata": {
    "collapsed": false
   },
   "outputs": [
    {
     "data": {
      "text/plain": [
       "(384400, 27)"
      ]
     },
     "execution_count": 226,
     "metadata": {},
     "output_type": "execute_result"
    }
   ],
   "source": [
    "stride = 1\n",
    "pad = 0\n",
    "col1 = im2col(a, FH, FW, stride, pad)\n",
    "col1.shape"
   ]
  },
  {
   "cell_type": "code",
   "execution_count": 227,
   "metadata": {
    "collapsed": false
   },
   "outputs": [
    {
     "data": {
      "text/plain": [
       "(27, 4)"
      ]
     },
     "execution_count": 227,
     "metadata": {},
     "output_type": "execute_result"
    }
   ],
   "source": [
    "vt = v.reshape(FN, -1).T\n",
    "vt.shape\n",
    "#행렬곱을 하기 편하게 하려고"
   ]
  },
  {
   "cell_type": "code",
   "execution_count": 234,
   "metadata": {
    "collapsed": false
   },
   "outputs": [
    {
     "data": {
      "text/plain": [
       "array([[ 7.64647339,  7.53725681,  5.90304491,  7.13726462],\n",
       "       [ 6.78973576,  7.55269112,  5.47115416,  7.19274275],\n",
       "       [ 6.64196966,  7.92691084,  6.50114416,  5.78265285],\n",
       "       ..., \n",
       "       [ 7.35951886,  7.1329852 ,  5.7145781 ,  6.62681015],\n",
       "       [ 7.88002909,  7.63612765,  6.60170693,  7.38920723],\n",
       "       [ 7.47980645,  7.64980305,  6.26476214,  7.82587764]])"
      ]
     },
     "execution_count": 234,
     "metadata": {},
     "output_type": "execute_result"
    }
   ],
   "source": [
    "out = np.dot(col1, vt)#도트연산\n",
    "out.shape\n",
    "out"
   ]
  },
  {
   "cell_type": "code",
   "execution_count": 229,
   "metadata": {
    "collapsed": false
   },
   "outputs": [],
   "source": [
    "out_h = int(1 + (H + 2*pad - FH) / stride)\n",
    "out_w = int(1 + (W + 2*pad - FW) / stride)\n",
    "out2 = out.reshape(N, out_h, out_w, -1)"
   ]
  },
  {
   "cell_type": "code",
   "execution_count": 230,
   "metadata": {
    "collapsed": false
   },
   "outputs": [
    {
     "data": {
      "text/plain": [
       "(100, 62, 62, 4)"
      ]
     },
     "execution_count": 230,
     "metadata": {},
     "output_type": "execute_result"
    }
   ],
   "source": [
    "out2.shape  # N, out_h, out_w, FN-필터개수"
   ]
  },
  {
   "cell_type": "code",
   "execution_count": 231,
   "metadata": {
    "collapsed": false
   },
   "outputs": [
    {
     "data": {
      "text/plain": [
       "(100, 4, 62, 62)"
      ]
     },
     "execution_count": 231,
     "metadata": {},
     "output_type": "execute_result"
    }
   ],
   "source": [
    "out3 = out2.transpose(0, 3, 1, 2)\n",
    "out3.shape  # N, FN, out_h, out_w"
   ]
  },
  {
   "cell_type": "markdown",
   "metadata": {},
   "source": [
    "### 4.32.2 real image test\n"
   ]
  },
  {
   "cell_type": "code",
   "execution_count": 236,
   "metadata": {
    "collapsed": false
   },
   "outputs": [
    {
     "data": {
      "text/plain": [
       "<matplotlib.image.AxesImage at 0x50751a30f0>"
      ]
     },
     "execution_count": 236,
     "metadata": {},
     "output_type": "execute_result"
    },
    {
     "data": {
      "image/png": "[encoded data removed]",
      "text/plain": [
       "<matplotlib.figure.Figure at 0x5075269048>"
      ]
     },
     "metadata": {},
     "output_type": "display_data"
    }
   ],
   "source": [
    "from matplotlib.image import imread\n",
    "\n",
    "img = imread(r'C:\\Users\\Lab-01\\Desktop\\파이썬강의자료\\data\\face.png')  # from http://www.scipy-lectures.org/advanced/image_processing/\n",
    "plt.imshow(img)"
   ]
  },
  {
   "cell_type": "code",
   "execution_count": 237,
   "metadata": {
    "collapsed": false
   },
   "outputs": [
    {
     "data": {
      "text/plain": [
       "(768, 1024, 3)"
      ]
     },
     "execution_count": 237,
     "metadata": {},
     "output_type": "execute_result"
    }
   ],
   "source": [
    "img.shape"
   ]
  },
  {
   "cell_type": "code",
   "execution_count": 238,
   "metadata": {
    "collapsed": false
   },
   "outputs": [],
   "source": [
    "im = img.transpose(2, 0, 1)\n",
    "CH, H, W = im.shape\n",
    "a = im.reshape(1, CH, H, W)"
   ]
  },
  {
   "cell_type": "code",
   "execution_count": 239,
   "metadata": {
    "collapsed": false
   },
   "outputs": [],
   "source": [
    "mask = np.array((0.0, 0.2,  0.0,\n",
    "   0.2, 0.2,  0.2,\n",
    "   0.0, 0.2,  0.0))"
   ]
  },
  {
   "cell_type": "code",
   "execution_count": 240,
   "metadata": {
    "collapsed": false
   },
   "outputs": [
    {
     "data": {
      "text/plain": [
       "array([ 0.9,  0.9,  0.9,  0.9,  0.9,  0.9,  0.9,  0.9,  0.9])"
      ]
     },
     "execution_count": 240,
     "metadata": {},
     "output_type": "execute_result"
    }
   ],
   "source": [
    "mask = np.zeros(9) + 0.9\n",
    "mask"
   ]
  },
  {
   "cell_type": "code",
   "execution_count": 241,
   "metadata": {
    "collapsed": false
   },
   "outputs": [
    {
     "data": {
      "text/plain": [
       "array([[[[ 0.9,  0.9,  0.9],\n",
       "         [ 0.9,  0.9,  0.9],\n",
       "         [ 0.9,  0.9,  0.9]],\n",
       "\n",
       "        [[ 0.9,  0.9,  0.9],\n",
       "         [ 0.9,  0.9,  0.9],\n",
       "         [ 0.9,  0.9,  0.9]],\n",
       "\n",
       "        [[ 0.9,  0.9,  0.9],\n",
       "         [ 0.9,  0.9,  0.9],\n",
       "         [ 0.9,  0.9,  0.9]]]])"
      ]
     },
     "execution_count": 241,
     "metadata": {},
     "output_type": "execute_result"
    }
   ],
   "source": [
    "v = np.tile(mask, 3).reshape(1, 3, 3, 3)\n",
    "v"
   ]
  },
  {
   "cell_type": "code",
   "execution_count": 242,
   "metadata": {
    "collapsed": false
   },
   "outputs": [],
   "source": [
    "N, CH, H, W = a.shape\n",
    "FN, FCH, FH, FW = v.shape"
   ]
  },
  {
   "cell_type": "code",
   "execution_count": 243,
   "metadata": {
    "collapsed": false
   },
   "outputs": [
    {
     "data": {
      "text/plain": [
       "(782852, 27)"
      ]
     },
     "execution_count": 243,
     "metadata": {},
     "output_type": "execute_result"
    }
   ],
   "source": [
    "stride = 1\n",
    "pad = 0\n",
    "col1 = im2col(a, FH, FW, stride, pad)\n",
    "col1.shape"
   ]
  },
  {
   "cell_type": "code",
   "execution_count": 244,
   "metadata": {
    "collapsed": false
   },
   "outputs": [
    {
     "data": {
      "text/plain": [
       "(27, 1)"
      ]
     },
     "execution_count": 244,
     "metadata": {},
     "output_type": "execute_result"
    }
   ],
   "source": [
    "vt = v.reshape(FN, -1).T\n",
    "vt.shape"
   ]
  },
  {
   "cell_type": "code",
   "execution_count": 245,
   "metadata": {
    "collapsed": false
   },
   "outputs": [
    {
     "data": {
      "text/plain": [
       "(782852, 1)"
      ]
     },
     "execution_count": 245,
     "metadata": {},
     "output_type": "execute_result"
    }
   ],
   "source": [
    "out = np.dot(col1, vt)\n",
    "out.shape"
   ]
  },
  {
   "cell_type": "code",
   "execution_count": 246,
   "metadata": {
    "collapsed": true
   },
   "outputs": [],
   "source": [
    "out_h = int(1 + (H + 2*pad - FH) / stride)\n",
    "out_w = int(1 + (W + 2*pad - FW) / stride)\n",
    "out2 = out.reshape(N, out_h, out_w, -1)"
   ]
  },
  {
   "cell_type": "code",
   "execution_count": 247,
   "metadata": {
    "collapsed": false
   },
   "outputs": [
    {
     "data": {
      "text/plain": [
       "(1, 1, 766, 1022)"
      ]
     },
     "execution_count": 247,
     "metadata": {},
     "output_type": "execute_result"
    }
   ],
   "source": [
    "out3 = out2.transpose(0, 3, 1, 2)\n",
    "out3.shape  # N, FN, out_h, out_w"
   ]
  },
  {
   "cell_type": "code",
   "execution_count": 248,
   "metadata": {
    "collapsed": false,
    "scrolled": true
   },
   "outputs": [
    {
     "data": {
      "text/plain": [
       "<matplotlib.image.AxesImage at 0x50750db4e0>"
      ]
     },
     "execution_count": 248,
     "metadata": {},
     "output_type": "execute_result"
    },
    {
     "data": {
      "image/png": "[encoded data removed]",
      "text/plain": [
       "<matplotlib.figure.Figure at 0x507519cfd0>"
      ]
     },
     "metadata": {},
     "output_type": "display_data"
    }
   ],
   "source": [
    "out4 = out3.reshape(out_h, out_w)\n",
    "\n",
    "plt.imshow(out4, cmap=\"gray\")"
   ]
  },
  {
   "cell_type": "code",
   "execution_count": 249,
   "metadata": {
    "collapsed": false
   },
   "outputs": [],
   "source": [
    "from matplotlib.image import imsave\n",
    "\n",
    "imsave('face_out.png', out4, cmap='gray')"
   ]
  },
  {
   "cell_type": "markdown",
   "metadata": {},
   "source": [
    "### 4.32.3 col2im()\n"
   ]
  },
  {
   "cell_type": "code",
   "execution_count": 250,
   "metadata": {
    "collapsed": true
   },
   "outputs": [],
   "source": [
    "def col2im(col, input_shape, filter_h, filter_w, stride=1, pad=0):\n",
    "    \"\"\"\n",
    "\n",
    "    Parameters\n",
    "    ----------\n",
    "    col :\n",
    "    input_shape : 입력데이터 차원（예：(10, 1, 28, 28)）\n",
    "    filter_h :\n",
    "    filter_w\n",
    "    stride\n",
    "    pad\n",
    "\n",
    "    Returns\n",
    "    -------\n",
    "\n",
    "    \"\"\"\n",
    "    N, C, H, W = input_shape\n",
    "    out_h = (H + 2*pad - filter_h)//stride + 1\n",
    "    out_w = (W + 2*pad - filter_w)//stride + 1\n",
    "    col = col.reshape(N, out_h, out_w, C, filter_h, filter_w).transpose(0, 3, 4, 5, 1, 2)\n",
    "\n",
    "    img = np.zeros((N, C, H + 2*pad + stride - 1, W + 2*pad + stride - 1))\n",
    "    for y in range(filter_h):\n",
    "        y_max = y + stride*out_h\n",
    "        for x in range(filter_w):\n",
    "            x_max = x + stride*out_w\n",
    "            img[:, :, y:y_max:stride, x:x_max:stride] += col[:, :, y, x, :, :]\n",
    "\n",
    "    return img[:, :, pad:H + pad, pad:W + pad]"
   ]
  },
  {
   "cell_type": "code",
   "execution_count": 251,
   "metadata": {
    "collapsed": true
   },
   "outputs": [],
   "source": [
    "a = np.random.rand(100, 3, 64, 64) # N, CH, H, W\n",
    "\n",
    "N, CH, H, W = a.shape\n",
    "FH, FW = 3, 3\n",
    "col1 = im2col(a, FH, FW, stride, pad)"
   ]
  },
  {
   "cell_type": "code",
   "execution_count": 252,
   "metadata": {
    "collapsed": false
   },
   "outputs": [
    {
     "data": {
      "text/plain": [
       "(100, 3, 64, 64)"
      ]
     },
     "execution_count": 252,
     "metadata": {},
     "output_type": "execute_result"
    }
   ],
   "source": [
    "a2 = col2im(col1, a.shape, FH, FW)\n",
    "a2.shape"
   ]
  },
  {
   "cell_type": "code",
   "execution_count": 253,
   "metadata": {
    "collapsed": false
   },
   "outputs": [
    {
     "data": {
      "text/plain": [
       "array([[[[  6.29140408e-01,   4.68948070e-01,   6.84702625e-01, ...,\n",
       "            1.75746191e-01,   1.98711980e+00,   5.89180141e-01],\n",
       "         [  4.89099717e-01,   8.27794888e-01,   4.70781435e+00, ...,\n",
       "            4.66135344e-01,   1.59201850e+00,   1.32773410e+00],\n",
       "         [  1.76231363e-02,   2.34999752e+00,   2.04905693e-01, ...,\n",
       "            4.57607305e+00,   5.51746380e+00,   1.57037451e+00],\n",
       "         ..., \n",
       "         [  2.11218439e+00,   4.97874747e+00,   3.42774226e+00, ...,\n",
       "            6.31090187e+00,   1.95927835e+00,   7.69606378e-01],\n",
       "         [  1.49922011e+00,   3.25232759e+00,   4.99861791e+00, ...,\n",
       "            5.40512397e+00,   2.88748396e+00,   1.14239875e+00],\n",
       "         [  4.26083152e-01,   1.55483168e+00,   2.06007342e+00, ...,\n",
       "            2.18008100e+00,   9.83962723e-01,   3.62732595e-01]],\n",
       "\n",
       "        [[  8.38584190e-01,   1.09127114e+00,   2.43780941e+00, ...,\n",
       "            2.28635392e+00,   1.67944289e+00,   7.92333312e-01],\n",
       "         [  1.08959658e+00,   2.83454731e+00,   7.50705259e-01, ...,\n",
       "            3.47752838e-01,   3.63251276e+00,   1.19108991e+00],\n",
       "         [  2.62634920e+00,   1.80918028e+00,   3.56861128e-01, ...,\n",
       "            5.03254343e+00,   9.98287220e-01,   7.94951710e-01],\n",
       "         ..., \n",
       "         [  1.11269816e+00,   5.04912892e+00,   2.37251935e-01, ...,\n",
       "            7.24322163e+00,   2.68779796e+00,   6.89848407e-01],\n",
       "         [  1.93308695e+00,   3.70855212e+00,   5.63250212e+00, ...,\n",
       "            1.58211779e+00,   1.52161397e+00,   4.55640715e-01],\n",
       "         [  1.04663280e-01,   1.14079170e+00,   5.34051233e-01, ...,\n",
       "            4.36371887e-01,   5.97977452e-02,   2.05255328e-01]],\n",
       "\n",
       "        [[  8.84126137e-01,   5.90589833e-01,   1.47505375e+00, ...,\n",
       "            1.69332347e+00,   1.18603299e+00,   9.68357673e-01],\n",
       "         [  8.72708889e-02,   2.68093439e+00,   2.09840054e+00, ...,\n",
       "            4.08467435e+00,   2.92141046e+00,   4.98488153e-01],\n",
       "         [  2.09013401e+00,   9.88644327e-01,   4.73970577e+00, ...,\n",
       "            5.75609746e+00,   4.84196914e+00,   1.12899732e+00],\n",
       "         ..., \n",
       "         [  1.49838236e+00,   2.20264875e+00,   5.19327312e+00, ...,\n",
       "            8.53238125e+00,   1.32835753e+00,   2.94489317e+00],\n",
       "         [  1.69847591e+00,   4.20919124e-02,   2.43691472e+00, ...,\n",
       "            4.08393689e+00,   1.41241682e+00,   1.22266177e+00],\n",
       "         [  4.72837679e-01,   1.67365098e+00,   2.26148677e+00, ...,\n",
       "            2.59214164e+00,   1.26854070e+00,   6.23448343e-01]]],\n",
       "\n",
       "\n",
       "       [[[  6.08614461e-02,   8.28686391e-01,   2.37940759e+00, ...,\n",
       "            2.87671718e+00,   7.34542344e-01,   8.27688359e-01],\n",
       "         [  1.44542769e+00,   3.28294135e+00,   1.08545340e+00, ...,\n",
       "            5.45054685e+00,   3.14807233e+00,   1.51013498e+00],\n",
       "         [  1.29655292e+00,   4.66374798e+00,   5.58489264e-01, ...,\n",
       "            5.58948822e+00,   2.60314959e+00,   7.32268961e-01],\n",
       "         ..., \n",
       "         [  4.58397113e-01,   5.51428317e+00,   7.36084222e+00, ...,\n",
       "            3.56620514e+00,   5.06298691e+00,   9.90380592e-01],\n",
       "         [  1.70986652e+00,   2.69244754e+00,   3.13799063e+00, ...,\n",
       "            4.00645300e+00,   1.49536806e+00,   1.55644186e+00],\n",
       "         [  4.27074257e-02,   1.14416940e+00,   2.91790429e+00, ...,\n",
       "            2.39585021e+00,   7.66567927e-02,   3.85988066e-01]],\n",
       "\n",
       "        [[  9.63705746e-01,   7.77586305e-02,   2.60533727e+00, ...,\n",
       "            1.52631338e-02,   3.09715905e-01,   3.82221279e-01],\n",
       "         [  1.96478608e+00,   3.17524917e+00,   4.64774521e+00, ...,\n",
       "            4.14606891e+00,   6.61593851e-01,   1.52997386e+00],\n",
       "         [  1.79013504e+00,   9.27027655e-01,   6.80691825e+00, ...,\n",
       "            8.18073321e+00,   2.58231053e+00,   1.88223618e+00],\n",
       "         ..., \n",
       "         [  2.13860476e-01,   2.55163979e+00,   1.41687588e+00, ...,\n",
       "            5.09151467e+00,   3.81672137e+00,   1.79862436e+00],\n",
       "         [  1.15019705e+00,   1.63978941e+00,   4.15760190e+00, ...,\n",
       "            4.08755272e+00,   5.37060282e-01,   1.01186061e+00],\n",
       "         [  9.54534960e-01,   4.29293130e-01,   4.60204550e-01, ...,\n",
       "            2.15828345e+00,   9.88504520e-01,   2.72402598e-02]],\n",
       "\n",
       "        [[  1.18973232e-01,   1.46367998e+00,   1.93622902e+00, ...,\n",
       "            7.10830965e-01,   1.20058559e+00,   6.07211512e-01],\n",
       "         [  1.95539310e+00,   1.77513598e+00,   4.55597202e+00, ...,\n",
       "            5.67175362e+00,   1.51052216e+00,   9.89848226e-01],\n",
       "         [  3.92153927e-01,   5.99920696e+00,   8.48939338e+00, ...,\n",
       "            4.33960711e+00,   5.53304125e+00,   2.94281570e+00],\n",
       "         ..., \n",
       "         [  1.66856575e+00,   5.94073399e+00,   6.17094751e+00, ...,\n",
       "            8.06372829e+00,   4.25700363e+00,   5.21710206e-01],\n",
       "         [  1.01916657e+00,   3.25669778e+00,   1.14702150e+00, ...,\n",
       "            3.92296932e+00,   1.95436977e+00,   1.82862584e+00],\n",
       "         [  6.51217928e-01,   3.25544157e-01,   2.37474983e+00, ...,\n",
       "            2.14057786e+00,   1.99892820e+00,   9.84237253e-01]]],\n",
       "\n",
       "\n",
       "       [[[  1.90814342e-02,   7.15407482e-01,   2.40668078e+00, ...,\n",
       "            1.53049669e+00,   1.36098778e+00,   1.95516166e-03],\n",
       "         [  1.68236310e+00,   1.58588948e+00,   7.08502984e-03, ...,\n",
       "            6.68546297e-01,   2.24674276e+00,   9.30129416e-02],\n",
       "         [  1.35811226e+00,   1.62974020e+00,   2.92147875e+00, ...,\n",
       "            7.93685842e+00,   2.42302788e+00,   1.65965063e+00],\n",
       "         ..., \n",
       "         [  2.33719698e+00,   5.67978920e-01,   8.73784354e+00, ...,\n",
       "            4.41018301e+00,   3.60153540e+00,   4.96492162e-01],\n",
       "         [  8.36129336e-01,   1.94771936e+00,   3.18475296e+00, ...,\n",
       "            2.64142139e+00,   9.89103051e-01,   1.01536591e+00],\n",
       "         [  1.09941226e-01,   5.71816770e-01,   6.86842459e-01, ...,\n",
       "            9.68490924e-01,   5.63484700e-01,   7.86365382e-01]],\n",
       "\n",
       "        [[  3.66149216e-01,   1.24699621e+00,   1.01040475e+00, ...,\n",
       "            2.26739974e+00,   7.75040673e-01,   2.82769539e-02],\n",
       "         [  3.40685125e-01,   2.56580479e-01,   5.95097082e+00, ...,\n",
       "            1.90288606e-01,   1.48278327e+00,   1.80227926e+00],\n",
       "         [  1.03465333e+00,   1.58618574e+00,   8.97775681e+00, ...,\n",
       "            1.28650061e+00,   5.08656847e+00,   1.10623111e+00],\n",
       "         ..., \n",
       "         [  2.33310404e+00,   4.29688953e+00,   6.50469750e+00, ...,\n",
       "            6.63341614e+00,   3.76487982e+00,   2.34787886e+00],\n",
       "         [  1.82631337e-01,   2.29249733e+00,   2.60596798e+00, ...,\n",
       "            4.96303906e+00,   1.14864301e-01,   1.09866044e+00],\n",
       "         [  5.58201431e-01,   4.77149804e-01,   9.53619391e-02, ...,\n",
       "            2.98184906e+00,   4.49279929e-01,   4.87592279e-01]],\n",
       "\n",
       "        [[  3.98550608e-01,   1.88508657e+00,   1.49409474e+00, ...,\n",
       "            1.21961127e+00,   1.91528227e+00,   3.76418612e-01],\n",
       "         [  4.34007030e-01,   3.61699282e-01,   4.33889888e+00, ...,\n",
       "            1.14888260e+00,   2.84727988e-01,   4.44453248e-01],\n",
       "         [  1.58582078e+00,   3.06105268e+00,   8.36738596e-01, ...,\n",
       "            8.79500199e+00,   1.05401506e+00,   4.32817859e-02],\n",
       "         ..., \n",
       "         [  6.88383469e-01,   2.68506368e+00,   3.64061822e+00, ...,\n",
       "            6.68884473e+00,   5.65830565e+00,   2.47864992e+00],\n",
       "         [  1.41637510e+00,   1.97301522e-01,   3.25353619e+00, ...,\n",
       "            4.35361731e+00,   1.15928078e+00,   1.91233370e+00],\n",
       "         [  5.92451226e-01,   4.25823430e-01,   2.65510213e+00, ...,\n",
       "            2.43832168e-02,   1.18033154e-01,   1.70473223e-01]]],\n",
       "\n",
       "\n",
       "       ..., \n",
       "       [[[  4.98222095e-01,   1.33352074e-01,   2.30530538e+00, ...,\n",
       "            1.46002074e+00,   1.96442202e+00,   1.40808914e-01],\n",
       "         [  4.99287037e-01,   2.97019342e+00,   3.92643993e+00, ...,\n",
       "            1.15496960e+00,   1.50634072e-01,   1.87752314e+00],\n",
       "         [  2.36378608e+00,   6.22355260e-01,   4.73158669e-01, ...,\n",
       "            8.95753992e+00,   9.92767150e-01,   2.71668731e+00],\n",
       "         ..., \n",
       "         [  1.36900880e+00,   4.23319618e+00,   5.43685224e+00, ...,\n",
       "            2.02010628e+00,   2.89626776e+00,   1.80724856e+00],\n",
       "         [  5.86732391e-01,   2.15976780e+00,   4.73328801e+00, ...,\n",
       "            2.97276495e+00,   2.06261717e+00,   5.48467298e-01],\n",
       "         [  5.78439860e-01,   1.87353304e+00,   2.83140466e+00, ...,\n",
       "            1.88678092e+00,   1.89879808e+00,   5.11049780e-01]],\n",
       "\n",
       "        [[  4.40248999e-01,   1.75777803e+00,   1.12875644e+00, ...,\n",
       "            4.24697074e-02,   9.96366863e-01,   8.99229382e-01],\n",
       "         [  1.36942831e-02,   1.02960875e+00,   5.84498411e+00, ...,\n",
       "            3.95322549e+00,   3.69670215e+00,   1.48675705e+00],\n",
       "         [  1.40694347e+00,   1.08004897e+00,   2.75189595e+00, ...,\n",
       "            5.86311041e+00,   4.43959057e+00,   4.04522653e-01],\n",
       "         ..., \n",
       "         [  2.29742541e+00,   5.79429831e+00,   5.11613370e+00, ...,\n",
       "            1.70899929e-01,   2.57863928e+00,   1.61602424e+00],\n",
       "         [  1.41114590e+00,   3.33408352e+00,   2.55841382e+00, ...,\n",
       "            9.97483228e-01,   1.18282566e+00,   7.54673038e-01],\n",
       "         [  1.13396212e-01,   1.88164398e-01,   1.67941324e+00, ...,\n",
       "            2.49353018e+00,   1.49500446e+00,   2.97925151e-01]],\n",
       "\n",
       "        [[  3.64603695e-01,   6.00974285e-01,   1.71849441e+00, ...,\n",
       "            1.33678285e+00,   1.72427520e+00,   8.52260889e-01],\n",
       "         [  7.86517234e-01,   2.14337710e+00,   4.81811410e+00, ...,\n",
       "            1.38548144e+00,   1.37719475e+00,   7.35290241e-01],\n",
       "         [  9.15181557e-02,   3.00613915e+00,   7.11910314e+00, ...,\n",
       "            8.13184139e+00,   2.17721731e+00,   2.34869853e+00],\n",
       "         ..., \n",
       "         [  1.18409334e+00,   2.13344898e+00,   2.97516263e+00, ...,\n",
       "            4.37883167e+00,   2.65101338e+00,   2.80795251e+00],\n",
       "         [  2.89396436e-01,   7.38697363e-01,   4.30180143e-01, ...,\n",
       "            4.84357513e+00,   1.44575275e+00,   1.87245869e+00],\n",
       "         [  6.33242602e-01,   6.05451783e-01,   2.91651863e+00, ...,\n",
       "            2.83625382e+00,   1.41687537e+00,   8.84035718e-01]]],\n",
       "\n",
       "\n",
       "       [[[  1.70484320e-01,   7.19980626e-01,   1.20912324e+00, ...,\n",
       "            1.98235132e+00,   1.00947944e+00,   6.83664501e-02],\n",
       "         [  1.04273158e+00,   1.99318432e+00,   2.33457700e+00, ...,\n",
       "            5.63520545e+00,   2.47866207e+00,   2.02139107e-01],\n",
       "         [  7.09052519e-01,   2.03317912e+00,   1.55152292e+00, ...,\n",
       "            2.60829751e-01,   1.45510436e+00,   2.60391492e+00],\n",
       "         ..., \n",
       "         [  1.31246746e+00,   2.47635908e+00,   8.44162841e+00, ...,\n",
       "            8.19004809e+00,   5.76526821e+00,   1.24035220e+00],\n",
       "         [  8.84256135e-01,   4.07465736e-01,   4.48512965e+00, ...,\n",
       "            4.06202625e+00,   3.27438400e+00,   1.05360329e+00],\n",
       "         [  2.45162811e-01,   3.55726186e-01,   1.95101653e+00, ...,\n",
       "            1.72734204e+00,   6.66018718e-01,   7.73264442e-01]],\n",
       "\n",
       "        [[  8.09884565e-01,   1.94801740e+00,   1.39647599e+00, ...,\n",
       "            2.34106717e+00,   1.63223062e+00,   4.17203623e-01],\n",
       "         [  1.78049005e+00,   1.36138894e+00,   2.28994422e+00, ...,\n",
       "            3.44645522e+00,   3.50890498e-01,   2.01715726e-01],\n",
       "         [  1.74403914e+00,   4.48753329e+00,   5.15300362e-01, ...,\n",
       "            4.27323846e+00,   2.27491166e+00,   1.20352263e+00],\n",
       "         ..., \n",
       "         [  2.45804178e+00,   1.79689311e+00,   4.89937935e-01, ...,\n",
       "            9.92512880e-02,   5.32977570e+00,   1.66980155e+00],\n",
       "         [  5.89278224e-01,   3.11740996e+00,   3.14069299e-01, ...,\n",
       "            4.25490250e+00,   4.11287542e-01,   1.70123052e-03],\n",
       "         [  7.47366997e-01,   1.71174776e+00,   2.05747447e+00, ...,\n",
       "            2.29878887e+00,   1.39843420e+00,   1.00219270e-01]],\n",
       "\n",
       "        [[  8.34504376e-01,   4.72652256e-01,   2.30686386e+00, ...,\n",
       "            1.51790496e+00,   1.69603593e-01,   6.60526758e-01],\n",
       "         [  1.19919793e+00,   1.54794349e+00,   6.46694403e-01, ...,\n",
       "            5.33455436e+00,   1.41522895e+00,   1.78714258e+00],\n",
       "         [  1.15007575e+00,   2.21900592e-02,   7.38562070e+00, ...,\n",
       "            4.19431433e+00,   2.23709507e+00,   2.45563142e+00],\n",
       "         ..., \n",
       "         [  1.20038691e+00,   5.10803855e+00,   1.80557497e+00, ...,\n",
       "            2.83809860e+00,   4.55728433e+00,   1.87139108e+00],\n",
       "         [  1.72590759e+00,   2.51718290e-01,   5.18756345e+00, ...,\n",
       "            2.89269349e+00,   8.46774091e-01,   1.08408134e+00],\n",
       "         [  3.99004299e-01,   3.56344352e-01,   1.49517660e+00, ...,\n",
       "            2.39684955e+00,   1.87144633e+00,   2.24280309e-01]]],\n",
       "\n",
       "\n",
       "       [[[  1.32959892e-01,   8.26013113e-01,   9.95888373e-02, ...,\n",
       "            2.10948532e+00,   6.52316713e-01,   5.21206778e-01],\n",
       "         [  1.09813108e+00,   3.31098162e-01,   4.86108094e+00, ...,\n",
       "            3.90042206e+00,   2.60885761e+00,   2.12872978e-01],\n",
       "         [  2.04799730e+00,   3.41803918e+00,   7.94968873e+00, ...,\n",
       "            3.09347189e+00,   1.02347196e-01,   1.11398924e+00],\n",
       "         ..., \n",
       "         [  5.07993785e-01,   5.17819802e+00,   6.45059279e+00, ...,\n",
       "            2.34968567e+00,   2.18594567e+00,   2.77048668e-01],\n",
       "         [  5.82167593e-01,   9.04597820e-01,   3.22192496e+00, ...,\n",
       "            3.35178010e+00,   2.39239527e-01,   1.82195423e+00],\n",
       "         [  5.15676980e-01,   1.27685691e+00,   1.62628045e+00, ...,\n",
       "            4.03760720e-01,   1.85000144e+00,   1.35116898e-01]],\n",
       "\n",
       "        [[  3.09418372e-01,   1.87103888e+00,   2.89835486e+00, ...,\n",
       "            7.79416522e-01,   6.16757568e-01,   9.82030639e-01],\n",
       "         [  3.37920271e-01,   1.48591687e+00,   3.87191441e+00, ...,\n",
       "            8.83802802e-02,   9.82228117e-01,   1.22662557e+00],\n",
       "         [  3.15525083e-01,   1.61128196e+00,   7.79012279e+00, ...,\n",
       "            2.40197122e+00,   1.94766502e+00,   1.97509494e+00],\n",
       "         ..., \n",
       "         [  8.81038459e-01,   4.08471109e+00,   4.59820135e+00, ...,\n",
       "            7.73933278e+00,   1.55836004e+00,   1.03430296e+00],\n",
       "         [  1.11171218e-01,   2.76843249e+00,   4.34792681e+00, ...,\n",
       "            2.28642863e+00,   3.95233194e+00,   1.77193688e+00],\n",
       "         [  3.08061338e-01,   1.38671355e+00,   3.91556887e-01, ...,\n",
       "            5.50501895e-01,   1.77677917e+00,   6.85920556e-01]],\n",
       "\n",
       "        [[  9.19714594e-01,   1.52496223e+00,   4.61621894e-01, ...,\n",
       "            1.06517384e+00,   1.37253268e+00,   9.44828754e-01],\n",
       "         [  4.62001318e-01,   3.31351073e+00,   1.54100733e-02, ...,\n",
       "            1.64870082e+00,   2.82560204e+00,   1.28489320e+00],\n",
       "         [  6.09057581e-01,   2.06058491e+00,   4.90790668e+00, ...,\n",
       "            7.45674671e+00,   2.28422236e+00,   2.97629321e+00],\n",
       "         ..., \n",
       "         [  1.12940023e+00,   1.45439672e+00,   3.03572066e+00, ...,\n",
       "            3.02712071e+00,   1.30701977e-01,   2.26066954e+00],\n",
       "         [  6.15797028e-02,   5.69111615e-01,   5.01862107e-01, ...,\n",
       "            5.94653482e-01,   7.97498956e-01,   1.23579236e+00],\n",
       "         [  6.84004089e-01,   8.25963319e-01,   1.12103599e+00, ...,\n",
       "            2.58306438e+00,   1.69366244e+00,   4.49147987e-01]]]])"
      ]
     },
     "execution_count": 253,
     "metadata": {},
     "output_type": "execute_result"
    }
   ],
   "source": [
    "a2"
   ]
  },
  {
   "cell_type": "code",
   "execution_count": null,
   "metadata": {
    "collapsed": true
   },
   "outputs": [],
   "source": []
  }
 ],
 "metadata": {
  "anaconda-cloud": {},
  "kernelspec": {
   "display_name": "Python 3",
   "language": "python",
   "name": "python3"
  },
  "language_info": {
   "codemirror_mode": {
    "name": "ipython",
    "version": 3
   },
   "file_extension": ".py",
   "mimetype": "text/x-python",
   "name": "python",
   "nbconvert_exporter": "python",
   "pygments_lexer": "ipython3",
   "version": "3.6.0"
  }
 },
 "nbformat": 4,
 "nbformat_minor": 0
}

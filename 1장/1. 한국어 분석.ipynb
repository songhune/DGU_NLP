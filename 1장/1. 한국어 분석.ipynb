{
 "cells": [
  {
   "cell_type": "markdown",
   "metadata": {},
   "source": [
    "# How To Use NLP"
   ]
  },
  {
   "cell_type": "markdown",
   "metadata": {},
   "source": [
    "## 1. 한국어 분석(형태소 분석)"
   ]
  },
  {
   "cell_type": "markdown",
   "metadata": {},
   "source": [
    "### 1.1 형태소 분석"
   ]
  },
  {
   "cell_type": "code",
   "execution_count": 13,
   "metadata": {},
   "outputs": [
    {
     "name": "stdout",
     "output_type": "stream",
     "text": [
      "[('시공', 'Noun'), ('의', 'Josa'), ('폭풍', 'Noun'), ('은', 'Josa'), ('정말', 'Noun'), ('최고', 'Noun'), ('야', 'Josa'), ('!', 'Punctuation')]\n"
     ]
    }
   ],
   "source": [
    "from konlpy.tag import Okt\n",
    "import konlpy.tag as morpheme\n",
    "okt = Okt()\n",
    "\n",
    "\"\"\"kkma = morpheme.Kkma()\n",
    "hanna = morpheme.Hannanum()\n",
    "komoran = morpheme.Komoran()\n",
    "\"\"\"\n",
    "\n",
    "sentence = okt.pos('시공의 폭풍은 정말 최고야!', norm=True, stem=True)\n",
    "#norm= 불필요한 언어 제거 ex)그래욬ㅋㅋ? -> 그래요\n",
    "#stem = 기본형 정리 ex)그래욬ㅋㅋ? -> 그렇다\n",
    "print(sentence)"
   ]
  },
  {
   "cell_type": "markdown",
   "metadata": {},
   "source": [
    "<img src = '../data/pic/1.PNG'>"
   ]
  },
  {
   "cell_type": "code",
   "execution_count": 14,
   "metadata": {
    "scrolled": true
   },
   "outputs": [
    {
     "data": {
      "text/plain": [
       "[('시공', 'Noun'),\n",
       " ('의', 'Josa'),\n",
       " ('폭풍', 'Noun'),\n",
       " ('은', 'Josa'),\n",
       " ('정말', 'Noun'),\n",
       " ('최고', 'Noun'),\n",
       " ('야', 'Josa'),\n",
       " ('!', 'Punctuation')]"
      ]
     },
     "execution_count": 14,
     "metadata": {},
     "output_type": "execute_result"
    }
   ],
   "source": [
    "sentence"
   ]
  },
  {
   "cell_type": "markdown",
   "metadata": {},
   "source": [
    "#### Hand's on\n",
    "다른 다양한 형태소 분석 모듈을 사용해 보세요.\n",
    "현재 한국어 분석기는 Twitter분석기 외에도\n",
    "1. 꼬꼬마: 서울대학교 분석기, 세종품사태그에 가장 근접\n",
    "2. 한나눔: KAIST 분석기\n",
    "3. 코모란: 일반개발자(Shineware, 신준수님 외)\n",
    "4. Meccab: 일반개발자(은전한닢, 유영호님 외), 현재 속도처리면에서 가장 빠름, 일본어 분석기 참조, 별도 모듈 다운로드 받아야 가능(실습제외)\n"
   ]
  },
  {
   "cell_type": "markdown",
   "metadata": {},
   "source": [
    "### 1.2 한국어 형태소 분석 라이브러리를 사용한 빈도분석\n",
    "### TASK: 소설 토지"
   ]
  },
  {
   "cell_type": "markdown",
   "metadata": {},
   "source": [
    "**1. 트레이닝 할 데이터셋을 불러온다.**"
   ]
  },
  {
   "cell_type": "code",
   "execution_count": 16,
   "metadata": {},
   "outputs": [],
   "source": [
    "import codecs\n",
    "from bs4 import BeautifulSoup\n",
    "\n",
    "#utf-16인코딩으로 파일을 열고 글자를 출력하기\n",
    "fp=codecs.open('../data/BEXX0003.txt','r',encoding='utf-16')\n",
    "soup = BeautifulSoup(fp, \"html.parser\")\n",
    "body = soup.select_one(\"body > text\")\n",
    "text = body.getText()"
   ]
  },
  {
   "cell_type": "code",
   "execution_count": 17,
   "metadata": {},
   "outputs": [
    {
     "data": {
      "text/plain": [
       "str"
      ]
     },
     "execution_count": 17,
     "metadata": {},
     "output_type": "execute_result"
    }
   ],
   "source": [
    "type(text)"
   ]
  },
  {
   "cell_type": "markdown",
   "metadata": {},
   "source": [
    "<ol start='2'>\n",
    "**<li> 텍스트를 한 줄씩 처리한다</li>**"
   ]
  },
  {
   "cell_type": "code",
   "execution_count": 18,
   "metadata": {},
   "outputs": [],
   "source": [
    "word_dic = {}#dictionary type\n",
    "lines = text.split('\\n')\n",
    "for line in lines:\n",
    "    malist = twitter.pos(line)\n",
    "    for word in malist:\n",
    "        if word[1] == \"Noun\": #  명사 확인하기\n",
    "            if not (word[0] in word_dic):\n",
    "                word_dic[word[0]] = 0\n",
    "            word_dic[word[0]] += 1 # 카운트하기    "
   ]
  },
  {
   "cell_type": "markdown",
   "metadata": {},
   "source": [
    "<ol start='3'>\n",
    "**<li> 많이 사용된 명사를 출력한다.</li>**"
   ]
  },
  {
   "cell_type": "code",
   "execution_count": 19,
   "metadata": {},
   "outputs": [
    {
     "name": "stdout",
     "output_type": "stream",
     "text": [
      "것(644) 그(554) 말(485) 안(304) 소리(196) 길(194) 용이(193) 눈(188) 놈(180) 내(174) 사람(167) 봉(165) 치수(160) 평산(160) 얼굴(156) 거(152) 네(151) 일(149) 이(148) 못(147) 댁(141) 생각(141) 때(139) 강청댁(137) 수(134) 서방(131) 집(131) 나(122) 더(120) 서희(119) 머(116) 어디(112) 마을(111) 최(110) 년(109) 김(99) 칠성(97) 구천이(96) 니(96) 뒤(91) 제(90) 날(90) 아이(88) 하나(84) 녀(83) 두(83) 참판(82) 월(82) 손(81) 임(79) "
     ]
    }
   ],
   "source": [
    "keys = sorted(word_dic.items(), key= lambda x:x[1], reverse=True)\n",
    "for word, count in keys[:50]:\n",
    "    print(\"{0}({1}) \".format(word,count), end=\"\")"
   ]
  },
  {
   "cell_type": "markdown",
   "metadata": {},
   "source": [
    "## Summerize\n",
    "\n",
    "**한국어 분석에서 형태소 분석이 가지는 위치**\n",
    "\n",
    "**파이썬에서 KoNLP를 사용해 한국어 형태소 분석이 가능함**"
   ]
  }
 ],
 "metadata": {
  "kernelspec": {
   "display_name": "Python 3",
   "language": "python",
   "name": "python3"
  },
  "language_info": {
   "codemirror_mode": {
    "name": "ipython",
    "version": 3
   },
   "file_extension": ".py",
   "mimetype": "text/x-python",
   "name": "python",
   "nbconvert_exporter": "python",
   "pygments_lexer": "ipython3",
   "version": "3.7.7"
  }
 },
 "nbformat": 4,
 "nbformat_minor": 4
}

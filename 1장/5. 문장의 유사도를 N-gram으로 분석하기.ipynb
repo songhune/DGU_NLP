{
 "cells": [
  {
   "cell_type": "markdown",
   "metadata": {},
   "source": [
    "# How To Use NLP"
   ]
  },
  {
   "cell_type": "markdown",
   "metadata": {},
   "source": [
    "## 5. 문장의 유사도 분석하기"
   ]
  },
  {
   "cell_type": "markdown",
   "metadata": {},
   "source": [
    "### 5.1 문장의 유사도 분석"
   ]
  },
  {
   "cell_type": "markdown",
   "metadata": {},
   "source": [
    "### 5.2 Lvenshtein Distance"
   ]
  },
  {
   "cell_type": "code",
   "execution_count": 6,
   "metadata": {},
   "outputs": [],
   "source": [
    "def calc_lvenshtein(a,b):\n",
    "    #레벤슈타인 거리 계산하기\n",
    "    if a ==b:\n",
    "        return 0\n",
    "    a_len=len(a)\n",
    "    b_len=len(b)\n",
    "    if a == \"\": return b_len\n",
    "    if b == \"\": return a_len\n",
    "    \n",
    "    \n",
    "    # 2차원 표 (a_len+1, b_len+1) 준비하기 \n",
    "    matrix = [[] for i in range(a_len+1)]\n",
    "    for i in range(a_len+1): # 0으로 초기화\n",
    "        matrix[i] = [0 for j in range(b_len+1)]\n",
    "    # 0일 때 초깃값을 설정\n",
    "    for i in range(a_len+1):\n",
    "        matrix[i][0] = i\n",
    "    for j in range(b_len+1):\n",
    "        matrix[0][j] = j\n",
    "    # 표 채우기 --- (※2)\n",
    "    for i in range(1, a_len+1):\n",
    "        ac = a[i-1]\n",
    "        for j in range(1, b_len+1):\n",
    "            bc = b[j-1]\n",
    "            cost = 0 if (ac == bc) else 1\n",
    "            matrix[i][j] = min([\n",
    "                matrix[i-1][j] + 1,     # 문자 삽입\n",
    "                matrix[i][j-1] + 1,     # 문자 제거\n",
    "                matrix[i-1][j-1] + cost # 문자 변경\n",
    "            ])\n",
    "    return matrix[a_len][b_len]"
   ]
  },
  {
   "cell_type": "markdown",
   "metadata": {},
   "source": [
    "### 5.3 Lvenshtein Distance in Python"
   ]
  },
  {
   "cell_type": "code",
   "execution_count": 10,
   "metadata": {},
   "outputs": [
    {
     "name": "stdout",
     "output_type": "stream",
     "text": [
      "2\n"
     ]
    }
   ],
   "source": [
    "# \"가나다라\"와 \"가마바라\"의 거리\n",
    "print(calc_lvenshtein(\"가나다라\",\"가마바라\"))"
   ]
  },
  {
   "cell_type": "markdown",
   "metadata": {},
   "source": [
    "| i/j | . | 가 | 나 | 다 | 라 |\n",
    "|-----|---|----|----|----|----|\n",
    "| .   | 0 | 1  | 2  | 3  | 4  |\n",
    "| 가  | 1 | 0  | 1  | 2  | 3  |\n",
    "| **마**  | 2 | 1  | 1  | 2  | 3  |\n",
    "| **바**  | 3 | 2  | 2  | 2  | 3  |\n",
    "| 라  | 4 | 3  | 3  | 3  | **2**  |"
   ]
  },
  {
   "cell_type": "code",
   "execution_count": 12,
   "metadata": {},
   "outputs": [
    {
     "name": "stdout",
     "output_type": "stream",
     "text": [
      "0 신촌역\n",
      "1 신천역\n",
      "2 신천군\n",
      "2 신발\n",
      "2 마곡역\n"
     ]
    }
   ],
   "source": [
    "# 실제 예시\n",
    "samples = [\"신촌역\",\"신천군\",\"신천역\",\"신발\",\"마곡역\"]\n",
    "base = samples[0] ##신촌역\n",
    "r = sorted(samples, key = lambda n: calc_lvenshtein(base, n))\n",
    "for n in r:\n",
    "    print(calc_lvenshtein(base, n), n)\n",
    "    "
   ]
  },
  {
   "cell_type": "markdown",
   "metadata": {},
   "source": [
    "### 5.4 N-gram 유사도 구하기"
   ]
  },
  {
   "cell_type": "code",
   "execution_count": 13,
   "metadata": {},
   "outputs": [],
   "source": [
    "#N-gram\n",
    "def ngram(s, num):\n",
    "    resource = []\n",
    "    sentence_len = len(s) - num + 1\n",
    "    for i in range(sentence_len):\n",
    "        ss = s[i:i+num]\n",
    "        resource.append(ss)\n",
    "    return resource"
   ]
  },
  {
   "cell_type": "code",
   "execution_count": 17,
   "metadata": {},
   "outputs": [],
   "source": [
    "#differnce calculation\n",
    "def diff_ngram(sa, sb, dis):\n",
    "    a = ngram(sa, dis)\n",
    "    b = ngram(sb, dis)\n",
    "    r = []\n",
    "    count = 0\n",
    "    for i in a:\n",
    "        for j in b:\n",
    "            if i == j:\n",
    "                count += 1\n",
    "                r.append(i)\n",
    "    return count / len(a), r"
   ]
  },
  {
   "cell_type": "markdown",
   "metadata": {},
   "source": [
    "#### 5.5 N-gram in python"
   ]
  },
  {
   "cell_type": "code",
   "execution_count": 19,
   "metadata": {},
   "outputs": [
    {
     "name": "stdout",
     "output_type": "stream",
     "text": [
      "2-gram: 유사도: 0.7619047619047619 ['오늘', '강남', '남에', '에서', '서 ', ' 맛', '맛있', '는 ', ' 스', '스파', '파게', '게티', ' 먹', '먹었', '었다', '다.']\n",
      "3-gram: 0.45 ['강남에', '남에서', '에서 ', ' 맛있', ' 스파', '스파게', '파게티', ' 먹었', '었다.']\n"
     ]
    }
   ],
   "source": [
    "a = \"오늘 강남에서 맛있는 스파게티를 먹었다.\"\n",
    "b = \"강남에서 먹었던 오늘의 스파게티는 맛있었다.\"\n",
    "# bi-gram\n",
    "r2, word2 = diff_ngram(a, b, 2)\n",
    "print(\"2-gram:\", \"유사도:\",r2, word2)\n",
    "# tri-gram\n",
    "r3, word3  = diff_ngram(a, b, 3)\n",
    "print(\"3-gram:\", r3, word3)"
   ]
  },
  {
   "cell_type": "markdown",
   "metadata": {},
   "source": [
    "### summerize\n",
    "텍스트 유사도를 Lvenshtein distance나 N-gram을 바탕으로 확인할 수 있다.  "
   ]
  }
 ],
 "metadata": {
  "kernelspec": {
   "display_name": "Python 3",
   "language": "python",
   "name": "python3"
  },
  "language_info": {
   "codemirror_mode": {
    "name": "ipython",
    "version": 3
   },
   "file_extension": ".py",
   "mimetype": "text/x-python",
   "name": "python",
   "nbconvert_exporter": "python",
   "pygments_lexer": "ipython3",
   "version": "3.7.7"
  }
 },
 "nbformat": 4,
 "nbformat_minor": 4
}
